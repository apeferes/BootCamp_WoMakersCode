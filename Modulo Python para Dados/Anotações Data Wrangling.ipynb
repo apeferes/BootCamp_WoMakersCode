{
 "cells": [
  {
   "cell_type": "markdown",
   "metadata": {},
   "source": [
    "# Data Wrangling com Python\n",
    "\n",
    "# Parte 1\n",
    "\n",
    "https://import.cdn.thinkific.com/401289/c9GxZuBgRgShMKl8ETEO_-Slides-%20-%20Python%20para%20dados%20-%20Data%20Wrangling.pdf\n",
    "\n",
    "https://import.cdn.thinkific.com/401289/agYlMcLQEq88g0sYsf1J_-Notebook-_Python_para_Dados_Data_Wrangling.ipynb"
   ]
  },
  {
   "cell_type": "markdown",
   "metadata": {},
   "source": [
    "## O que é?\n",
    "\n",
    "- Exploração\n",
    "- Limpeza\n",
    "- Transformação\n",
    "- Análise (modelos de ML, dashboard)\n",
    "\n",
    "É um componente chave de qualquer projeto de análise de dados. Wrangling é um processo no qual se transforma dados \"brutos\" para torná-los mais adequados para análise, melhorando assim a qualidade dos seus dados.\n",
    "\n",
    "Em português, pode ser traduzido como \"manipulação de dados\" ou \"tratamento de dados\". Trata- se de preparar os dados para que possam ser facilmente explorados e analisados."
   ]
  },
  {
   "cell_type": "markdown",
   "metadata": {},
   "source": [
    "## Exploração e coleta de dados\n",
    "\n",
    "### Exploração e coleta de dados\n",
    "\n",
    "Coletamos dados de diferentes fontes e é necessário checá-las antes.\n",
    "Normalmente em um projeto nós temos a fonte de dados disponível, mas em outros ainda temos que buscar essa informação e checar a qualidade desse dado, como a fonte.\n",
    "\n",
    "Exploração de Dados: Verificação dos tipos de dados das características, "
   ]
  },
  {
   "cell_type": "markdown",
   "metadata": {},
   "source": [
    "## Limpeza\n",
    "\n",
    "### Por que precisamos limpar dados?\n",
    "\n",
    "- Qualidade\n",
    "- Consistência\n",
    "- Integridade\n",
    "- Padronização\n",
    "- Melhor precisão\n",
    "- Melhor eficiência\n",
    "- Prevenção de viés\n",
    "- Conformidade com regulamentação\n",
    "\n",
    "### Manipulando o dataframe para limpeza\n",
    "\n",
    "- rfewr - werwerwe\n",
    "- werwer - werwerw\n",
    "\n",
    "### Manipulando o dataframe para limpeza\n",
    "\n",
    "- Removendo colunas e linhas\n",
    "\n",
    "O pandas oferece uma maneira prática de remover colunas ou linhas indesejadas de um\n",
    "DataFrame com a função drop().\n",
    "\n",
    "- Mudando index\n",
    "\n",
    "Em muitos casos, é útil utilizar um campo de identificação com valores únicos nos dados\n",
    "como seu índice.\n",
    "\n",
    "- Removendo duplicados\n",
    "\n",
    "### Lidando com dados faltosos (missing data)\n",
    "\n",
    "Lidar com dados ausentes em um DataFrame é uma parte essencial do processo de análise de dados. A escolha da estratégia de lidar com dados ausentes depende do contexto específico do seu conjunto de dados e do impacto potencial nas análises.\n",
    "\n",
    "\n",
    "- Identificar Dados Ausentes: antes de lidar com dados ausentes, é importante identific-a-los. Utilize o método df.isna() para identificar células com valores nulos.\n",
    "\n",
    "- Remover Dados Ausentes: se a quantidade de dados ausentes for pequena e não comprometer a analise, voce pode optar por remover as linhas ou colunas correspondentes.\n",
    "\n",
    "- Preencher Dados Ausentes: preencher valores ausentes pode ser feito utilizando o método fillna(), onde você pode especificar um valor constante ou usar métodos de preenchimento mais avançados, como preenchimento pela média ou mediana.\n",
    "\n",
    "- Imputação Estatística: outra abordagem é a imputação estatística, onde você preenche valores ausentes com base em modelos estatísticos."
   ]
  },
  {
   "cell_type": "markdown",
   "metadata": {},
   "source": [
    "## Transformação\n",
    "\n",
    "### Várias transformações podem ser aplicadas aos dados\n",
    "\n",
    "1 - Tratamento de Valores Ausentes: Preencher ou remover valores ausentes para evitar problemas durante a análise.\n",
    "\n",
    "2 - Codificação de Variáveis Categóricas: Converter variáveis categóricas em uma forma numérica, como one-hot encoding, para que possam ser utilizadas em algoritmos de machine learning.\n",
    "\n",
    "3 - Normalização ou Padronização: Escalar valores numéricos para uma escala comum, como normalização (escala de 0 a 1) ou padronização (média 0, desvio padrão 1).\n",
    "\n",
    "4 - Conversão de Tipos de Dados: Garantir que os tipos de dados das colunas estão corretos para a análise, convertendo strings em datas, números inteiros, etc.\n",
    "\n",
    "5 - Remoção de Dados Duplicados: Identificar e remover entradas duplicadas que podem prejudicar a precisão da análise.\n",
    "\n",
    "6 - Agregação de Dados: Agrupar dados com base em determinadas\n",
    "características e calcular estatísticas agregadas, como média, soma, mínimo ou máximo.\n",
    "\n",
    "7 - Criação de Novas Variáveis (Feature Engineering): Criar novas variáveis que podem ser mais informativas para a análise, como calcular a idade a partir da data de nascimento.\n",
    "\n",
    "8 - Divisão de Dados: Separar conjuntos de dados em subconjuntos com base em condições específicas.\n",
    "\n",
    "9 - Renomeação de Colunas: Modificar os nomes das colunas para torná-los mais descritivos e compreensíveis.\n",
    "\n",
    "10 - Mudança do Formato do DataFrame: Reorganizar ou pivotar o DataFrame para facilitar a análise ou a criação de visualizações."
   ]
  },
  {
   "cell_type": "markdown",
   "metadata": {},
   "source": [
    "# Parte 2\n",
    "\n",
    "## Hora de Praticar"
   ]
  },
  {
   "cell_type": "code",
   "execution_count": null,
   "metadata": {},
   "outputs": [],
   "source": [
    "import pandas as pd"
   ]
  },
  {
   "cell_type": "code",
   "execution_count": null,
   "metadata": {},
   "outputs": [],
   "source": [
    "df = pd.read_csv(\"collected research people.csv\")\n",
    "\n",
    "df.head()"
   ]
  },
  {
   "cell_type": "code",
   "execution_count": null,
   "metadata": {},
   "outputs": [],
   "source": [
    "df['Unnamed: 0']"
   ]
  },
  {
   "cell_type": "code",
   "execution_count": null,
   "metadata": {},
   "outputs": [],
   "source": [
    "df = df.drop(columns=['Unnamed: 0'])\n",
    "df.head()"
   ]
  },
  {
   "cell_type": "code",
   "execution_count": null,
   "metadata": {},
   "outputs": [],
   "source": [
    "novas_cols = {'Endereco' : 'Endereço',\n",
    "              'phone' : 'Telefone',\n",
    "              'anual_income' : 'Salário Anual',\n",
    "              'AAge' : 'Idade',\n",
    "              'n_filhos' : 'Número de Filhos',\n",
    "              'Food_restrictions' : 'Restrições Alimentares',\n",
    "              'streaming' : 'Streaming',\n",
    "              'diariamente_sun blocker' : 'Uso de Protetor Solar',\n",
    "              'email' : 'e-mail'}\n",
    "\n",
    "df.rename(columns=novas_cols, inplace=True)\n",
    "\n",
    "df.head()"
   ]
  },
  {
   "cell_type": "code",
   "execution_count": null,
   "metadata": {},
   "outputs": [],
   "source": [
    "df.Nome"
   ]
  },
  {
   "cell_type": "markdown",
   "metadata": {},
   "source": [
    "Os caracteres que são correspondidos pelo padrão \\W em expressões regulares:\n",
    "\n",
    "- Espaços em branco (por exemplo, espaço, tabulação, quebra de linha)\n",
    "- Pontuações (por exemplo, ponto, vírgula, ponto e vírgula)\n",
    "- Símbolos (por exemplo, @, #, $)\n",
    "- Caracteres especiais (por exemplo, *, &, %)"
   ]
  },
  {
   "cell_type": "code",
   "execution_count": null,
   "metadata": {},
   "outputs": [],
   "source": [
    "df.Nome.str.replace('\\W', '')"
   ]
  },
  {
   "cell_type": "code",
   "execution_count": null,
   "metadata": {},
   "outputs": [],
   "source": [
    "df.Nome.str.replace('\\W', '') == df.Nome.str.replace('[^a-zA-Zà-úÀ-Ú0-9_]', '')"
   ]
  },
  {
   "cell_type": "code",
   "execution_count": null,
   "metadata": {},
   "outputs": [],
   "source": [
    "df.Nome.str.replace('[^a-zA-Zà-úÀ-Ú0-9 ]', '')"
   ]
  },
  {
   "cell_type": "code",
   "execution_count": null,
   "metadata": {},
   "outputs": [],
   "source": [
    "df.Telefone = df.Telefone.str.replace('[0-9 ()-+]', '*')"
   ]
  },
  {
   "cell_type": "code",
   "execution_count": null,
   "metadata": {},
   "outputs": [],
   "source": [
    "import numpy as np"
   ]
  },
  {
   "cell_type": "code",
   "execution_count": null,
   "metadata": {},
   "outputs": [],
   "source": [
    "df.loc[df.Telefone.str.contains('[*]', na=False), 'Telefone'] = np.nan"
   ]
  },
  {
   "cell_type": "code",
   "execution_count": null,
   "metadata": {},
   "outputs": [],
   "source": [
    "df.Telefone.str.contains('[*]', na=False)"
   ]
  },
  {
   "cell_type": "code",
   "execution_count": null,
   "metadata": {},
   "outputs": [],
   "source": [
    "df.Telefone"
   ]
  },
  {
   "cell_type": "code",
   "execution_count": null,
   "metadata": {},
   "outputs": [],
   "source": [
    "df['Estado Civil']"
   ]
  },
  {
   "cell_type": "code",
   "execution_count": null,
   "metadata": {},
   "outputs": [],
   "source": [
    "df['Estado Civil'] = df['Estado Civil'].replace({'S' : 'Solteiro',\n",
    "                            'C' : 'Casado',\n",
    "                            'D' : 'Divorciado',\n",
    "                            'V' : 'Viúvo',\n",
    "                            'ViÃºvo' : 'Viúvo'})"
   ]
  },
  {
   "cell_type": "code",
   "execution_count": null,
   "metadata": {},
   "outputs": [],
   "source": [
    "df['Estado Civil']"
   ]
  },
  {
   "cell_type": "markdown",
   "metadata": {},
   "source": [
    "### Cenário 1\n",
    "\n",
    "A empresa Carri Construtora contratou a empresa que você trabalha\n",
    "para encontrar possíveis compradores para o seus novos empreendimentos.\n",
    "A empresa quer entender as necessidades dos clientes, e quer informações com:\n",
    "\n",
    "- Quais cliente devemos abordar;\n",
    "- Qual empreendimento nós devemos mostrá-los;\n",
    "- Esse cliente está em busca de investir em um imóvel ou comprar para moradia?"
   ]
  },
  {
   "cell_type": "code",
   "execution_count": null,
   "metadata": {},
   "outputs": [],
   "source": [
    "df.head()"
   ]
  },
  {
   "cell_type": "code",
   "execution_count": null,
   "metadata": {},
   "outputs": [],
   "source": [
    "df_carri = df.copy()"
   ]
  },
  {
   "cell_type": "code",
   "execution_count": null,
   "metadata": {},
   "outputs": [],
   "source": [
    "# Não funcionou\n",
    "\n",
    "df_carri = ['Restrições Alimentares',\n",
    "           'Streaming',\n",
    "           'Uso de Protetor Solar',\n",
    "           'Compra e le Livros Todos os Anos',\n",
    "           'Quantidade de Livros Comprados',\n",
    "           'Autor Favorito']\n",
    "\n",
    "df_carri.drop(columns=df_carri, inplace=True)"
   ]
  },
  {
   "cell_type": "code",
   "execution_count": null,
   "metadata": {},
   "outputs": [],
   "source": [
    "import pandas as pd\n",
    "\n",
    "# Supondo que df_carri seja o DataFrame que você deseja modificar\n",
    "df_carri_del = pd.DataFrame({\n",
    "    'Restrições Alimentares': [],\n",
    "    'Streaming': [],\n",
    "    'Uso de Protetor Solar': [],\n",
    "    'Compra e le Livros Todos os Anos': [],\n",
    "    'Quantidade de Livros Comprados': [],\n",
    "    'Autor Favorito': []\n",
    "})\n",
    "\n",
    "# Remove todas as colunas\n",
    "df.carri = df_carri.drop(df_carri_del.columns, axis=1, inplace=True)\n"
   ]
  },
  {
   "cell_type": "code",
   "execution_count": null,
   "metadata": {},
   "outputs": [],
   "source": [
    "# Vamos descobrir quantas pessoas são elegíveis para a minha casa minha vida\n",
    "\n",
    "renda_anual_mcmv = 8*13\n",
    "renda_anual_mcmv"
   ]
  },
  {
   "cell_type": "code",
   "execution_count": null,
   "metadata": {},
   "outputs": [],
   "source": [
    "df_carri.describe()"
   ]
  },
  {
   "cell_type": "code",
   "execution_count": null,
   "metadata": {},
   "outputs": [],
   "source": [
    "df_carri['Minha casa minha vida'] = True"
   ]
  },
  {
   "cell_type": "code",
   "execution_count": null,
   "metadata": {},
   "outputs": [],
   "source": [
    "df_carri.head()"
   ]
  },
  {
   "cell_type": "code",
   "execution_count": null,
   "metadata": {},
   "outputs": [],
   "source": [
    "np.where((df_carri.Moradia == 'Quitada') | (df_carri.Moradia == 'Financiamento'), True, False)"
   ]
  },
  {
   "cell_type": "code",
   "execution_count": null,
   "metadata": {},
   "outputs": [],
   "source": [
    "df_carri['Investimento'] = np.where((df_carri.Moradia == 'Quitada') | (df_carri.Moradia == 'Financiamento'), True, False)"
   ]
  },
  {
   "cell_type": "code",
   "execution_count": null,
   "metadata": {},
   "outputs": [],
   "source": [
    "df_carri.head()"
   ]
  },
  {
   "cell_type": "markdown",
   "metadata": {},
   "source": [
    "### Cenário 2\n",
    "\n",
    "Uma empresa chamada Hillo, é uma empresa que está estudando o mercado e quer encontrar uma parceria com uma empresa de Streeming (netflix, Disney plus etc), mas gostaria de saber quais as empresas dariam o maior retorno de investimento.\n",
    "\n",
    "Eles podem fazer análise de machine learning também com esses dados."
   ]
  },
  {
   "cell_type": "code",
   "execution_count": null,
   "metadata": {},
   "outputs": [],
   "source": [
    "df_hillo = df.copy()\n",
    "\n",
    "df_hillo.head()"
   ]
  },
  {
   "cell_type": "code",
   "execution_count": null,
   "metadata": {},
   "outputs": [],
   "source": [
    "df_hillo = df_hillo.drop(columns=['Moradia',\n",
    "                                  'Restrições Alimentares',\n",
    "                                  'Uso de Protetor Solar',\n",
    "                                  'Vai na Praia Mensalmente',\n",
    "                                  'Faz Academia',\n",
    "                                  'Compra e le Livros Todos os Anos',\n",
    "                                  'Quantidade de Livros Comprados',\n",
    "                                  'Autor Favorito'\n",
    "])"
   ]
  },
  {
   "cell_type": "code",
   "execution_count": null,
   "metadata": {},
   "outputs": [],
   "source": [
    "df_hillo.head()"
   ]
  },
  {
   "cell_type": "code",
   "execution_count": null,
   "metadata": {},
   "outputs": [],
   "source": [
    "df_hillo['Estado Civil'].str.get_dummies()"
   ]
  },
  {
   "cell_type": "code",
   "execution_count": null,
   "metadata": {},
   "outputs": [],
   "source": [
    "df_hillo['Streaming']"
   ]
  },
  {
   "cell_type": "code",
   "execution_count": null,
   "metadata": {},
   "outputs": [],
   "source": [
    "df_hillo['Streaming'].str.get_dummies(sep=' e ')"
   ]
  },
  {
   "cell_type": "code",
   "execution_count": null,
   "metadata": {},
   "outputs": [],
   "source": [
    "df_hillo['Streaming'] = df_hillo['Streaming'].replace({'Todos': 'Globo Play e Netflix e HBO e Disney Plus e Crunchyroll'})"
   ]
  },
  {
   "cell_type": "code",
   "execution_count": null,
   "metadata": {},
   "outputs": [],
   "source": [
    "df_hillo['Streaming'].str.get_dummies(sep=' e ')"
   ]
  },
  {
   "cell_type": "code",
   "execution_count": null,
   "metadata": {},
   "outputs": [],
   "source": [
    "df_hillo['Streaming'] = df_hillo['Streaming'].replace({'Netflix e Disney': 'Netflix e Disney Plus'})"
   ]
  },
  {
   "cell_type": "code",
   "execution_count": null,
   "metadata": {},
   "outputs": [],
   "source": [
    "df_hillo['Streaming'].str.get_dummies(sep=' e ')"
   ]
  },
  {
   "cell_type": "code",
   "execution_count": null,
   "metadata": {},
   "outputs": [],
   "source": [
    "df_hillo_stream = df_hillo['Streaming'].str.get_dummies(sep=' e ')"
   ]
  },
  {
   "cell_type": "code",
   "execution_count": null,
   "metadata": {},
   "outputs": [],
   "source": [
    "df_hillo = pd.concat([df_hillo, df_hillo_stream], axis=1)"
   ]
  },
  {
   "cell_type": "code",
   "execution_count": null,
   "metadata": {},
   "outputs": [],
   "source": [
    "df_hillo.head()"
   ]
  },
  {
   "cell_type": "markdown",
   "metadata": {},
   "source": [
    "### Cenário 3\n",
    "\n",
    "Uma influenciadora digital de bem estar gostaria de analisar possíveis empreendimentos dentro de diferentes propostas que recebe. \n",
    "\n",
    "Essas propostas podem ser excludentes ou somatórias."
   ]
  },
  {
   "cell_type": "code",
   "execution_count": null,
   "metadata": {},
   "outputs": [],
   "source": [
    "df.columns"
   ]
  },
  {
   "cell_type": "code",
   "execution_count": null,
   "metadata": {},
   "outputs": [],
   "source": [
    "df_inf = df.copy()\n",
    "\n",
    "df_inf = df_inf.drop(columns=['Streaming', 'Moradia'])"
   ]
  },
  {
   "cell_type": "code",
   "execution_count": null,
   "metadata": {},
   "outputs": [],
   "source": [
    "df_inf.head()"
   ]
  },
  {
   "cell_type": "code",
   "execution_count": null,
   "metadata": {},
   "outputs": [],
   "source": [
    "df_inf['Restrições Alimentares'].str.get_dummies(sep=' e ').drop(columns=['Nenhuma'])"
   ]
  },
  {
   "cell_type": "code",
   "execution_count": null,
   "metadata": {},
   "outputs": [],
   "source": [
    "# df_inf['Restrições Alimentares'] = df_inf['Restrições Alimentares'].replace({'GlÃºten' : 'Glúten'})"
   ]
  },
  {
   "cell_type": "code",
   "execution_count": null,
   "metadata": {},
   "outputs": [],
   "source": [
    "restricao = df_inf['Restrições Alimentares'].str.get_dummies(sep=' e ').drop(columns=['Nenhuma'])"
   ]
  },
  {
   "cell_type": "code",
   "execution_count": null,
   "metadata": {},
   "outputs": [],
   "source": [
    "df_inf = pd.concat([df_inf, restricao], axis=1)"
   ]
  },
  {
   "cell_type": "code",
   "execution_count": null,
   "metadata": {},
   "outputs": [],
   "source": [
    "df_inf.head()"
   ]
  },
  {
   "cell_type": "code",
   "execution_count": null,
   "metadata": {},
   "outputs": [],
   "source": [
    "df_inf['Idoso'] = np.where(df_inf.Idade>=60,True,False)"
   ]
  },
  {
   "cell_type": "code",
   "execution_count": null,
   "metadata": {},
   "outputs": [],
   "source": [
    "df_inf.head()"
   ]
  }
 ],
 "metadata": {
  "kernelspec": {
   "display_name": "Python 3",
   "language": "python",
   "name": "python3"
  },
  "language_info": {
   "codemirror_mode": {
    "name": "ipython",
    "version": 3
   },
   "file_extension": ".py",
   "mimetype": "text/x-python",
   "name": "python",
   "nbconvert_exporter": "python",
   "pygments_lexer": "ipython3",
   "version": "3.9.6"
  }
 },
 "nbformat": 4,
 "nbformat_minor": 2
}
