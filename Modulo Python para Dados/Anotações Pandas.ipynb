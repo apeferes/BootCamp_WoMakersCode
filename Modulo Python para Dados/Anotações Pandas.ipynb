{
 "cells": [
  {
   "cell_type": "markdown",
   "metadata": {},
   "source": [
    "# Pandas"
   ]
  },
  {
   "cell_type": "code",
   "execution_count": null,
   "metadata": {},
   "outputs": [],
   "source": [
    "# Notebook - Python para Dados - Pandas\n",
    "\n",
    "{\n",
    "  \"nbformat\": 4,\n",
    "  \"nbformat_minor\": 0,\n",
    "  \"metadata\": {\n",
    "    \"colab\": {\n",
    "      \"provenance\": []\n",
    "    },\n",
    "    \"kernelspec\": {\n",
    "      \"name\": \"python3\",\n",
    "      \"display_name\": \"Python 3\"\n",
    "    },\n",
    "    \"language_info\": {\n",
    "      \"name\": \"python\"\n",
    "    }\n",
    "  },\n",
    "  \"cells\": [\n",
    "    {\n",
    "      \"cell_type\": \"markdown\",\n",
    "      \"source\": [],\n",
    "      \"metadata\": {\n",
    "        \"id\": \"q6jwYtS4EWUS\"\n",
    "      }\n",
    "    },\n",
    "    {\n",
    "      \"cell_type\": \"code\",\n",
    "      \"execution_count\": null,\n",
    "      \"metadata\": {\n",
    "        \"id\": \"SgyliYAfC5iZ\"\n",
    "      },\n",
    "      \"outputs\": [],\n",
    "      \"source\": [\n",
    "        \"import pandas as pd\"\n",
    "      ]\n",
    "    },\n",
    "    {\n",
    "      \"cell_type\": \"markdown\",\n",
    "      \"source\": [\n",
    "        \"# Dataframe e ordenaÃ§Ã£o\\n\",\n",
    "        \"\\n\",\n",
    "        \"**Utilizando o arquivo: carros.csv**\\n\",\n",
    "        \"\\n\",\n",
    "        \"1. FaÃ§a o upload do CSV carros.csv\\n\",\n",
    "        \"2. Print seu head com 10 linhas\\n\",\n",
    "        \"3. Agora print as colunas e index do dataframe\\n\",\n",
    "        \"4. FaÃ§a um sort decrescente no dataframe pelo estado com maior quantidade de carros\\n\",\n",
    "        \"5. Descubra qual a proporÃ§Ã£o de carro para a populaÃ§Ã£o de cada estado e insira em uma nova coluna\\n\",\n",
    "        \"6. FaÃ§a um dataframe com Estado e proporÃ§Ã£o de carro por habitante\"\n",
    "      ],\n",
    "      \"metadata\": {\n",
    "        \"id\": \"OnDUKrRQDCW0\"\n",
    "      }\n",
    "    },\n",
    "    {\n",
    "      \"cell_type\": \"code\",\n",
    "      \"source\": [],\n",
    "      \"metadata\": {\n",
    "        \"id\": \"WZFMmO6ZDDpb\"\n",
    "      },\n",
    "      \"execution_count\": null,\n",
    "      \"outputs\": []\n",
    "    },\n",
    "    {\n",
    "      \"cell_type\": \"markdown\",\n",
    "      \"source\": [\n",
    "        \"# AgregaÃ§Ã£o de dados\\n\",\n",
    "        \"\\n\",\n",
    "        \"**Utilizando o arquivos: concurso.csv**\\n\",\n",
    "        \"7. Qual a mÃ©dia de idade por regiÃ£o?\\n\",\n",
    "        \"8. Qual Ã© a porcentagem de pessoas com deficiÃªncia?\\n\",\n",
    "        \"9. Quantas pessoas sÃ£o do estado do PiauÃ­?\\n\"\n",
    "      ],\n",
    "      \"metadata\": {\n",
    "        \"id\": \"lI0ZyKu9DD-_\"\n",
    "      }\n",
    "    },\n",
    "    {\n",
    "      \"cell_type\": \"code\",\n",
    "      \"source\": [],\n",
    "      \"metadata\": {\n",
    "        \"id\": \"07H8lbCHDDv3\"\n",
    "      },\n",
    "      \"execution_count\": null,\n",
    "      \"outputs\": []\n",
    "    },\n",
    "    {\n",
    "      \"cell_type\": \"markdown\",\n",
    "      \"source\": [\n",
    "        \"# IndexaÃ§Ã£o e fatiamento\\n\",\n",
    "        \"\\n\",\n",
    "        \"**Utilizando o arquivos: concurso.csv**\\n\",\n",
    "        \"\\n\",\n",
    "        \"Temos como base inscriÃ§Ãµes em um concurso pÃºblico, utilizando indexaÃ§Ã£o retorne:\\n\",\n",
    "        \"10. Quantas pessoas sÃ£o do estado do PiauÃ­?\\n\",\n",
    "        \"11. Quantas do ES sÃ£o so sexo feminino?\\n\",\n",
    "        \"12. Quantas pessoas nasceram antes de 1995?\\n\",\n",
    "        \"\\n\",\n",
    "        \"13. Retorne os dados dos incritos com as colunas: nÂº inscriÃ§Ã£o, nome e idade.\\n\",\n",
    "        \"\\n\"\n",
    "      ],\n",
    "      \"metadata\": {\n",
    "        \"id\": \"fzcX5qBZGn2X\"\n",
    "      }\n",
    "    },\n",
    "    {\n",
    "      \"cell_type\": \"code\",\n",
    "      \"source\": [],\n",
    "      \"metadata\": {\n",
    "        \"id\": \"igt5TWV5GpL8\"\n",
    "      },\n",
    "      \"execution_count\": null,\n",
    "      \"outputs\": []\n",
    "    },\n",
    "    {\n",
    "      \"cell_type\": \"markdown\",\n",
    "      \"source\": [\n",
    "        \"# Valores faltosos\\n\",\n",
    "        \"\\n\",\n",
    "        \"14. Para os valores faltosos coloque:\\n\",\n",
    "        \"- Se string: Falta informaÃ§Ã£o\\n\",\n",
    "        \"- Se nÃºmero: mediana\\n\",\n",
    "        \"15. Plote a porcentagem de dados faltosos para cada coluna.\"\n",
    "      ],\n",
    "      \"metadata\": {\n",
    "        \"id\": \"oont0KrSGylE\"\n",
    "      }\n",
    "    },\n",
    "    {\n",
    "      \"cell_type\": \"code\",\n",
    "      \"source\": [],\n",
    "      \"metadata\": {\n",
    "        \"id\": \"c6UTB_hTHEbi\"\n",
    "      },\n",
    "      \"execution_count\": null,\n",
    "      \"outputs\": []\n",
    "    }\n",
    "  ]\n",
    "}"
   ]
  },
  {
   "cell_type": "markdown",
   "metadata": {},
   "source": [
    "## Parte 1"
   ]
  },
  {
   "cell_type": "markdown",
   "metadata": {},
   "source": [
    "### O que é pandas?\n",
    "\n",
    "O pandas, um pacote Python dedicado à manipulação de dados, também possuí funcionalidades para a visualização de dados. Sua estrutura é fundamentada em dois pacotes essenciais do Python: NumPy e Matplotlib. Enquanto o NumPy oferece objetos de matriz multidimensional para facilitar a manipulação de dados, o Matplotlib proporciona ao pandas capacidades robustas de visualização de dados.\n",
    "Com uma ampla base de usuários, o pandas registrou aproximadamente 14 milhões de downloads no PyPi em dezembro de 2019. Essa cifra representa praticamente toda a comunidade de ciência de dados em Python!"
   ]
  },
  {
   "cell_type": "markdown",
   "metadata": {},
   "source": [
    "### O que será estudado?\n",
    "\n",
    "Introdução ao DataFrames:\n",
    "\n",
    "• DataFrames são o coração do pandas.\n",
    "Agregação de Dados para Insights:\n",
    "• Discussão sobre como combinar dados para uma compreensão mais\n",
    "aprofundada.\n",
    "Fatiamento e Indexação para Subconjuntos de DataFrames:\n",
    "• Exploração de técnicas para extrair partes específicas dos DataFrames por meio de fatiamento e indexação.\n",
    "Visualização, Tratamento de Dados Ausentes e Leitura de Dados:\n",
    "• Aprendizado sobre a visualização de dados.\n",
    "• Lidar com a ausência de dados.\n",
    "• Ler dados e incorporá-los em um DataFrame."
   ]
  },
  {
   "cell_type": "markdown",
   "metadata": {},
   "source": [
    "## Introdução a DataFrames\n",
    "\n",
    "### Formato de dados\n",
    " \n",
    " Guardar informações pode ser feito de muitas maneiras, mas a mais comum é como uma tabela, que chamamos de \"dados retangulares\" ou \"dados tabulares\". Vamos imaginar isso como uma folha de papel dividida em linhas e colunas. No exemplo dos cachorros, cada cachorro é uma linha, e as coisas diferentes sobre eles, como nome e cor, são colunas."
   ]
  },
  {
   "cell_type": "markdown",
   "metadata": {},
   "source": [
    "## Criando um DataFrame\n",
    "\n",
    "### Utilizando listas e dicionários\n",
    "\n",
    "Podemos criar dataframes de várias formas, uma das mais simples é utilizando dicionários e listas:"
   ]
  },
  {
   "cell_type": "code",
   "execution_count": null,
   "metadata": {},
   "outputs": [],
   "source": [
    "dados = {\n",
    "    'Nome': ['Max', 'Bella', 'Rocky', 'Luna'],\n",
    "    'Raça': ['Labrador', 'Poodle', 'Boxer', 'Golden Retriever'],\n",
    "    'Cor': ['Amarelo', 'Branco', 'Marrom', 'Dourado'],\n",
    "    'Peso (kg)': [60,35,65,55],\n",
    "    'Altura (cm)': [30,7,28,25],\n",
    "    'Data de nascimento': ['01/05/2018', '10/12/2019', '03/08/2017', '12/02/2016']\n",
    "}"
   ]
  },
  {
   "cell_type": "markdown",
   "metadata": {},
   "source": [
    "### Utilizando listas e dicionários\n",
    "\n",
    "Podemos criar dataframes de várias formas, uma das mais simples é utilizando dicionários e listas:"
   ]
  },
  {
   "cell_type": "code",
   "execution_count": null,
   "metadata": {},
   "outputs": [],
   "source": [
    "import pandas as pd"
   ]
  },
  {
   "cell_type": "code",
   "execution_count": null,
   "metadata": {},
   "outputs": [],
   "source": [
    "dados = {\n",
    "    'Nome': ['Max', 'Bella', 'Rocky', 'Luna'],\n",
    "    'Raça': ['Labrador', 'Poodle', 'Boxer', 'Golden Retriever'],\n",
    "    'Cor': ['Amarelo', 'Branco', 'Marrom', 'Dourado'],\n",
    "    'Peso (kg)': [60,35,65,55],\n",
    "    'Altura (cm)': [30,7,28,25],\n",
    "    'Data de nascimento': ['01/05/2018', '10/12/2019', '03/08/2017', '12/02/2016']\n",
    "}\n",
    "\n",
    "# Criar o DataFrame\n",
    "df_cachorros = pd.DataFrame(dados)"
   ]
  },
  {
   "cell_type": "markdown",
   "metadata": {},
   "source": [
    "### Utilizando listas e dicionários\n",
    "\n",
    "Podemos criar dataframes de várias formas, uma das mais simples é utilizando dicionários e listas:"
   ]
  },
  {
   "cell_type": "code",
   "execution_count": null,
   "metadata": {},
   "outputs": [],
   "source": [
    "dados = {\n",
    "    'Nome': ['Max', 'Bella', 'Rocky', 'Luna'],\n",
    "    'Raça': ['Labrador', 'Poodle', 'Boxer', 'Golden Retriever'],\n",
    "    'Cor': ['Amarelo', 'Branco', 'Marrom', 'Dourado'],\n",
    "    'Peso (kg)': [60,35,65,55],\n",
    "    'Altura (cm)': [30,7,28,25],\n",
    "    'Data de nascimento': ['01/05/2018', '10/12/2019', '03/08/2017', '12/02/2016']\n",
    "}\n",
    "\n",
    "# Criar o DataFrame\n",
    "df_cachorros = pd.DataFrame(dados)\n",
    "df_cachorros"
   ]
  },
  {
   "cell_type": "markdown",
   "metadata": {},
   "source": [
    "## Lendo um arquivo e transformando-os em dataframe\n",
    "\n",
    "Existem vários tipos de arquivos que podem ser lidos diretamente em um dataframe"
   ]
  },
  {
   "cell_type": "code",
   "execution_count": null,
   "metadata": {},
   "outputs": [],
   "source": [
    "import pandas as pd\n",
    "\n",
    "#CSV\n",
    "df_csv =\n",
    "pd.read_csv('arquivo.csv')\n",
    "\n",
    "#excel\n",
    "df_excel = pd-read_excel('planilha.xlsx', sheet_name= 'nome_da_planilha')\n",
    "\n",
    "#json\n",
    "df_json = pd.read_json('arquivo.json')\n",
    "\n",
    "#parquet\n",
    "df_parquet = pd.read_parquet ('arquivo parquet')\n",
    "\n",
    "#SQL\n",
    "from sqlalchemy import create_engine\n",
    "\n",
    "engine = create_engine('sqlite:///banco_de_dados.db')\n",
    "query = 'SELECT * FROM tabela'\n",
    "df_sql = pd.read_sql(query, engine)"
   ]
  },
  {
   "cell_type": "markdown",
   "metadata": {},
   "source": [
    "## Primeiros métodos para entender seu dataframe\n",
    "\n",
    "### df.head()\n",
    "\n",
    "Quando a gente ganha uma tabela nova, é legal dar uma olhada rápida, né?\n",
    "O pandas tem um truque chamado \"head\" que mostra as primeiras linhas da tabela. Se tiver muitas linhas, isso ajuda bastante!"
   ]
  },
  {
   "cell_type": "code",
   "execution_count": null,
   "metadata": {},
   "outputs": [],
   "source": [
    "df_cachorros.head()"
   ]
  },
  {
   "cell_type": "markdown",
   "metadata": {},
   "source": [
    "### df.info()\n",
    "\n",
    " Tem um jeito do pandas nos contar os nomes das colunas, que são como etiquetas, e se tem alguma informação faltando, ele usa um método chamado \"info\" para isso."
   ]
  },
  {
   "cell_type": "code",
   "execution_count": null,
   "metadata": {},
   "outputs": [],
   "source": [
    "df_cachorros.info()"
   ]
  },
  {
   "cell_type": "markdown",
   "metadata": {},
   "source": [
    "### df.shape()\n",
    "\n",
    "A tabela do pandas tem um jeito de mostrar quantas linhas e quantas colunas ela tem, como se fosse um resuminho. Não precisa usar parênteses, é só chamar \"shape\"."
   ]
  },
  {
   "cell_type": "code",
   "execution_count": null,
   "metadata": {},
   "outputs": [],
   "source": [
    "df_cachorros.shape\n",
    "#(linhas, colunas)"
   ]
  },
  {
   "cell_type": "markdown",
   "metadata": {},
   "source": [
    "### df.describe()\n",
    "\n",
    "O pandas também sabe fazer as contas! Com o \"describe\", ele conta coisas legais sobre os números na tabela, tipo média e mediana. Ele até fala quantos números tem em cada coluna"
   ]
  },
  {
   "cell_type": "code",
   "execution_count": null,
   "metadata": {},
   "outputs": [],
   "source": [
    "df_cachorros.describe()"
   ]
  },
  {
   "cell_type": "markdown",
   "metadata": {},
   "source": [
    "## Componentes de um dataframe\n",
    "\n",
    "### Peças Especiais do DataFrame\n",
    "\n",
    "A tabela do pandas é como um quebra-cabeça com três partes:\n",
    "\n",
    ".values: os valores (que são os dados mesmo);\n",
    "\n",
    ".columns: as etiquetas (labels) das colunas;\n",
    "\n",
    ".index: etiquetas das linhas;\n",
    "\n",
    "Isso ajuda a entender melhor cada pedacinho!"
   ]
  },
  {
   "cell_type": "code",
   "execution_count": null,
   "metadata": {},
   "outputs": [],
   "source": [
    "df_cachorros.values"
   ]
  },
  {
   "cell_type": "code",
   "execution_count": null,
   "metadata": {},
   "outputs": [],
   "source": [
    "df_cachorros.columns"
   ]
  },
  {
   "cell_type": "code",
   "execution_count": null,
   "metadata": {},
   "outputs": [],
   "source": [
    "df_cachorros.index"
   ]
  },
  {
   "cell_type": "markdown",
   "metadata": {},
   "source": [
    "A filosofia Python de que deveria existir apenas uma solução óbvia para um certo problema de programação é desafiada com o Pandas, já que a biblioteca nos traz várias formas de resolver um só problema"
   ]
  },
  {
   "cell_type": "markdown",
   "metadata": {},
   "source": [
    "## Ordenação e subconjunto\n",
    "\n",
    "Você pode ordenar as linhas usando o método sort_values, passando o nome da coluna pela qual você deseja ordenar..."
   ]
  },
  {
   "cell_type": "markdown",
   "metadata": {},
   "source": [
    "### Ordenação\n",
    "\n",
    "df.sort_values('coluna)"
   ]
  },
  {
   "cell_type": "code",
   "execution_count": null,
   "metadata": {},
   "outputs": [],
   "source": [
    "df_cachorros.sort_values('Altura (cm)')"
   ]
  },
  {
   "cell_type": "markdown",
   "metadata": {},
   "source": [
    "Ordenação contrária:\n",
    "\n",
    "df.sort_values('coluna', ascending=False)\n"
   ]
  },
  {
   "cell_type": "code",
   "execution_count": null,
   "metadata": {},
   "outputs": [],
   "source": [
    "df_cachorros.sort_values('Altura (cm)', ascending=False)"
   ]
  },
  {
   "cell_type": "markdown",
   "metadata": {},
   "source": [
    "Ordenação por múltiplas variáveis:\n",
    "\n",
    "df.sort_values(['coluna', 'coluna'])\n",
    "\n",
    "df.sort_values(['coluna', 'coluna'], ascending=[True, False])"
   ]
  },
  {
   "cell_type": "code",
   "execution_count": null,
   "metadata": {},
   "outputs": [],
   "source": [
    "df_cachorros.sort_values(['Altura (cm)', 'Peso (kg)'])"
   ]
  },
  {
   "cell_type": "code",
   "execution_count": null,
   "metadata": {},
   "outputs": [],
   "source": [
    "df_cachorros.sort_values(['Altura (cm)', 'Peso (kg)'], ascending=[True, False])"
   ]
  },
  {
   "cell_type": "markdown",
   "metadata": {},
   "source": [
    "### Subconjunto de colunas\n",
    "\n",
    "Podemos querer focar em apenas uma coluna"
   ]
  },
  {
   "cell_type": "code",
   "execution_count": null,
   "metadata": {},
   "outputs": [],
   "source": [
    "df_cachorros['Nome']"
   ]
  },
  {
   "cell_type": "markdown",
   "metadata": {},
   "source": [
    "### Subconjunto de várias colunas\n",
    "\n",
    "Para selecionar várias colunas, você precisa de dois pares de colchetes"
   ]
  },
  {
   "cell_type": "code",
   "execution_count": null,
   "metadata": {},
   "outputs": [],
   "source": [
    "df_cachorros[['Nome', 'Altura (cm)']]"
   ]
  },
  {
   "cell_type": "markdown",
   "metadata": {},
   "source": [
    "### Subconjunto de linhas\n",
    "\n",
    "Existem muitas maneiras diferentes de fazer subconjunto de linhas. A maneira mais comum de fazer isso é criando uma condição lógica para filtrar."
   ]
  },
  {
   "cell_type": "code",
   "execution_count": null,
   "metadata": {},
   "outputs": [],
   "source": [
    "df_cachorros['Altura (cm)'] > 40"
   ]
  },
  {
   "cell_type": "markdown",
   "metadata": {},
   "source": [
    "Podemos usar a condição lógica dentro de colchetes para fazer subconjunto de linhas que nos interessam."
   ]
  },
  {
   "cell_type": "code",
   "execution_count": null,
   "metadata": {},
   "outputs": [],
   "source": [
    "df_cachorros[df_cachorros['Altura (cm)'] > 10]"
   ]
  },
  {
   "cell_type": "markdown",
   "metadata": {},
   "source": [
    "### Subconjunto com base em dados de texto\n",
    "\n",
    "Também podemos fazer subconjuntos de linhas com base em dados de texto."
   ]
  },
  {
   "cell_type": "code",
   "execution_count": null,
   "metadata": {},
   "outputs": [],
   "source": [
    "df_cachorros[df_cachorros['Raça'] == 'Boxer']"
   ]
  },
  {
   "cell_type": "markdown",
   "metadata": {},
   "source": [
    "### Subconjuntos com base em datas\n",
    "\n",
    "Também podemos fazer subconjuntos de linhas com base em datas."
   ]
  },
  {
   "cell_type": "code",
   "execution_count": null,
   "metadata": {},
   "outputs": [],
   "source": [
    "df_cachorros[df_cachorros['Data de nascimento'] == '03/08/2017']"
   ]
  },
  {
   "cell_type": "markdown",
   "metadata": {},
   "source": [
    "### Subconjunto com base em múltiplas condições\n",
    "\n",
    "Para fazer um subconjunto das linhas que atendem a várias condições, você pode combinar condições usando operadores lógicos, como o operador \"e\" visto aqui. Isso significa que apenas as linhas que atendem a ambas as condições serão subconjugadas. Você também poderia fazer isso em uma única linha de código, mas também precisará adicionar parênteses em torno de cada condição."
   ]
  },
  {
   "cell_type": "code",
   "execution_count": null,
   "metadata": {},
   "outputs": [],
   "source": [
    "is_husky = df_cachorros [\"Raça\"] == 'Husky'\n",
    "is_preto = df_cachorros [\"Cor\"] == 'Cinza'\n",
    "df_cachorros [is_husky & is_preto]"
   ]
  },
  {
   "cell_type": "code",
   "execution_count": null,
   "metadata": {},
   "outputs": [],
   "source": [
    "df_cachorros [(df_cachorros [\"Raça\"] == 'Husky') & (df_cachorros [\"Cor\"] == 'Cinza')]"
   ]
  },
  {
   "cell_type": "markdown",
   "metadata": {},
   "source": [
    "### Subconjunto usando .isin()\n",
    "\n",
    "Se você quiser filtrar com base em múltiplos valores de uma variável categórica, a maneira mais fácil é usar o método isin. Isso aceita uma lista de valores para filtrar."
   ]
  },
  {
   "cell_type": "code",
   "execution_count": null,
   "metadata": {},
   "outputs": [],
   "source": [
    "is_marrom_ou_cinza = df_cachorros [\"Cor\"]. isin([\"Cinza\", \"Marrom\" ])\n",
    "df_cachorros [is_marrom_ou_cinza]"
   ]
  },
  {
   "cell_type": "markdown",
   "metadata": {},
   "source": [
    "## Adicionando colunas\n",
    "\n",
    "### Adicionando uma nova coluna\n",
    "\n",
    "Criar e adicionar novas colunas pode ter vários nomes, incluindo mutação de um\n",
    "DataFrame, transformação de um DataFrame e engenharia de características. Digamos que queiramos adicionar uma nova coluna ao nosso DataFrame com a altura de cada cachorro em metros, em vez de centímetros. No lado esquerdo do sinal de igual, usamos colchetes com o nome da nova coluna que queremos criar. No lado direito, temos o cálculo. Observe que tanto a coluna existente quanto a nova coluna que acabamos de criar estão no\n",
    "DataFrame."
   ]
  },
  {
   "cell_type": "code",
   "execution_count": null,
   "metadata": {},
   "outputs": [],
   "source": [
    "df_cachorros['Altura (m)'] = df_cachorros ['Altura (cm)'] / 100\n",
    "df_cachorros"
   ]
  },
  {
   "cell_type": "markdown",
   "metadata": {},
   "source": [
    "### Múltiplas manipulações\n",
    "\n",
    "O verdadeiro poder do pandas se revela quando você combina todas as habilidades que aprendeu até agora.\n",
    "Vamos descobrir qual o peso dos cães com pelo menos 0.5 metros de altura, retorne o nome, altura em cm também."
   ]
  },
  {
   "cell_type": "code",
   "execution_count": null,
   "metadata": {},
   "outputs": [],
   "source": [
    "dog_pequeno = df_cachorros[df_cachorros[ 'Altura (m)'] <= 0.5]\n",
    "dog_pequeno = dog_pequeno. sort_values ('Altura (cm)', ascending=False)\n",
    "dog_pequeno [['Nome', 'Altura (cm)', 'Peso (kg)']]"
   ]
  },
  {
   "cell_type": "markdown",
   "metadata": {},
   "source": [
    "# Parte 2\n",
    "\n",
    "## Hora da Prática"
   ]
  },
  {
   "cell_type": "markdown",
   "metadata": {},
   "source": [
    "https://import.cdn.thinkific.com/401289/UAThHE0RcyyZb6QkRNqp_carros.csv"
   ]
  },
  {
   "cell_type": "markdown",
   "metadata": {},
   "source": [
    "- Faça upload do CSV carros.csv\n",
    "- Print seu head com 10 linhas\n",
    "- Agora print as colunas e index do dataframe\n",
    "- Faça um sort decrescente no dataframe pelo estado com maior quantidade de carros\n",
    "- Descubra qual a proporção de carro para a população de cada estado e insira uma nova coluna\n",
    "- Faça um dataframe com Estado e proporção de carro por habitante"
   ]
  },
  {
   "cell_type": "code",
   "execution_count": null,
   "metadata": {},
   "outputs": [],
   "source": [
    "import pandas as pd"
   ]
  },
  {
   "cell_type": "code",
   "execution_count": null,
   "metadata": {},
   "outputs": [],
   "source": [
    "df = pd.read_csv('carros.csv')\n",
    "df.head(10) # printar 10 linhas"
   ]
  },
  {
   "cell_type": "code",
   "execution_count": null,
   "metadata": {},
   "outputs": [],
   "source": [
    "df.columns"
   ]
  },
  {
   "cell_type": "code",
   "execution_count": null,
   "metadata": {},
   "outputs": [],
   "source": [
    "df.index"
   ]
  },
  {
   "cell_type": "code",
   "execution_count": null,
   "metadata": {},
   "outputs": [],
   "source": [
    "df.sort_values('Quant Carros', ascending=False)"
   ]
  },
  {
   "cell_type": "code",
   "execution_count": null,
   "metadata": {},
   "outputs": [],
   "source": [
    "proporcao = df['Quant Carros']/df['Populacao do Estado']\n",
    "\n",
    "df['Carros por habitante'] = proporcao #criou uma nova coluna\n",
    "\n",
    "df.head()"
   ]
  },
  {
   "cell_type": "code",
   "execution_count": null,
   "metadata": {},
   "outputs": [],
   "source": [
    "df_estado_hab = df[['Estado','Carros por habitante']]"
   ]
  },
  {
   "cell_type": "code",
   "execution_count": null,
   "metadata": {},
   "outputs": [],
   "source": [
    "df_estado_hab"
   ]
  },
  {
   "cell_type": "markdown",
   "metadata": {},
   "source": [
    "# Parte 3"
   ]
  },
  {
   "cell_type": "markdown",
   "metadata": {},
   "source": [
    "## Agregando dados\n",
    "\n",
    "## Extraindo estatísticas\n",
    "\n",
    "### Estatísticas resumidas, como o próprio nome sugere, são números que resumem e fornecem informações sobre seu conjunto de dados...\n",
    "\n",
    "\n",
    "- median(): Calcula a mediana de um conjunto de dados, indicando o valor central quando os dados estão ordenados.\n",
    "- mode(): Identifica o(s) valor(es) mais frequente(s) em um\n",
    "conjunto de dados.\n",
    "- min(): Retorna o valor mínimo em um conjunto de dados.\n",
    "- .max(): Retorna o valor máximo em um conjunto de dados.\n",
    "- .var(): Calcula a variancia, uma medida da dispersão dos dados.\n",
    "- .std(): Calcula o desvio padrão, indicando a dispersão média dos dados em relação à média.\n",
    "- .sum(): Soma todos os valores em um conjunto de dados.\n",
    "- quantile(): Calcula um percentil específico em um conjunto de dados, indicando o valor abaixo do qual uma determinada porcentagem dos dados está."
   ]
  },
  {
   "cell_type": "code",
   "execution_count": null,
   "metadata": {},
   "outputs": [],
   "source": [
    "df_cachorros['Altura (cm)'].min()"
   ]
  },
  {
   "cell_type": "code",
   "execution_count": null,
   "metadata": {},
   "outputs": [],
   "source": [
    "df_cachorros['Altura (cm)'].max()"
   ]
  },
  {
   "cell_type": "code",
   "execution_count": null,
   "metadata": {},
   "outputs": [],
   "source": [
    "df_cachorros['Nome'].max()"
   ]
  },
  {
   "cell_type": "markdown",
   "metadata": {},
   "source": [
    "### O método de agregação, ou agg, permite calcular estatísticas personalizadas..."
   ]
  },
  {
   "cell_type": "code",
   "execution_count": null,
   "metadata": {},
   "outputs": [],
   "source": [
    "def pct50(coluna):\n",
    "    return coluna.quantile(0.50)\n",
    "\n",
    "df_cachorros['Altura (cm)'].agg(pct50)"
   ]
  },
  {
   "cell_type": "code",
   "execution_count": null,
   "metadata": {},
   "outputs": [],
   "source": [
    "df_cachorros[['Altura (cm)', 'Peso (kg)']].agg(pct50)"
   ]
  },
  {
   "cell_type": "code",
   "execution_count": null,
   "metadata": {},
   "outputs": [],
   "source": [
    "def max_min(coluna):\n",
    "    return coluna.max(), coluna.min()\n",
    "\n",
    "df_cachorros[['Altura (cm)', 'Peso (kg)']].agg(max_min)"
   ]
  },
  {
   "cell_type": "markdown",
   "metadata": {},
   "source": [
    "### O pandas também possui métodos para calcular estatísticas cumulativas. Chamar \"cumsum\" em uma coluna não retorna apenas um número, mas um número para cada linha do DataFrame...\n",
    "\n",
    "O primeiro número retornado, ou o número no índice zero, é o peso do primeiro cachorro. O próximo número é a soma do peso do primeiro e segundo cachorros. O terceiro número é a soma do peso do primeiro, segundo e terceiro cachorros, e assim por diante. O último número é a soma de todos os pesos dos cachorros."
   ]
  },
  {
   "cell_type": "code",
   "execution_count": null,
   "metadata": {},
   "outputs": [],
   "source": [
    "df_cachorros['Peso (kg)']"
   ]
  },
  {
   "cell_type": "code",
   "execution_count": null,
   "metadata": {},
   "outputs": [],
   "source": [
    "# Com soma cumulativa\n",
    "\n",
    "df_cachorros['Peso (kg)'].cumsum()"
   ]
  },
  {
   "cell_type": "markdown",
   "metadata": {},
   "source": [
    "O pandas também possui métodos para outras estatísticas cumulativas, como o máximo cumulativo, mínimo cumulativo e o produto cumulativo. Todos eles retornam uma coluna inteira de um DataFrame, em vez de um único número.\n",
    "\n",
    "- .cumsum(): Calcula a soma cumulativa, f ornecendo uma série de valores acumulad os à medida que percorre um conjunto\n",
    "de dados.\n",
    "- .cummax(): Calcula o máximo cumulativo, retornando a série de valores máximos à medida que avança através de um conjunto de dados.\n",
    "- .cummin(): Calcula o mínimo cumulativo, resultando na série de valores mínimos à medida que se desloca através de um conjunto de dados.\n",
    "- .cumprod(): Calcula o produto cumulativo, gerando uma série de valores multiplicado\n",
    "s cumulativamente à medida que percorre um conjunto de dados."
   ]
  },
  {
   "cell_type": "markdown",
   "metadata": {},
   "source": [
    "O pandas também possui métodos para outras estatísticas cumulativas, como o máximo cumulativo, mínimo cumulativo e o produto cumulativo. Todos eles retornam uma coluna inteira de um DataFrame, em vez de um único número."
   ]
  },
  {
   "cell_type": "code",
   "execution_count": null,
   "metadata": {},
   "outputs": [],
   "source": [
    "# Encontra o valor menor e mantem até achar o valor menor e mantem\n",
    "\n",
    "df_cachorros['Peso (kg)'].cummin()"
   ]
  },
  {
   "cell_type": "code",
   "execution_count": null,
   "metadata": {},
   "outputs": [],
   "source": [
    "# Encontra o valor maior e mantem até achar o valor maior e mantem\n",
    "\n",
    "\n",
    "df_cachorros['Peso (kg)'].cummax()"
   ]
  },
  {
   "cell_type": "markdown",
   "metadata": {},
   "source": [
    "## Lidando com valores duplicados\n",
    "\n",
    "### Excluindo duplicados\n",
    "\n",
    "O método drop_duplicates do p andas remove linhas duplicadas de um DataFrame, permitindo a criação de um novo DataFrame sem repetições com base em critérios específicos definidos pelos valores em determinadas colunas. O argumento subset especifica as colunas para identificar duplicatas, e o resultado é um DataFrame sem as linhas duplicadas."
   ]
  },
  {
   "cell_type": "code",
   "execution_count": null,
   "metadata": {},
   "outputs": [],
   "source": [
    "df_cachorros.drop_duplicates(subset='Nome')"
   ]
  },
  {
   "cell_type": "markdown",
   "metadata": {},
   "source": [
    "### Excluindo duplicados com mais de um critério\n"
   ]
  },
  {
   "cell_type": "code",
   "execution_count": null,
   "metadata": {},
   "outputs": [],
   "source": [
    "sub_raca_nome = df_cachorros.drop_duplicates(subset=['Nome', 'Raça'])\n",
    "\n",
    "sub_raca_nome"
   ]
  },
  {
   "cell_type": "markdown",
   "metadata": {},
   "source": [
    "### values_count()\n",
    "\n",
    "O método value _counts() do pandas retorna uma contagem de valores únicos em uma coluna de um DataFrame, fornecendo uma série que lista os valores distintos junto com a frequência de cada valor. Isso é útil para entender a distribuição dos dados e identificar os valores mais comuns em uma determinada"
   ]
  },
  {
   "cell_type": "code",
   "execution_count": null,
   "metadata": {},
   "outputs": [],
   "source": [
    "sub_raca_nome['Raça'].value_counts()"
   ]
  },
  {
   "cell_type": "code",
   "execution_count": null,
   "metadata": {},
   "outputs": [],
   "source": [
    "sub_raca_nome['Raça'].value_counts(sort=True)"
   ]
  },
  {
   "cell_type": "markdown",
   "metadata": {},
   "source": [
    "O método value _counts() do pandas retorna uma contagem de valores únicos em uma coluna de um DataFrame, fornecendo uma serie que lista os valores distintos junto com a frequência de cada valor. Isso é útil para entender a distribuição dos dados e identificar os valores mais comuns em uma determinada coluna.\n",
    "\n",
    "\n",
    "normalize é um argumento opcional que, quando definido como True, retorna as proporções normalizadas em vez das contagens absolutas. Ele apresenta a porcentagem relativa de cada valor em relação ao total de observações"
   ]
  },
  {
   "cell_type": "code",
   "execution_count": null,
   "metadata": {},
   "outputs": [],
   "source": [
    "sub_raca_nome['Raça'].value_counts(normalize=True)\n",
    "\n",
    "# A porcentagem de recorrencias na coluna Raça"
   ]
  },
  {
   "cell_type": "markdown",
   "metadata": {},
   "source": [
    "## Agrupando\n",
    "\n",
    "### Agrupando sem nenhum método de agrupamento"
   ]
  },
  {
   "cell_type": "code",
   "execution_count": null,
   "metadata": {},
   "outputs": [],
   "source": [
    "print(df_cachorros[df_cachorros['Cor'] == 'Amarelo']['Peso (kg)'].mean ())\n",
    "print(df_cachorros[df_cachorros['Cor'] == 'Branco']['Peso (kg)']. mean())\n",
    "print(df_cachorros[df_cachorros['Cor'] == 'Branco']['Peso (kg)']. mean())\n",
    "print(df_cachorros[df_cachorros['Cor'] =='Dourado']['Peso (kg)'].mean ())\n",
    "print(df_cachorros[df_cachorros['Cor'] == 'Tricolor']['Peso (kg)'].mean ())\n",
    "print(df_cachorros[df_cachorros['Cor'] == 'Cinza']['Peso (kg)'].mean())\n",
    "print(df_cachorros[df_cachorros['Cor'] == 'Preto']['Peso (kg)'].mean () )"
   ]
  },
  {
   "cell_type": "markdown",
   "metadata": {},
   "source": [
    "### Usando groupby\n",
    "\n",
    "O método groupby no pandas é utilizado para agrupar um DataFrame por uma ou mais colunas, permitindo a aplicação de operações em cada grupo separadamente. Ele cria um objeto de grupo que pode ser combinado com várias funções de agregação, como média, soma, mínimo, máximo, entre outras. Esse método é frequentemente usado em conjunto com outros métodos, como agg, para calcular estatísticas resumidas para cada grupo de dados."
   ]
  },
  {
   "cell_type": "code",
   "execution_count": null,
   "metadata": {},
   "outputs": [],
   "source": [
    "df_cachorros.groupby('Cor')['Peso (kg)'].mean()"
   ]
  },
  {
   "cell_type": "markdown",
   "metadata": {},
   "source": [
    "### Usando groupby com agg\n",
    "\n",
    "O método groupby no pandas é utilizado para agrupar um DataFrame por uma ou mais colunas, permitindo a aplicação de operações em cada grupo separadamente. Ele cria um objeto de grupo que pode ser combinado com várias funções de agregação, como média, soma, mínimo, máximo, entre outras. Esse método é frequentemente usado em conjunto com outros métodos, como agg, para calcular estatísticas resumidas para cada grupo de dados."
   ]
  },
  {
   "cell_type": "code",
   "execution_count": null,
   "metadata": {},
   "outputs": [],
   "source": [
    "df_cachorros.groupby('Cor')['Peso (kg)'].agg([min, max, sum])"
   ]
  },
  {
   "cell_type": "markdown",
   "metadata": {},
   "source": [
    "### Usando groupby com múltiplas variáveis\n",
    "\n",
    "Você também pode agrupar por várias colunas e calcular estatísticas resumidas."
   ]
  },
  {
   "cell_type": "code",
   "execution_count": null,
   "metadata": {},
   "outputs": [],
   "source": [
    "df_cachorros.groupby(['Cor', 'Raça'])['Peso (kg)'].mean()"
   ]
  },
  {
   "cell_type": "markdown",
   "metadata": {},
   "source": [
    "### Usando groupby com múltiplas variáveis\n",
    "\n",
    "Você também pode agrupar por várias colunas e calcular estatísticas resumidas."
   ]
  },
  {
   "cell_type": "code",
   "execution_count": null,
   "metadata": {},
   "outputs": [],
   "source": [
    "df_cachorros.groupby(['Cor', 'Raça'])[['Peso (kg)',\n",
    "'Altura (cm)']].mean()"
   ]
  },
  {
   "cell_type": "markdown",
   "metadata": {},
   "source": [
    "## Tabela Pivot\n",
    "\n",
    "### O que são tabelas pivot (ou dinâmicas)\n",
    "\n",
    "Tabelas dinâmicas são outra maneira de calcular estatísticas resumidas agrupadas. Se você já usou uma planilha, há chances de que já tenha usado uma tabela dinâmica.\n",
    "Vamos ver como criar tabelas dinâmicas no pandas. É uma forma de reorganizar e resumir dados tabulares para análise. O método pivot_table no pandas permite criar facilmente tabelas dinâmicas."
   ]
  },
  {
   "cell_type": "code",
   "execution_count": null,
   "metadata": {},
   "outputs": [],
   "source": [
    "df_cachorros.groupby('Cor')['Peso (kg)'].mean()"
   ]
  },
  {
   "cell_type": "code",
   "execution_count": null,
   "metadata": {},
   "outputs": [],
   "source": [
    "df_cachorros.pivot_table(values=\"Peso (kg)\",index=\"Cor\")"
   ]
  },
  {
   "cell_type": "markdown",
   "metadata": {},
   "source": [
    "### Usando aggfunc\n",
    "\n",
    "Se quisermos uma estatística resumida diferente, podemos usar o argumento aggfune e passar uma função."
   ]
  },
  {
   "cell_type": "code",
   "execution_count": null,
   "metadata": {},
   "outputs": [],
   "source": [
    "import numpy as np"
   ]
  },
  {
   "cell_type": "code",
   "execution_count": null,
   "metadata": {},
   "outputs": [],
   "source": [
    "df_cachorros.pivot_table(values='Peso (kg)',index='Cor',aggfunc=np.median)"
   ]
  },
  {
   "cell_type": "markdown",
   "metadata": {},
   "source": [
    "### Usando aggfunc para múltiplas estatísticas\n",
    "\n",
    "Se quisermos uma estatística resumida diferente, podemos usar o argumento aggfunc e passar uma função."
   ]
  },
  {
   "cell_type": "code",
   "execution_count": null,
   "metadata": {},
   "outputs": [],
   "source": [
    "df_cachorros.pivot_table(values='Peso (kg)',index='Cor',aggfunc=[np.mean, np.median])"
   ]
  },
  {
   "cell_type": "markdown",
   "metadata": {},
   "source": [
    "### Pivot para múltiplas variáveis\n",
    "\n",
    "Para agrupar por duas variáveis, podemos passar um segundo nome de variável para o argumento \"columns\". Embora o resultado pareça um pouco diferente do que tínhamos antes, ele contém os mesmos números"
   ]
  },
  {
   "cell_type": "code",
   "execution_count": null,
   "metadata": {},
   "outputs": [],
   "source": [
    "df_cachorros.groupby(['Cor','Raça'])['Peso (kg)'].mean()"
   ]
  },
  {
   "cell_type": "code",
   "execution_count": null,
   "metadata": {},
   "outputs": [],
   "source": [
    "df_cachorros.pivot_table(values='Peso (kg)',index='Cor', columns='Raça')"
   ]
  },
  {
   "cell_type": "markdown",
   "metadata": {},
   "source": [
    "### Substituir valores faltosos\n",
    "\n",
    "Em vez de ter muitos valores ausentes em nossa tabela dinâmica, podemos preenchê-los usando o argumento fill_value. Aqui, todos os NaNs são preenchidos com zeros."
   ]
  },
  {
   "cell_type": "code",
   "execution_count": null,
   "metadata": {},
   "outputs": [],
   "source": [
    "df_cachorros.pivot_table(values='Peso (kg)',index='Cor',columns='Raça',fill_value=0)"
   ]
  },
  {
   "cell_type": "markdown",
   "metadata": {},
   "source": [
    "Se definirmos o argumento margins como True, a última linha e a última coluna da tabela dinâmica contêm a média de todos os valores na coluna ou linha, excluindo os valores ausentes que foram preenchidos com zeros."
   ]
  },
  {
   "cell_type": "code",
   "execution_count": null,
   "metadata": {},
   "outputs": [],
   "source": [
    "df_cachorros.pivot_table(values=\"Peso (kg)\", index=\"Cor\", columns=\"Raça\", fill_value=0, margins=True)"
   ]
  },
  {
   "cell_type": "markdown",
   "metadata": {},
   "source": [
    "# Parte 4\n",
    "\n",
    "## Hora da Prática"
   ]
  },
  {
   "cell_type": "markdown",
   "metadata": {},
   "source": [
    "https://import.cdn.thinkific.com/401289/1EdHY4mNQ9WMpUkbCtMK_dados_concurso.csv"
   ]
  },
  {
   "cell_type": "markdown",
   "metadata": {},
   "source": [
    "Utilizando o arquivo: dados_concurso.csv\n",
    "\n",
    "- Quantas pessoas são do estados do Piaui?\n",
    "- Qual a distribuição de escolaridade por estado?\n",
    "- Qual a porcentagem de pessoas com deficiência?"
   ]
  },
  {
   "cell_type": "code",
   "execution_count": null,
   "metadata": {},
   "outputs": [],
   "source": [
    "import pandas as pd"
   ]
  },
  {
   "cell_type": "code",
   "execution_count": 250,
   "metadata": {},
   "outputs": [],
   "source": [
    "df_concurso = pd.read_csv('dados_concurso.csv')"
   ]
  },
  {
   "cell_type": "code",
   "execution_count": null,
   "metadata": {},
   "outputs": [],
   "source": [
    "df_concurso.head()"
   ]
  },
  {
   "cell_type": "code",
   "execution_count": null,
   "metadata": {},
   "outputs": [],
   "source": [
    "df_concurso[df_concurso['Estado'] == 'PI']['Numero de Inscricao'].count()"
   ]
  },
  {
   "cell_type": "code",
   "execution_count": null,
   "metadata": {},
   "outputs": [],
   "source": [
    "df_concurso[['Numero de Inscricao', 'Estado']].groupby('Estado').count()"
   ]
  },
  {
   "cell_type": "code",
   "execution_count": null,
   "metadata": {},
   "outputs": [],
   "source": [
    "df_concurso[['Estado', 'Escolaridade', 'Numero de Inscricao']].groupby(['Estado', 'Escolaridade']).count()"
   ]
  },
  {
   "cell_type": "code",
   "execution_count": null,
   "metadata": {},
   "outputs": [],
   "source": [
    "df_concurso['Deficiencia'].value_counts(normalize=True) * 100"
   ]
  },
  {
   "cell_type": "markdown",
   "metadata": {},
   "source": [
    "# Parte 5\n",
    "\n",
    "## Índice e fatiando o dataframe\n",
    "\n",
    "## Alterando índices"
   ]
  },
  {
   "cell_type": "code",
   "execution_count": null,
   "metadata": {},
   "outputs": [],
   "source": [
    "cachorros2 = [\n",
    "    {\"Nome\": \"Max\", \"Raça\": \"Labrador Amarelo\", \"Cor\": \"Amarelo\", \"Altura (cm)\": 30, \"Peso (kg)\": 60, \"Data de Nascimento\": \"01/05/2018\", \"Altura (m)\": 0.30},\n",
    "    {\"Nome\": \"Bella\", \"Raça\": \"Poodle Branco\", \"Cor\": \"Branco\", \"Altura (cm)\": 7, \"Peso (kg)\": 35, \"Data de Nascimento\": \"10/12/2019\", \"Altura (m)\": 0.07},\n",
    "    {\"Nome\": \"Rocky\", \"Raça\": \"Boxer Marrom\", \"Cor\": \"Marrom\", \"Altura (cm)\": 28, \"Peso (kg)\": 65, \"Data de Nascimento\": \"03/08/2017\", \"Altura (m)\": 0.28},\n",
    "    {\"Nome\": \"Luna\", \"Raça\": \"Golden Retriever Dourado\", \"Cor\": \"Dourado\", \"Altura (cm)\": 25, \"Peso (kg)\": 55, \"Data de Nascimento\": \"12/02/2016\", \"Altura (m)\": 0.25},\n",
    "    {\"Nome\": \"Duke\", \"Raça\": \"Bulldog Tigrado\", \"Cor\": \"Tigrado\", \"Altura (cm)\": 22, \"Peso (kg)\": 40, \"Data de Nascimento\": \"05/09/2020\", \"Altura (m)\": 0.22},\n",
    "    {\"Nome\": \"Daisy\", \"Raça\": \"Beagle Tricolor\", \"Cor\": \"Tricolor\", \"Altura (cm)\": 10, \"Peso (kg)\": 33, \"Data de Nascimento\": \"08/11/2015\", \"Altura (m)\": 0.10},\n",
    "    {\"Nome\": \"Milo\", \"Raça\": \"Shih Tzu Cinza\", \"Cor\": \"Cinza\", \"Altura (cm)\": 5, \"Peso (kg)\": 25, \"Data de Nascimento\": \"07/06/2018\", \"Altura (m)\": 0.05},\n",
    "    {\"Nome\": \"Zoe\", \"Raça\": \"Dachshund Preto\", \"Cor\": \"Preto\", \"Altura (cm)\": 6, \"Peso (kg)\": 28, \"Data de Nascimento\": \"09/04/2019\", \"Altura (m)\": 0.06},\n",
    "    {\"Nome\": \"Oliver\", \"Raça\": \"Husky Cinza\", \"Cor\": \"Cinza\", \"Altura (cm)\": 24, \"Peso (kg)\": 60, \"Data de Nascimento\": \"02/03/2016\", \"Altura (m)\": 0.24},\n",
    "    {\"Nome\": \"Chloe\", \"Raça\": \"Rottweiler Preto\", \"Cor\": \"Preto\", \"Altura (cm)\": 45, \"Peso (kg)\": 63, \"Data de Nascimento\": \"11/10/2017\", \"Altura (m)\": 0.45}\n",
    "]\n",
    "\n",
    "df_cachorros2 = pd.DataFrame(cachorros2)"
   ]
  },
  {
   "cell_type": "markdown",
   "metadata": {},
   "source": [
    "### Revendo o dataframe"
   ]
  },
  {
   "cell_type": "code",
   "execution_count": null,
   "metadata": {},
   "outputs": [],
   "source": [
    "df_cachorros2"
   ]
  },
  {
   "cell_type": "markdown",
   "metadata": {},
   "source": [
    "### Alterando o índice\n",
    "\n",
    "Podemos colocar uma das colunas como índice do datafram usando o método set_index."
   ]
  },
  {
   "cell_type": "code",
   "execution_count": null,
   "metadata": {},
   "outputs": [],
   "source": [
    "df_cachorros2.set_index('Nome')"
   ]
  },
  {
   "cell_type": "markdown",
   "metadata": {},
   "source": [
    "### Removendo um index\n",
    "\n",
    "Para desfazer o que você acabou de fazer, você pode redifinir o índice - ou seja, removê-lo. Isso é feito via reset_index."
   ]
  },
  {
   "cell_type": "code",
   "execution_count": null,
   "metadata": {},
   "outputs": [],
   "source": [
    "df_cachorros2.reset_index()"
   ]
  },
  {
   "cell_type": "markdown",
   "metadata": {},
   "source": [
    "### Removendo um index\n",
    "\n",
    "Para desfazer o que você acabou de fazer, você pode redifinir o índice - ou seja, removê-lo. Isso é feito via reset_index.\n",
    "reset_index tem um argumento chamado \"drop\" que permite descartar um índice."
   ]
  },
  {
   "cell_type": "code",
   "execution_count": null,
   "metadata": {},
   "outputs": [],
   "source": [
    "df_cachorros2.reset_index(drop=True)"
   ]
  },
  {
   "cell_type": "markdown",
   "metadata": {},
   "source": [
    "### Usar index faz subset mais fáceis de se filtrar\n",
    "\n",
    "Ioc ajuda a pegar um pedaço do dataframe. Entenderemos melhor dele nos próximos slides."
   ]
  },
  {
   "cell_type": "code",
   "execution_count": null,
   "metadata": {},
   "outputs": [],
   "source": [
    "df_cachorros2[df_cachorros2['Nome'].isin(['Max','Zoe'])]"
   ]
  },
  {
   "cell_type": "code",
   "execution_count": null,
   "metadata": {},
   "outputs": [],
   "source": [
    "# df_cachorros2.loc[['Max','Zoe']]\n",
    "\n",
    "df_cachorros2.loc[df_cachorros2['Nome'].isin(['Max', 'Zoe'])]"
   ]
  },
  {
   "cell_type": "markdown",
   "metadata": {},
   "source": [
    "Não é preciso ser um valor único para ser índice..."
   ]
  },
  {
   "cell_type": "code",
   "execution_count": null,
   "metadata": {},
   "outputs": [],
   "source": [
    "df_cachorros2.set_index('Cor')"
   ]
  },
  {
   "cell_type": "markdown",
   "metadata": {},
   "source": [
    "### Subset de um índice duplicado\n",
    "\n",
    "Será retornado todas as linhas correspondentes!"
   ]
  },
  {
   "cell_type": "code",
   "execution_count": null,
   "metadata": {},
   "outputs": [],
   "source": [
    "# df_cachorros2.loc['Preto']\n",
    "\n",
    "df_cachorros2.loc[df_cachorros2['Cor'] == 'Preto']"
   ]
  },
  {
   "cell_type": "markdown",
   "metadata": {},
   "source": [
    "### Multinível de índice"
   ]
  },
  {
   "cell_type": "code",
   "execution_count": null,
   "metadata": {},
   "outputs": [],
   "source": [
    "df_cachorros2.set_index(['Cor','Raça'])"
   ]
  },
  {
   "cell_type": "markdown",
   "metadata": {},
   "source": [
    "### Subset de múltiplos níveis com uma lista"
   ]
  },
  {
   "cell_type": "code",
   "execution_count": null,
   "metadata": {},
   "outputs": [],
   "source": [
    "# df_cachorros2.loc[['Preto', 'Amarelo']] # Quando o index é Cor\n",
    "\n",
    "df_cachorros2.loc[df_cachorros2['Cor'].isin(['Preto', 'Amarelo'])]"
   ]
  },
  {
   "cell_type": "markdown",
   "metadata": {},
   "source": [
    "### Subset de múltiplos níveis com uma lista\n",
    "\n",
    "Utilizando tuplas"
   ]
  },
  {
   "cell_type": "code",
   "execution_count": null,
   "metadata": {},
   "outputs": [],
   "source": [
    "df_cachorros2.loc[[('Branco', 'Poodle'), ('Amarelo', 'Labrador')]] # Quando o index é Cor"
   ]
  },
  {
   "cell_type": "markdown",
   "metadata": {},
   "source": [
    "### Ordenando pelo valor do index\n",
    "\n",
    "Você também pode ordenar por valores do índice usando sort_index. Por padrão, ele ordena todos os níveis do índice de externo para interno, em ordem crescente."
   ]
  },
  {
   "cell_type": "code",
   "execution_count": null,
   "metadata": {},
   "outputs": [],
   "source": [
    "df_cachorros2.sort_index()"
   ]
  },
  {
   "cell_type": "markdown",
   "metadata": {},
   "source": [
    "### Controlando o sort_index\n",
    "\n",
    "Você pode controlar a ordenação passando listas para os argumentos level e ascending."
   ]
  },
  {
   "cell_type": "code",
   "execution_count": null,
   "metadata": {},
   "outputs": [],
   "source": [
    "df_cachorros2.sort_index(level=['Cor', 'Raça'], ascending=[True, False] # Quando o index é Cor)"
   ]
  },
  {
   "cell_type": "markdown",
   "metadata": {},
   "source": [
    "### Índices são controversos!\n",
    "\n",
    "- Embora simplifiquem o código de subdivisão, existem algumas desvantagens. Os valores do índice são apenas dados.\n",
    "\n",
    "- Armazenar dados em várias formas torna mais difícil pensar sobre eles. Existe um conceito chamado \"dados organizados\" , onde os dados são armazenados em forma tabular - como em um DataFrame. Cada linha contém uma única observação, e cada variável é armazenada em sua própria coluna. Os índices violam a última regra, já que os valores do índice não têm sua própria coluna.\n",
    "\n",
    "- No pandas, a sintaxe para trabalhar com índices é diferente da sintaxe para trabalhar com colunas. Usar duas sintaxes torna seu"
   ]
  },
  {
   "cell_type": "markdown",
   "metadata": {},
   "source": [
    "## Slice usando Ioc\n",
    "\n",
    "### O que é Slicing?\n",
    "\n",
    "Slicing é uma técnica para selecionar elementos consecutivos de objetos. Você também pode cortar DataFrames, mas primeiro precisa ordenar o índice.\n",
    "\n",
    "Aqui, o conjunto de dados de cachorros recebeu um índice de vários níveis de raça e cor; em seguida, o índice é ordenado com sort_index."
   ]
  },
  {
   "cell_type": "code",
   "execution_count": null,
   "metadata": {},
   "outputs": [],
   "source": [
    "df_cachorros2.set_index('Cor', inplace=True)  # Define 'Cor' como o índice permanentemente"
   ]
  },
  {
   "cell_type": "markdown",
   "metadata": {},
   "source": [
    "### Slice Nível Externo do índice"
   ]
  },
  {
   "cell_type": "code",
   "execution_count": null,
   "metadata": {},
   "outputs": [],
   "source": [
    "df_cachorros2.loc['Amarelo':'Marrom']"
   ]
  },
  {
   "cell_type": "markdown",
   "metadata": {},
   "source": [
    "### Slice Nível Interno do índice\n",
    "\n",
    "A mesma técnica não funciona nos níveis internos do índice.\n",
    "\n",
    "Aqui, tentar cortar de labrador a Boxer e retornar um DataFrame vazio em vez dos seis cachorros desejados. É importante entender o perigo aqui: o pandas não gera um erro para alertar sobre o problema."
   ]
  },
  {
   "cell_type": "code",
   "execution_count": null,
   "metadata": {},
   "outputs": [],
   "source": [
    "df_cachorros2['Labrador':'Boxer'] # Precisa-se usar como tupla"
   ]
  },
  {
   "cell_type": "markdown",
   "metadata": {},
   "source": [
    "### Slice Nível Interno do índice\n",
    "\n",
    "Para cortar linhas no nível externo de um índice, Você chama Ioc, passando os valores inicial e final separados por dois pontos. A diferença em relação ao corte de listas é que, em vez de especificar números de linha, você especifíca valores de índice. Além disso, observe que o valor está incluído."
   ]
  },
  {
   "cell_type": "code",
   "execution_count": null,
   "metadata": {},
   "outputs": [],
   "source": [
    "df_cachorros2.loc[('Amarelo', 'Labrador'):('Marrom', 'Boxer')]\n"
   ]
  },
  {
   "cell_type": "markdown",
   "metadata": {},
   "source": [
    "### Slice de colunas\n",
    "\n",
    "- Como os DataFrames são objetos bidimensionais, você também pode cortar colunas.\n",
    "- Isso é feito passando dois argumentos para loc.\n",
    "- O caso mais simples envolve a seleção de colunas, mas mantendo todas as linhas.\n",
    "- Para fazer isso, passe dois pontos como o primeiro argumento para lOC."
   ]
  },
  {
   "cell_type": "code",
   "execution_count": null,
   "metadata": {},
   "outputs": [],
   "source": [
    "df_cachorros2.loc[:, 'Nome':'Peso (kg)']"
   ]
  },
  {
   "cell_type": "markdown",
   "metadata": {},
   "source": [
    "### Cortando Duas Vezes\n",
    "\n",
    "- Você pode cortar linhas e colunas ao mesmo tempo: basta passar o corte apropriado para cada argumento.\n",
    "- Aqui, você vê os dois cortes anteriores sendo feitos na mesma linha de código."
   ]
  },
  {
   "cell_type": "code",
   "execution_count": null,
   "metadata": {},
   "outputs": [],
   "source": [
    "df_cachorros2.loc[('Amarelo', 'Labrador'):\n",
    "                  ('Dourado', 'Golden Retriever'),\n",
    "                  'Nome': 'Peso (kg)']"
   ]
  },
  {
   "cell_type": "markdown",
   "metadata": {},
   "source": [
    "## Slice usando iloc\n",
    "\n",
    "### Usando posição numérica de linhas e colunas para fazer um corte no dataframe\n",
    "\n",
    "- Você também pode cortar DataFrames por número de linha ou coluna usando o método iloc.\n",
    "- Isso usa uma sintaxe semelhante ao corte de listas, exceto que há dois argumentos: um para linhas e outro para colunas.\n",
    "- Observe que, como no corte de listas, mas ao contrário de loc, os valores finais não estão incluídos no corte."
   ]
  },
  {
   "cell_type": "code",
   "execution_count": null,
   "metadata": {},
   "outputs": [],
   "source": [
    "df_cachorros.iloc[1:3, :4]"
   ]
  },
  {
   "cell_type": "markdown",
   "metadata": {},
   "source": [
    "## Parte 6\n",
    "\n",
    "# Exercícios\n",
    "\n",
    "Indices e Fatiamentos\n",
    "\n",
    "Utilizando o arquivo dados_concurso.csv\n",
    "\n",
    "- Retorne o dado com núero de inscrição, nome, data de nascimento.\n",
    "- Quantas pessoas nasceram antes de 1995?\n",
    "- Quais foram os primeiros 10 inscritos?"
   ]
  },
  {
   "cell_type": "code",
   "execution_count": null,
   "metadata": {},
   "outputs": [],
   "source": [
    "df_concurso.columns"
   ]
  },
  {
   "cell_type": "code",
   "execution_count": null,
   "metadata": {},
   "outputs": [],
   "source": [
    "df_concurso[['Numero de Inscricao', 'Data de Nascimento', 'Nome']]"
   ]
  },
  {
   "cell_type": "code",
   "execution_count": null,
   "metadata": {},
   "outputs": [],
   "source": [
    "df_concurso.info()"
   ]
  },
  {
   "cell_type": "code",
   "execution_count": null,
   "metadata": {},
   "outputs": [],
   "source": [
    "df_concurso['Data de Nascimento'] = pd.to_datetime(df_concurso['Data de Nascimento'])"
   ]
  },
  {
   "cell_type": "code",
   "execution_count": null,
   "metadata": {},
   "outputs": [],
   "source": [
    "df_concurso['Data de Nascimento'] < np.datetime64('1995')"
   ]
  },
  {
   "cell_type": "code",
   "execution_count": null,
   "metadata": {},
   "outputs": [],
   "source": [
    "df_concurso['Data de Nascimento'].loc[df_concurso['Data de Nascimento'] < np.datetime64('1995')]"
   ]
  },
  {
   "cell_type": "code",
   "execution_count": null,
   "metadata": {},
   "outputs": [],
   "source": [
    "df_antes_95 = df_concurso.loc[df_concurso['Data de Nascimento'] < np.datetime64('1995')]"
   ]
  },
  {
   "cell_type": "code",
   "execution_count": null,
   "metadata": {},
   "outputs": [],
   "source": [
    "df_concurso_dtins_index = df_concurso.set_index('Data de Inscricao')"
   ]
  },
  {
   "cell_type": "code",
   "execution_count": null,
   "metadata": {},
   "outputs": [],
   "source": [
    "df_10_primeiras = df_concurso_dtins_index.sort_index()[:10]"
   ]
  },
  {
   "cell_type": "code",
   "execution_count": null,
   "metadata": {},
   "outputs": [],
   "source": [
    " df_concurso.sort_values('Data de Inscricao').iloc[:10, :]"
   ]
  },
  {
   "cell_type": "markdown",
   "metadata": {},
   "source": [
    "# Parte 7"
   ]
  },
  {
   "cell_type": "markdown",
   "metadata": {},
   "source": [
    "## Gráficos, valores e faltosos\n",
    "\n",
    "### É possível plotar um gráfico dos dados?\n",
    "\n",
    "SIM!\n",
    "\n",
    "\n",
    "### Visualizando um agrupamento de dados\n",
    "\n",
    "Agrupando os cachorros por raça e tirando a média de peso de cada raça."
   ]
  },
  {
   "cell_type": "code",
   "execution_count": null,
   "metadata": {},
   "outputs": [],
   "source": [
    "media_raca = df_cachorros2.groupby('Raça')['Peso (kg)'].mean()\n",
    "media_raca"
   ]
  },
  {
   "cell_type": "code",
   "execution_count": null,
   "metadata": {},
   "outputs": [],
   "source": [
    "media_raca.plot(kind='bar')"
   ]
  },
  {
   "cell_type": "markdown",
   "metadata": {},
   "source": [
    "### Import matplotlib\n",
    "\n",
    "A biblioteca básica de visualização de dados no Python é o matplotlib. Será melhor estudado no curso de visualização de dados com Python."
   ]
  },
  {
   "cell_type": "code",
   "execution_count": null,
   "metadata": {},
   "outputs": [],
   "source": [
    "from matplotlib import pyplot as plt"
   ]
  },
  {
   "cell_type": "markdown",
   "metadata": {},
   "source": [
    "### Plot de linha"
   ]
  },
  {
   "cell_type": "code",
   "execution_count": null,
   "metadata": {},
   "outputs": [],
   "source": [
    "df_cachorros2.head()"
   ]
  },
  {
   "cell_type": "code",
   "execution_count": null,
   "metadata": {},
   "outputs": [],
   "source": [
    "df_cachorros2.plot(x='Data de Nascimento', y='Peso (kg)', kind='line')\n",
    "plt.show()"
   ]
  },
  {
   "cell_type": "markdown",
   "metadata": {},
   "source": [
    "## Lidando com valores faltosos\n",
    "\n",
    "### Dados não vêm perfeitos\n",
    "\n",
    "Você pode receber um DataFrame com valores ausentes, por isso é importante saber como lidar com eles. A maioria dos dados não é perfeita – sempre existe a possibilidade de que faltem algumas peças no seu conjunto de dados. Em um DataFrame do pandas, os valores ausentes são indicados com N-a-N, que significa \"não é um número\"."
   ]
  },
  {
   "cell_type": "code",
   "execution_count": null,
   "metadata": {},
   "outputs": [],
   "source": [
    "df_cachorros2"
   ]
  },
  {
   "cell_type": "markdown",
   "metadata": {},
   "source": [
    "### Detectando valores nulos\n",
    "\n",
    ".isna() é um método que pode ser utilizado para encontrar os valores nulos. Retorna \"True\" para registros nulos."
   ]
  },
  {
   "cell_type": "code",
   "execution_count": null,
   "metadata": {},
   "outputs": [],
   "source": [
    "df_cachorros2.isna()"
   ]
  },
  {
   "cell_type": "markdown",
   "metadata": {},
   "source": [
    "### E se o dataframe for maior? Como visualizar essa informação?\n",
    "\n",
    "- any\n",
    "- sum\n",
    "- plot"
   ]
  },
  {
   "cell_type": "code",
   "execution_count": null,
   "metadata": {},
   "outputs": [],
   "source": [
    "df_cachorros2.isna().any()"
   ]
  },
  {
   "cell_type": "code",
   "execution_count": null,
   "metadata": {},
   "outputs": [],
   "source": [
    "df_cachorros2.isna().sum()"
   ]
  },
  {
   "cell_type": "code",
   "execution_count": null,
   "metadata": {},
   "outputs": [],
   "source": [
    "df_cachorros2.isna().sum().plot(kind='bar')"
   ]
  },
  {
   "cell_type": "markdown",
   "metadata": {},
   "source": [
    "### Removendo dados nulos\n",
    "\n",
    "O método dropna no pandas é utilizado para remover linhas ou colunas de um DataFrame que contenham valores nulos (NaN), facilitando a limpeza e preparação dos dados. Ele pode ser aplicado para remover linhas com pelo menos um NaN (padrão) ou colunas específicas, proporcionando flexibilidade na manipulação de conjuntos de dados."
   ]
  },
  {
   "cell_type": "code",
   "execution_count": null,
   "metadata": {},
   "outputs": [],
   "source": [
    "df.dropna () # Remove todas as linhas com pelo menos um NaN.\n",
    "df.dropna (axis=1) # Remove todas as colunas com pelo menos um NaN.\n",
    "df.dropna (subset=[ 'colunal', 'coluna2'] ) # Remove linhas com NaN apenas nas colunas especificadas."
   ]
  },
  {
   "cell_type": "code",
   "execution_count": null,
   "metadata": {},
   "outputs": [],
   "source": [
    "df_cachorros2.dropna()"
   ]
  },
  {
   "cell_type": "markdown",
   "metadata": {},
   "source": [
    "### Substituindo valores nulos\n",
    "\n",
    "O método fillna no pandas é utilizado para preencher valores nulos (NaN) em um DataFrame com valores específicos. Ele oferece a capacidade de substituir os valores ausentes por um número constante, pela média, moda, mediana; ou utilizar lógicas mais avançadas, proporcionando flexibilidade na manipulação de dados faltantes."
   ]
  },
  {
   "cell_type": "code",
   "execution_count": null,
   "metadata": {},
   "outputs": [],
   "source": [
    "df_cachorros2.fillna(df_cachorros2.median(numeric_only=True))"
   ]
  },
  {
   "cell_type": "code",
   "execution_count": null,
   "metadata": {},
   "outputs": [],
   "source": [
    "df_cachorros2.fillna(df_cachorros2.median)"
   ]
  },
  {
   "cell_type": "markdown",
   "metadata": {},
   "source": [
    "## Parte 8\n",
    "\n",
    "### Exercício\n",
    "\n",
    "Índices e Fatiamentos\n",
    "\n",
    "Utilizando o arquivo dados_concurso.csv\n",
    "\n",
    "- Para os valores faltoso faça: se string -> 'Falta informação', se número -> mediana\n",
    "- Plot a porcentagem de missing data para cada coluna"
   ]
  },
  {
   "cell_type": "code",
   "execution_count": null,
   "metadata": {},
   "outputs": [],
   "source": [
    "df_concurso[:3]"
   ]
  },
  {
   "cell_type": "code",
   "execution_count": null,
   "metadata": {},
   "outputs": [],
   "source": [
    "df_concurso.isna()"
   ]
  },
  {
   "cell_type": "code",
   "execution_count": null,
   "metadata": {},
   "outputs": [],
   "source": [
    "df_concurso.fillna(np.median)"
   ]
  },
  {
   "cell_type": "code",
   "execution_count": null,
   "metadata": {},
   "outputs": [],
   "source": [
    "df_concurso.columns"
   ]
  },
  {
   "cell_type": "code",
   "execution_count": null,
   "metadata": {},
   "outputs": [],
   "source": [
    "df_concurso[['Numero de Inscricao', 'Data de Nascimento', 'Data de Inscricao', 'Cidade', 'Estado', 'Sexo', 'Deficiencia', 'Nome', 'Sobrenome', 'Escolaridade']].fillna(np.median)"
   ]
  },
  {
   "cell_type": "code",
   "execution_count": 248,
   "metadata": {},
   "outputs": [],
   "source": [
    "df_semnaa = df_concurso.fillna('Falta informação')"
   ]
  },
  {
   "cell_type": "code",
   "execution_count": 253,
   "metadata": {},
   "outputs": [
    {
     "data": {
      "text/plain": [
       "Numero de Inscricao     0\n",
       "Data de Nascimento     18\n",
       "Data de Inscricao       0\n",
       "Cidade                 21\n",
       "Estado                 21\n",
       "Sexo                   16\n",
       "Deficiencia            15\n",
       "Nome                    0\n",
       "Sobrenome               0\n",
       "Escolaridade           20\n",
       "dtype: int64"
      ]
     },
     "execution_count": 253,
     "metadata": {},
     "output_type": "execute_result"
    }
   ],
   "source": [
    "df_concurso.isna().sum()"
   ]
  },
  {
   "cell_type": "code",
   "execution_count": 254,
   "metadata": {},
   "outputs": [
    {
     "data": {
      "text/plain": [
       "<Axes: >"
      ]
     },
     "execution_count": 254,
     "metadata": {},
     "output_type": "execute_result"
    },
    {
     "data": {
      "image/png": "[encoded data removed]",
      "text/plain": [
       "<Figure size 640x480 with 1 Axes>"
      ]
     },
     "metadata": {},
     "output_type": "display_data"
    }
   ],
   "source": [
    "df_concurso.isna().sum().plot(kind='bar')"
   ]
  }
 ],
 "metadata": {
  "kernelspec": {
   "display_name": "Python 3",
   "language": "python",
   "name": "python3"
  },
  "language_info": {
   "codemirror_mode": {
    "name": "ipython",
    "version": 3
   },
   "file_extension": ".py",
   "mimetype": "text/x-python",
   "name": "python",
   "nbconvert_exporter": "python",
   "pygments_lexer": "ipython3",
   "version": "3.9.6"
  }
 },
 "nbformat": 4,
 "nbformat_minor": 2
}
