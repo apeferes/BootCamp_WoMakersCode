{
 "cells": [
  {
   "cell_type": "markdown",
   "metadata": {},
   "source": [
    "# Numpy"
   ]
  },
  {
   "cell_type": "markdown",
   "metadata": {},
   "source": [
    "## Parte 1"
   ]
  },
  {
   "cell_type": "code",
   "execution_count": null,
   "metadata": {},
   "outputs": [],
   "source": [
    "import numpy as np"
   ]
  },
  {
   "cell_type": "code",
   "execution_count": null,
   "metadata": {},
   "outputs": [],
   "source": [
    "l = [4, 8, 2, 12, 5, 8, 0]\n",
    "\n",
    "arr = np.array(l)\n",
    "arr"
   ]
  },
  {
   "cell_type": "code",
   "execution_count": null,
   "metadata": {},
   "outputs": [],
   "source": [
    "np.zeros()\n",
    "np.arange()\n",
    "np.random.random()"
   ]
  },
  {
   "cell_type": "markdown",
   "metadata": {},
   "source": [
    "colab.research.google.com"
   ]
  },
  {
   "cell_type": "code",
   "execution_count": null,
   "metadata": {},
   "outputs": [],
   "source": [
    "l = [1, 2, 3, 4]\n",
    "arr1 = np.array(l)\n",
    "\n",
    "arr1"
   ]
  },
  {
   "cell_type": "code",
   "execution_count": null,
   "metadata": {},
   "outputs": [],
   "source": [
    "np.zeros((3,2)) #tuplas\n",
    "#primeiro a linha, segundo as colunas)"
   ]
  },
  {
   "cell_type": "code",
   "execution_count": null,
   "metadata": {},
   "outputs": [],
   "source": [
    "np.arange(0, 11)\n",
    "\n",
    "# list(range(0, 11)) # é igual"
   ]
  },
  {
   "cell_type": "code",
   "execution_count": null,
   "metadata": {},
   "outputs": [],
   "source": [
    "arr_range = np.arange(1,11)\n",
    "\n",
    "arr_range"
   ]
  },
  {
   "cell_type": "code",
   "execution_count": null,
   "metadata": {},
   "outputs": [],
   "source": [
    "type(arr_range)"
   ]
  },
  {
   "cell_type": "code",
   "execution_count": null,
   "metadata": {},
   "outputs": [],
   "source": [
    "np.random.random((3,3))"
   ]
  },
  {
   "cell_type": "markdown",
   "metadata": {},
   "source": [
    "### Exercícios"
   ]
  },
  {
   "cell_type": "markdown",
   "metadata": {},
   "source": [
    "1. Crie um array com 4 linhas e 3 colunas com valores aleatórios"
   ]
  },
  {
   "cell_type": "code",
   "execution_count": null,
   "metadata": {},
   "outputs": [],
   "source": [
    "np.random.random((4,3))"
   ]
  },
  {
   "cell_type": "markdown",
   "metadata": {},
   "source": [
    "2. Crie um array com 5 colunas e 10 linhas inicializados com zeros."
   ]
  },
  {
   "cell_type": "code",
   "execution_count": null,
   "metadata": {},
   "outputs": [],
   "source": [
    "np.zeros((10,5))"
   ]
  },
  {
   "cell_type": "markdown",
   "metadata": {},
   "source": [
    "3. Crie um array com valores inteiros 3 linhas e 5 colunas com valores aleatórios"
   ]
  },
  {
   "cell_type": "code",
   "execution_count": null,
   "metadata": {},
   "outputs": [],
   "source": [
    "np.random.randint(10, 31, size=(3,5))"
   ]
  },
  {
   "cell_type": "markdown",
   "metadata": {},
   "source": [
    "## Parte 2"
   ]
  },
  {
   "cell_type": "code",
   "execution_count": null,
   "metadata": {},
   "outputs": [],
   "source": [
    "# Array 3D\n",
    "\n",
    "arr1_2d = np.array([[1, 2], [3, 4]])\n",
    "arr2_2d = np.array([[5, 6], [7, 8]])\n",
    "arr3_2d = np.array([[9, 2], [3, 4]])\n",
    "\n",
    "arr_3d = np.array([arr1_2d, arr2_2d, arr3_2d])\n",
    "\n",
    "arr_3d"
   ]
  },
  {
   "cell_type": "code",
   "execution_count": null,
   "metadata": {},
   "outputs": [],
   "source": [
    "# Array 4D\n",
    "\n",
    "np.array([arr_3d, arr_3d])"
   ]
  },
  {
   "cell_type": "code",
   "execution_count": null,
   "metadata": {},
   "outputs": [],
   "source": [
    "np.zeros((3, 4, 2))"
   ]
  },
  {
   "cell_type": "code",
   "execution_count": null,
   "metadata": {},
   "outputs": [],
   "source": [
    "arr.shape"
   ]
  },
  {
   "cell_type": "code",
   "execution_count": null,
   "metadata": {},
   "outputs": [],
   "source": [
    "# Array (shape) -> achatar\n",
    "\n",
    "arr = np.zeros((2, 4))\n",
    "print(arr)\n",
    "\n",
    "arr.shape"
   ]
  },
  {
   "cell_type": "code",
   "execution_count": null,
   "metadata": {},
   "outputs": [],
   "source": [
    "# Array (flatten) -> achatando\n",
    "\n",
    "arr.flatten()"
   ]
  },
  {
   "cell_type": "code",
   "execution_count": null,
   "metadata": {},
   "outputs": [],
   "source": [
    "# Reshaping - mudando as dimensões\n",
    "\n",
    "arr = np.array([[3, 4, 2], [8, 11, 5]])\n",
    "arr.reshape((3,2))"
   ]
  },
  {
   "cell_type": "code",
   "execution_count": null,
   "metadata": {},
   "outputs": [],
   "source": [
    "arr_3d.reshape((4,3))"
   ]
  },
  {
   "cell_type": "markdown",
   "metadata": {},
   "source": [
    "### Exercícios"
   ]
  },
  {
   "cell_type": "markdown",
   "metadata": {},
   "source": [
    "1. Reduza o array (5, 7) a apenas uma dimensão"
   ]
  },
  {
   "cell_type": "code",
   "execution_count": null,
   "metadata": {},
   "outputs": [],
   "source": [
    "a57 = np.random.random((5,7))\n",
    "a57 = a57.flatten()\n",
    "\n",
    "a57"
   ]
  },
  {
   "cell_type": "markdown",
   "metadata": {},
   "source": [
    "2. Considerando que você é uma organizadora de um jogo de bingo. Crie um array que irá representar a cartilha desses jogos de bingo. Os números da suas cartelas variam de 1 e 30, e você terá 10 participantes. Cada cartela terá 12 números (4, 3).\n",
    "\n",
    "Crie um array que represente esse jogo"
   ]
  },
  {
   "cell_type": "code",
   "execution_count": null,
   "metadata": {},
   "outputs": [],
   "source": [
    "bingo = np.random.randint(1, 31, size=(10, 4, 3))\n",
    "bingo"
   ]
  },
  {
   "cell_type": "markdown",
   "metadata": {},
   "source": [
    "3. Faça o reshape das suas cartelas para que haja 5 cartelas de 4 linhas e 6 colunas"
   ]
  },
  {
   "cell_type": "code",
   "execution_count": null,
   "metadata": {},
   "outputs": [],
   "source": [
    "bingo.reshape((5, 4, 6))"
   ]
  },
  {
   "cell_type": "markdown",
   "metadata": {},
   "source": [
    "## Parte 3"
   ]
  },
  {
   "cell_type": "markdown",
   "metadata": {},
   "source": [
    "Python:\n",
    "- int\n",
    "- float\n",
    "\n",
    "Numpy:\n",
    "- np.int64\n",
    "- np.int32\n",
    "- np.float64\n",
    "np.float32"
   ]
  },
  {
   "cell_type": "code",
   "execution_count": null,
   "metadata": {},
   "outputs": [],
   "source": [
    "np.array([2.14, 6.25, 160.87, 8.4]).dtype\n",
    "\n",
    "# dtype('float64')"
   ]
  },
  {
   "cell_type": "code",
   "execution_count": null,
   "metadata": {},
   "outputs": [],
   "source": [
    "np.array([2, 6, 160, 8]).dtype\n",
    "\n",
    "# dtype('int64')"
   ]
  },
  {
   "cell_type": "code",
   "execution_count": null,
   "metadata": {},
   "outputs": [],
   "source": [
    "np.array([\"Hello\", \"Coder\", \"Girls\"]).dtype\n",
    "\n",
    "# dtype('<U5')"
   ]
  },
  {
   "cell_type": "code",
   "execution_count": null,
   "metadata": {},
   "outputs": [],
   "source": [
    "# dtype como arguento\n",
    "\n",
    "arr_float32 = np.array([2.14, 6.25, 160.87], dtype=np.float32)\n",
    "\n",
    "arr_float32\n"
   ]
  },
  {
   "cell_type": "code",
   "execution_count": null,
   "metadata": {},
   "outputs": [],
   "source": [
    "# Conversão\n",
    "\n",
    "arr_vf = np.array([[True, False], [True, True]], dtype=np.bool8)\n",
    "\n",
    "arr_vf.astype(np.int32)"
   ]
  },
  {
   "cell_type": "code",
   "execution_count": null,
   "metadata": {},
   "outputs": [],
   "source": [
    "# Coerção\n",
    "\n",
    "np.array([\"Pedra\", False, 42, 42.42])\n",
    "\n",
    "# array(['Pedra', 'False', '42', '42.42'], dtype='<U32')"
   ]
  },
  {
   "cell_type": "markdown",
   "metadata": {},
   "source": [
    "### Hierarquia de coerção"
   ]
  },
  {
   "cell_type": "markdown",
   "metadata": {},
   "source": [
    "Float é dominante sobre Int\n",
    "\n",
    "Inteiro é dominante sobre Booleanos"
   ]
  },
  {
   "cell_type": "markdown",
   "metadata": {},
   "source": [
    "### Tipo de dados em um numpy array"
   ]
  },
  {
   "cell_type": "code",
   "execution_count": null,
   "metadata": {},
   "outputs": [],
   "source": [
    "np.array([5.4, 6.7, 2.1]).dtype"
   ]
  },
  {
   "cell_type": "code",
   "execution_count": null,
   "metadata": {},
   "outputs": [],
   "source": [
    "np.array([5, 6, 2]).dtype"
   ]
  },
  {
   "cell_type": "code",
   "execution_count": null,
   "metadata": {},
   "outputs": [],
   "source": [
    "np.array([\"Hello\", \"Oi\", \"WoMakersCode\"]).dtype"
   ]
  },
  {
   "cell_type": "code",
   "execution_count": null,
   "metadata": {},
   "outputs": [],
   "source": [
    "np.array([3, 4, 2.1]).dtype"
   ]
  },
  {
   "cell_type": "code",
   "execution_count": null,
   "metadata": {},
   "outputs": [],
   "source": [
    "x = np.array([3, 4, 2.1])\n",
    "\n",
    "x[1] #transformado para float"
   ]
  },
  {
   "cell_type": "code",
   "execution_count": null,
   "metadata": {},
   "outputs": [],
   "source": [
    "np.array([True, False, 3]).dtype"
   ]
  },
  {
   "cell_type": "code",
   "execution_count": null,
   "metadata": {},
   "outputs": [],
   "source": [
    "x.astype(np.int32)"
   ]
  },
  {
   "cell_type": "code",
   "execution_count": null,
   "metadata": {},
   "outputs": [],
   "source": [
    "x"
   ]
  },
  {
   "cell_type": "markdown",
   "metadata": {},
   "source": [
    "Transformando uma variável:"
   ]
  },
  {
   "cell_type": "code",
   "execution_count": null,
   "metadata": {},
   "outputs": [],
   "source": [
    "vf = np.array([True, False, 3])\n",
    "vf # transformou em int"
   ]
  },
  {
   "cell_type": "code",
   "execution_count": null,
   "metadata": {},
   "outputs": [],
   "source": [
    "vf.astype(np.float32) # transformou em float"
   ]
  },
  {
   "cell_type": "code",
   "execution_count": null,
   "metadata": {},
   "outputs": [],
   "source": [
    "vf.astype(np.bool_) # transformou em bool"
   ]
  },
  {
   "cell_type": "markdown",
   "metadata": {},
   "source": [
    "## Parte 4"
   ]
  },
  {
   "cell_type": "markdown",
   "metadata": {},
   "source": [
    "Index em um array de 1 dimensão"
   ]
  },
  {
   "cell_type": "code",
   "execution_count": null,
   "metadata": {},
   "outputs": [],
   "source": [
    "arr = np.array ([2, 4, 6, 8])\n",
    "arr[2]"
   ]
  },
  {
   "cell_type": "markdown",
   "metadata": {},
   "source": [
    "### Para indexar um array de coluna e linha, usar:\n",
    "\n",
    "Exemplo de seleção apenas um dado:\n",
    "\n",
    "carleta_bingo[1, 3]\n",
    "- Primeiro valor é linha = 1\n",
    "- Segundo valor é coluna = 3\n",
    "\n",
    "Exemplo de seleção de uma linha inteira:\n",
    "\n",
    "cartela_bingo[0]\n",
    "- Primeira linha\n",
    "\n",
    "Exemplo de seleção de uma coluna inteira:\n",
    "\n",
    "cartela_bingo[:, 1]\n",
    "- Segunda coluna"
   ]
  },
  {
   "cell_type": "code",
   "execution_count": null,
   "metadata": {},
   "outputs": [],
   "source": [
    "# Fatiar (slicing) um array de 1 dimensão\n",
    "\n",
    "arr = np.array([2, 4, 6, 8, 10])\n",
    "arr[2:4]"
   ]
  },
  {
   "cell_type": "markdown",
   "metadata": {},
   "source": [
    "Exemplo de fatiamento dentro da cartela:\n",
    "\n",
    "cartela_bingo[1:3, 0:2]\n",
    "\n",
    "Exemplo de Ordenar (sorting) um array:\n",
    "\n",
    "np.sort(cartela_bingo)"
   ]
  },
  {
   "cell_type": "markdown",
   "metadata": {},
   "source": [
    "### Eixos (axis)\n",
    "\n",
    "axis 0 = coluna / vertical\n",
    "axis 1 = linha / horizontal\n",
    "\n",
    "np.sort(cartela_bingo, axis=0)\n",
    "\n",
    "np.sort(cartela_bingo, axis=1)"
   ]
  },
  {
   "cell_type": "code",
   "execution_count": null,
   "metadata": {},
   "outputs": [],
   "source": [
    "arr = np.array([2, 4, 6, 7, 8])\n",
    "arr[1]"
   ]
  },
  {
   "cell_type": "code",
   "execution_count": null,
   "metadata": {},
   "outputs": [],
   "source": [
    "arr[0]"
   ]
  },
  {
   "cell_type": "code",
   "execution_count": null,
   "metadata": {},
   "outputs": [],
   "source": [
    "cartela_bingo = np.array([[16, 10, 3, 15],\n",
    "                          [14, 23, 17, 27],\n",
    "                          [6, 19, 3, 1],\n",
    "                          [10, 4, 18, 19]])\n",
    "cartela_bingo"
   ]
  },
  {
   "cell_type": "code",
   "execution_count": null,
   "metadata": {},
   "outputs": [],
   "source": [
    "# Slice\n",
    "\n",
    "cartela_bingo[:, 1] #Coluna inteira"
   ]
  },
  {
   "cell_type": "code",
   "execution_count": null,
   "metadata": {},
   "outputs": [],
   "source": [
    "# Reshape\n",
    "\n",
    "cartela_bingo[:, 1].reshape((4, 1))"
   ]
  },
  {
   "cell_type": "code",
   "execution_count": null,
   "metadata": {},
   "outputs": [],
   "source": [
    "# Somente a primeira linha\n",
    "\n",
    "cartela_bingo[0]"
   ]
  },
  {
   "cell_type": "code",
   "execution_count": null,
   "metadata": {},
   "outputs": [],
   "source": [
    "# Sort dentro da cartela\n",
    "# considerando o eixo vertical\n",
    "\n",
    "np.sort(cartela_bingo) # considerando o eixo vertical"
   ]
  },
  {
   "cell_type": "code",
   "execution_count": null,
   "metadata": {},
   "outputs": [],
   "source": [
    "# Sort considerando eixo 0\n",
    "\n",
    "np.sort(cartela_bingo, axis=0)"
   ]
  },
  {
   "cell_type": "markdown",
   "metadata": {},
   "source": [
    "## Exercício"
   ]
  },
  {
   "cell_type": "markdown",
   "metadata": {},
   "source": [
    "### 1.2 Explorando Ecossistemas:\n",
    "\n",
    "Como bióloga marinha, me encontrei em uma expedição nas profundezas do Oceano Pacífico, onde estávamos estudando a biodiversidade e a saúde dos recifes de coral. O catálogo abaixo demonstra dados das espécies encontradas, considere a seguinte ordem de colunas:\n",
    "\n",
    "*** ID da espécie, quantidade de representantes encontrados, profundeza, tamanho médio da espécie ***\n",
    "\n",
    "- Selecione a segunda coluna com a quantidade de espécies encontradas e adicione um array como 'qtd_especies'\n",
    "- De qtd_especies selecione apenas as primeiras 3 quantidades e print\n",
    "- Print as 5 últimas quantidades de espécies\n",
    "- Crie u array que contenha apenas os tamanhos das especies e orgene por ordem crescente"
   ]
  },
  {
   "cell_type": "code",
   "execution_count": null,
   "metadata": {},
   "outputs": [],
   "source": [
    "especies = np.array([[747, 89, 33, 5],\n",
    "                    [633, 123, 32, 12],\n",
    "                    [501, 22, 49, 2],\n",
    "                    [297, 56, 69, 22],\n",
    "                    [613, 64, 27, 7],\n",
    "                    [295, 84, 29, 14],\n",
    "                    [691, 105, 72, 16],\n",
    "                    [229, 103, 35, 5],\n",
    "                    [374, 124, 70, 1]])\n",
    "especies"
   ]
  },
  {
   "cell_type": "code",
   "execution_count": null,
   "metadata": {},
   "outputs": [],
   "source": [
    "qtd_especies = especies[:, 1]\n",
    "qtd_especies"
   ]
  },
  {
   "cell_type": "code",
   "execution_count": null,
   "metadata": {},
   "outputs": [],
   "source": [
    "print(qtd_especies[0:3])"
   ]
  },
  {
   "cell_type": "code",
   "execution_count": null,
   "metadata": {},
   "outputs": [],
   "source": [
    "especies.shape # indicação de quantidade (linhas, colunas)"
   ]
  },
  {
   "cell_type": "code",
   "execution_count": null,
   "metadata": {},
   "outputs": [],
   "source": [
    "qtd_especies[-5:] # últimas 5 espécies"
   ]
  },
  {
   "cell_type": "code",
   "execution_count": null,
   "metadata": {},
   "outputs": [],
   "source": [
    "np.sort(especies[:, 3]) # quarta coluna por ordem crescente"
   ]
  },
  {
   "cell_type": "code",
   "execution_count": null,
   "metadata": {},
   "outputs": [],
   "source": [
    "np.sort(especies[:, 3])[::-1] # por ordem decrescente"
   ]
  },
  {
   "cell_type": "markdown",
   "metadata": {},
   "source": [
    "## Parte 5\n",
    "\n",
    "### Filtrando arrays"
   ]
  },
  {
   "cell_type": "markdown",
   "metadata": {},
   "source": [
    "### Indexação sofisticada (fancy indexing) e máscara (mask) em array 2D"
   ]
  },
  {
   "cell_type": "code",
   "execution_count": null,
   "metadata": {},
   "outputs": [],
   "source": [
    "pessoas_id_idade = np.array([[1, 22], [2, 1], [3, 27], [4, 26]])\n",
    "\n",
    "pessoas_id_idade[:, 1] % 2 == 0 # todas as linhas da segunda coluna - quais são divisíveis por 2 (valore par)"
   ]
  },
  {
   "cell_type": "markdown",
   "metadata": {},
   "source": [
    "### Indexação sofisticada (fancy indexing) e máscara (mask)\n",
    "\n",
    "Boolean mask\n",
    "- Retorna um array de verdadeiros e falsos"
   ]
  },
  {
   "cell_type": "code",
   "execution_count": null,
   "metadata": {},
   "outputs": [],
   "source": [
    "arr = np.array([1, 2, 3, 4, 5])\n",
    "mask = arr % 2 == 0\n",
    "mask"
   ]
  },
  {
   "cell_type": "markdown",
   "metadata": {},
   "source": [
    "Fancy Indexing\n",
    "- Retorna os valores do array quando pasado a máscara"
   ]
  },
  {
   "cell_type": "code",
   "execution_count": null,
   "metadata": {},
   "outputs": [],
   "source": [
    "arr[mask]"
   ]
  },
  {
   "cell_type": "markdown",
   "metadata": {},
   "source": [
    "### Fancy indexing e np.where()\n",
    "\n",
    "Fancy indexing\n",
    "- Retorna os valores do array quando passado a máscara"
   ]
  },
  {
   "cell_type": "code",
   "execution_count": null,
   "metadata": {},
   "outputs": [],
   "source": [
    "cartela_bingo"
   ]
  },
  {
   "cell_type": "code",
   "execution_count": null,
   "metadata": {},
   "outputs": [],
   "source": [
    "np.where(cartela_bingo % 3 == 0)"
   ]
  },
  {
   "cell_type": "markdown",
   "metadata": {},
   "source": [
    "np.where()\n",
    "- Retorna um array de indices\n",
    "- Cria uma matriz com base em se os elementos correspondem ou não a uma condição"
   ]
  },
  {
   "cell_type": "code",
   "execution_count": null,
   "metadata": {},
   "outputs": [],
   "source": [
    "pessoas_id_idade = np.array([[1, 22], [2, 1], [3, 27], [4, 26]])\n",
    "\n",
    "np.where(pessoas_id_idade[:, 1] % 2 == 0)"
   ]
  },
  {
   "cell_type": "markdown",
   "metadata": {},
   "source": [
    "Buscar e substituir"
   ]
  },
  {
   "cell_type": "code",
   "execution_count": null,
   "metadata": {},
   "outputs": [],
   "source": [
    "np.where(cartela_bingo % 3 == 0, \"\", cartela_bingo)"
   ]
  },
  {
   "cell_type": "markdown",
   "metadata": {},
   "source": [
    "## Exercício"
   ]
  },
  {
   "cell_type": "markdown",
   "metadata": {},
   "source": [
    "### 1.2 Ainda usando o Array de espécies marítmas\n",
    "\n",
    "- Usando um index booleano crie um array que contém os dados da maior espécie encontrada (considerando o seu tamanho), esse valor corresponde ao valor 22.\n",
    "- Usando fency index faça um array que contém apenas dados da espécie com ID 297\n",
    "- Usando np.where() faça um array com a linha com dados correspondentes a espécie com 105 representantes encontrados.\n",
    "- Considere a profundeza em que o espécie foi encontrada substitua valores maiores que 60 por \"Profundo\""
   ]
  },
  {
   "cell_type": "code",
   "execution_count": null,
   "metadata": {},
   "outputs": [],
   "source": [
    "especies"
   ]
  },
  {
   "cell_type": "code",
   "execution_count": null,
   "metadata": {},
   "outputs": [],
   "source": [
    "especies[:, 3] == 22"
   ]
  },
  {
   "cell_type": "code",
   "execution_count": null,
   "metadata": {},
   "outputs": [],
   "source": [
    "maior_especie = especies[especies[:, 3] == 22]\n",
    "maior_especie"
   ]
  },
  {
   "cell_type": "code",
   "execution_count": null,
   "metadata": {},
   "outputs": [],
   "source": [
    "mask_297 = especies[:, 0] == 297\n",
    "especies[mask_297]"
   ]
  },
  {
   "cell_type": "code",
   "execution_count": null,
   "metadata": {},
   "outputs": [],
   "source": [
    "np.where(especies[:, 1] == 105)"
   ]
  },
  {
   "cell_type": "code",
   "execution_count": null,
   "metadata": {},
   "outputs": [],
   "source": [
    "especies[np.where(especies[:, 1] == 105)]"
   ]
  },
  {
   "cell_type": "code",
   "execution_count": null,
   "metadata": {},
   "outputs": [],
   "source": [
    "especies[:, 2] > 60"
   ]
  },
  {
   "cell_type": "code",
   "execution_count": null,
   "metadata": {},
   "outputs": [],
   "source": [
    "np.where(especies[:, 2] > 60, \"Profundo\", especies[:, 2])"
   ]
  },
  {
   "cell_type": "markdown",
   "metadata": {},
   "source": [
    "## Parte 6\n",
    "\n",
    "### Adicionando e removendo dados do array"
   ]
  },
  {
   "cell_type": "markdown",
   "metadata": {},
   "source": [
    "### Concatenação\n",
    "\n",
    "Concatenando linhas"
   ]
  },
  {
   "cell_type": "code",
   "execution_count": null,
   "metadata": {},
   "outputs": [],
   "source": [
    "arrv1 = np.random.randint(10, size=(3, 2))\n",
    "arrv1"
   ]
  },
  {
   "cell_type": "code",
   "execution_count": null,
   "metadata": {},
   "outputs": [],
   "source": [
    "arrv2 = np.array([[\"Peras\", \"Morango\"]])\n",
    "arrv2"
   ]
  },
  {
   "cell_type": "code",
   "execution_count": null,
   "metadata": {},
   "outputs": [],
   "source": [
    "# concatenando\n",
    "np.concatenate((arrv1, arrv2))"
   ]
  },
  {
   "cell_type": "markdown",
   "metadata": {},
   "source": [
    "Concatenando colunas - axis"
   ]
  },
  {
   "cell_type": "code",
   "execution_count": null,
   "metadata": {},
   "outputs": [],
   "source": [
    "arrv1"
   ]
  },
  {
   "cell_type": "code",
   "execution_count": null,
   "metadata": {},
   "outputs": [],
   "source": [
    "arro1 = np.array(['Uva', 'Abacaxi', 'Laranja']).reshape((3, 1))\n",
    "arro1"
   ]
  },
  {
   "cell_type": "code",
   "execution_count": null,
   "metadata": {},
   "outputs": [],
   "source": [
    "np.concatenate((arrv1, arro1), axis=1)"
   ]
  },
  {
   "cell_type": "markdown",
   "metadata": {},
   "source": [
    "Tentar concatenar quando colunas x colunas ou linhas x linhas não são iguais, da erro.\n",
    "\n",
    "np.concatenate tem que levar em consideração as dimensões\n"
   ]
  },
  {
   "cell_type": "markdown",
   "metadata": {},
   "source": [
    "### Deletando com axis = 0\n",
    "Linhas\n",
    "\n",
    "np.delete(sala_espera, 2, axis=0)"
   ]
  },
  {
   "cell_type": "markdown",
   "metadata": {},
   "source": [
    "### Deletando com axis = 1\n",
    "Colunas\n",
    "\n",
    "np.delete(sala_espera, 1, axis=1)"
   ]
  },
  {
   "cell_type": "markdown",
   "metadata": {},
   "source": [
    "### Deletando sem axis\n",
    "\n",
    "np.delete(sala_espera, 1)\n",
    "\n",
    "Sem as dimensões é que retorna um array sem dimensões nenhuma e fora de forma"
   ]
  },
  {
   "cell_type": "markdown",
   "metadata": {},
   "source": [
    "### Cálculos com array\n",
    "\n",
    "Métodos de agregação de dados\n",
    "\n",
    "- .sum()\n",
    "- .min()\n",
    "- .max()\n",
    "- .mean() = média\n",
    "- .comsum()\n",
    "\n",
    "EX:\n",
    "- acidentes.sum() - soma tudo\n",
    "- acidentes.sum(axis=0) - soma somente as linhas (resultado por coluna)\n",
    "- acidentes.sum(axis=1) - soma somente as colunas (resultado por linha)\n",
    "- acidentes.min() - aparece o minimo considerando todo o array\n",
    "- acidentes.max(axis=0) - aparece o máximo da linha (resultado por coluna)"
   ]
  },
  {
   "cell_type": "markdown",
   "metadata": {},
   "source": [
    "Keepdims, manter as mesmas dimensões\n",
    "\n",
    "EX:\n",
    "- acidentes.mean(axis=0, keepdims=True) - Ele mantém as mesmas dimensões"
   ]
  },
  {
   "cell_type": "markdown",
   "metadata": {},
   "source": [
    "Soma cumulativa = cumsum\n",
    "\n",
    "Acontece uma soma cumulativa = aparece todos os dados mas agora com soma cumulativa\n",
    "\n",
    "acidentes.cumsum(axis = 0)\n",
    "\n",
    "plt.plot(np.arange(1, 6), acidentes.cumsum(axis=0), label=['Cliente 1','Cliente 2', 'Cliente 3'])\n",
    "\n",
    "plt.legent()\n",
    "\n",
    "plt.show()"
   ]
  },
  {
   "cell_type": "markdown",
   "metadata": {},
   "source": [
    "## Exercícios"
   ]
  },
  {
   "cell_type": "markdown",
   "metadata": {},
   "source": [
    "Cartela de Bingo"
   ]
  },
  {
   "cell_type": "code",
   "execution_count": null,
   "metadata": {},
   "outputs": [],
   "source": [
    "cartela_bingo"
   ]
  },
  {
   "cell_type": "code",
   "execution_count": null,
   "metadata": {},
   "outputs": [],
   "source": [
    "cartela_bingo1 = cartela_bingo[:3]\n",
    "cartela_bingo1"
   ]
  },
  {
   "cell_type": "code",
   "execution_count": null,
   "metadata": {},
   "outputs": [],
   "source": [
    "cartela_bingo2 = cartela_bingo[-1:]\n",
    "cartela_bingo2"
   ]
  },
  {
   "cell_type": "code",
   "execution_count": null,
   "metadata": {},
   "outputs": [],
   "source": [
    "np.concatenate((cartela_bingo1, cartela_bingo2))"
   ]
  },
  {
   "cell_type": "code",
   "execution_count": null,
   "metadata": {},
   "outputs": [],
   "source": [
    "cartela_bingo == np.concatenate((cartela_bingo1, cartela_bingo2))"
   ]
  },
  {
   "cell_type": "markdown",
   "metadata": {},
   "source": [
    "Sala de Espera"
   ]
  },
  {
   "cell_type": "code",
   "execution_count": null,
   "metadata": {},
   "outputs": [],
   "source": [
    "sala_espera = np.array([['5', '30', '1', 'Alice'],\n",
    "                        ['6', '29', '1', 'Bob'],\n",
    "                        ['7', '35', '3', 'Cristina'],\n",
    "                        ['8', '34', '3', 'Luiz']])\n",
    "sala_espera"
   ]
  },
  {
   "cell_type": "code",
   "execution_count": null,
   "metadata": {},
   "outputs": [],
   "source": [
    "np.delete(sala_espera, 3, axis=0)"
   ]
  },
  {
   "cell_type": "markdown",
   "metadata": {},
   "source": [
    "### 1.3 Ainda no conjunto 'especies'.\n",
    "\n",
    "- Adicione mais 2 espécies no array: [[204, 10, 40, 12], [392, 11, 81, 11]]\n",
    "- Adicione mais uma coluna no array original agora com o número de espécies encontradas com que indica se o animal enxerga ou não: [0, 1, 0, 0, 0, 0, 1, 0, 1, 1, 0]\n",
    "- Faça um array com todas as espécies menos as com ID: 623, 116, 613"
   ]
  },
  {
   "cell_type": "code",
   "execution_count": null,
   "metadata": {},
   "outputs": [],
   "source": [
    "especies"
   ]
  },
  {
   "cell_type": "code",
   "execution_count": null,
   "metadata": {},
   "outputs": [],
   "source": [
    "novas_especies = np.array([[204, 10, 40, 12],\n",
    "                           [392, 11, 81, 11]])\n",
    "novas_especies"
   ]
  },
  {
   "cell_type": "code",
   "execution_count": null,
   "metadata": {},
   "outputs": [],
   "source": [
    "especies = np.concatenate((especies, novas_especies))"
   ]
  },
  {
   "cell_type": "code",
   "execution_count": null,
   "metadata": {},
   "outputs": [],
   "source": [
    "ver = np.array([0, 1, 0, 0, 0, 0, 1, 0, 1, 1, 0]).reshape(11,1)\n",
    "ver"
   ]
  },
  {
   "cell_type": "code",
   "execution_count": null,
   "metadata": {},
   "outputs": [],
   "source": [
    "ver.shape"
   ]
  },
  {
   "cell_type": "code",
   "execution_count": null,
   "metadata": {},
   "outputs": [],
   "source": [
    "especies.shape"
   ]
  },
  {
   "cell_type": "code",
   "execution_count": null,
   "metadata": {},
   "outputs": [],
   "source": [
    "np.concatenate((especies, ver), axis=1)"
   ]
  },
  {
   "cell_type": "markdown",
   "metadata": {},
   "source": [
    "## Parte 7\n",
    "\n",
    "### Operações com vetorização"
   ]
  },
  {
   "cell_type": "markdown",
   "metadata": {},
   "source": [
    "### Comparação operações - Python vs NumPy\n",
    "\n",
    "Ao realizar a soma de elementos em um array utilizando o NumPy, a operação não ocorre de forma individual para cada elemento; em vez disso, ela é realizada de maneira simultânea para todos os elementos do array."
   ]
  },
  {
   "cell_type": "code",
   "execution_count": null,
   "metadata": {},
   "outputs": [],
   "source": [
    "arr = np.array([[1, 2], [4, 5]])\n",
    "\n",
    "for linha in range(0, arr.shape[0]):\n",
    "    for coluna in range(0, arr.shape[1]):\n",
    "        arr[linha][coluna] +=3\n",
    "\n",
    "arr"
   ]
  },
  {
   "cell_type": "code",
   "execution_count": null,
   "metadata": {},
   "outputs": [],
   "source": [
    "arr = np.array([[1, 2], [4, 5]])\n",
    "arr += 3\n",
    "arr"
   ]
  },
  {
   "cell_type": "markdown",
   "metadata": {},
   "source": [
    "### Sintax Numpy\n",
    "\n",
    "No NumPy, a sintaxe é otimizada: empregamos um sinal de adição e indicamos ao NumPy o número único que desejamos adicionar a todos os elementos do array. Na linguagem matemática, esse único número é comumente denonimado escala. Podemos utilizar uma sintaxe semelhante para multiplicar um array por um escalar."
   ]
  },
  {
   "cell_type": "code",
   "execution_count": 198,
   "metadata": {},
   "outputs": [
    {
     "data": {
      "text/plain": [
       "array([[4, 5],\n",
       "       [7, 8]])"
      ]
     },
     "execution_count": 198,
     "metadata": {},
     "output_type": "execute_result"
    }
   ],
   "source": [
    "arr = np.array([[1, 2], [4, 5]])\n",
    "arr += 3\n",
    "arr"
   ]
  },
  {
   "cell_type": "code",
   "execution_count": 199,
   "metadata": {},
   "outputs": [
    {
     "data": {
      "text/plain": [
       "array([[ 5, 10],\n",
       "       [20, 25]])"
      ]
     },
     "execution_count": 199,
     "metadata": {},
     "output_type": "execute_result"
    }
   ],
   "source": [
    "arr2 = np.array([[1, 2], [4, 5]])\n",
    "\n",
    "arr2 * 5"
   ]
  },
  {
   "cell_type": "markdown",
   "metadata": {},
   "source": [
    "### Adicionando 2 array\n",
    "\n",
    "O NumPy permite operações vetorizadas entre arrays do mesmo formato. Na adição de dois arrays com o mesmo formato, o NumPy realiza a operação elemento por elemento, somando cada elemento do primeiro array ao elemento correspondente no segundo array."
   ]
  },
  {
   "cell_type": "code",
   "execution_count": 200,
   "metadata": {},
   "outputs": [
    {
     "data": {
      "text/plain": [
       "array([[2, 4, 5],\n",
       "       [4, 5, 7]])"
      ]
     },
     "execution_count": 200,
     "metadata": {},
     "output_type": "execute_result"
    }
   ],
   "source": [
    "a = np.array([[1, 2, 3], [4, 5, 6]])\n",
    "b = np.array([[1, 2, 2], [0, 0, 1]])\n",
    "a + b"
   ]
  },
  {
   "cell_type": "markdown",
   "metadata": {},
   "source": [
    "### Multiplicando 2 arrays\n",
    "\n",
    "O mesmo conceito se aplica à multiplicação, subtração e divisão de dois arrays no NumPy. Nessas operações, os elementos nas posições correspondentes de cada array são multiplicados, subtraídos ou divididos entre si."
   ]
  },
  {
   "cell_type": "code",
   "execution_count": 201,
   "metadata": {},
   "outputs": [
    {
     "data": {
      "text/plain": [
       "array([[1, 4, 6],\n",
       "       [0, 0, 6]])"
      ]
     },
     "execution_count": 201,
     "metadata": {},
     "output_type": "execute_result"
    }
   ],
   "source": [
    "a = np.array([[1, 2, 3], [4, 5, 6]])\n",
    "b = np.array([[1, 2, 2], [0, 0, 1]])\n",
    "a * b"
   ]
  },
  {
   "cell_type": "markdown",
   "metadata": {},
   "source": [
    "### Operações booleanas\n",
    "\n",
    "Embora as operações vetorizadas se destacam em operações matemáticas, seu aproveitamento se estende por todo o NumPy. Anteriormente, exploramos o uso dessas operações para criar máscaras booleanas e filtrar arrays."
   ]
  },
  {
   "cell_type": "code",
   "execution_count": 202,
   "metadata": {},
   "outputs": [
    {
     "data": {
      "text/plain": [
       "array([[False, False, False],\n",
       "       [ True,  True,  True]])"
      ]
     },
     "execution_count": 202,
     "metadata": {},
     "output_type": "execute_result"
    }
   ],
   "source": [
    "a = np.array([[1, 2, 3], [4, 5, 6]])\n",
    "a > 3"
   ]
  },
  {
   "cell_type": "markdown",
   "metadata": {},
   "source": [
    "### Vetorizando código Python (np.vectorize)\n",
    "\n",
    "np.vectorize transforma funções Python regulares em funções vetorizadas. Isso significa que podemos aplicar eficientemente uma função a cada elemento de um array NumPy sem nos preocuparmos com loops explícitos. É muito útil quando precisamos operar em arrays, mas temos funções projetadas para operar em valores únicos."
   ]
  },
  {
   "cell_type": "code",
   "execution_count": 203,
   "metadata": {},
   "outputs": [
    {
     "data": {
      "text/plain": [
       "True"
      ]
     },
     "execution_count": 203,
     "metadata": {},
     "output_type": "execute_result"
    }
   ],
   "source": [
    "arr = np.array(['Hello', 'meninas', 'coders'])\n",
    "len(arr) > 0"
   ]
  },
  {
   "cell_type": "code",
   "execution_count": 204,
   "metadata": {},
   "outputs": [
    {
     "data": {
      "text/plain": [
       "array([False,  True,  True])"
      ]
     },
     "execution_count": 204,
     "metadata": {},
     "output_type": "execute_result"
    }
   ],
   "source": [
    "vetorizar_len = np.vectorize(len)\n",
    "\n",
    "vetorizar_len(arr) > 5"
   ]
  },
  {
   "cell_type": "code",
   "execution_count": 205,
   "metadata": {},
   "outputs": [
    {
     "data": {
      "text/plain": [
       "array([ 5, 11, 19, 29, 41])"
      ]
     },
     "execution_count": 205,
     "metadata": {},
     "output_type": "execute_result"
    }
   ],
   "source": [
    "def minha_funcao(x):\n",
    "    return x**2 + 3*x +1\n",
    "\n",
    "vetorizada_funcao = np.vectorize(minha_funcao)\n",
    "\n",
    "array_original = np.array([1, 2, 3, 4, 5])\n",
    "\n",
    "resultado = vetorizada_funcao(array_original)\n",
    "\n",
    "resultado"
   ]
  },
  {
   "cell_type": "markdown",
   "metadata": {},
   "source": [
    "### Broadcasting (transmissão)\n",
    "\n",
    "Broadcasting (transmissão) refere-se à capacidade do NumPy de lidar com operações entre arrays de diferentes formas e tamanhos durante operações aritméticas. O Broadcasting permite que o NumPy execute essas operações mesmo quando as dimensões dos arrays não são as mesmas, seguindo um conjunto de regras específicas."
   ]
  },
  {
   "cell_type": "code",
   "execution_count": 206,
   "metadata": {},
   "outputs": [
    {
     "data": {
      "text/plain": [
       "array([[ 5, 10],\n",
       "       [20, 25]])"
      ]
     },
     "execution_count": 206,
     "metadata": {},
     "output_type": "execute_result"
    }
   ],
   "source": [
    "arr2 = np.array([[1, 2], [4, 5]])\n",
    "arr2 *5"
   ]
  },
  {
   "cell_type": "code",
   "execution_count": 207,
   "metadata": {},
   "outputs": [
    {
     "data": {
      "text/plain": [
       "array([[1, 2],\n",
       "       [4, 5],\n",
       "       [7, 8]])"
      ]
     },
     "execution_count": 207,
     "metadata": {},
     "output_type": "execute_result"
    }
   ],
   "source": [
    "arr_3x3 = np.array([[1, 2],\n",
    "                    [4, 5],\n",
    "                    [7, 8]])\n",
    "arr_3x3"
   ]
  },
  {
   "cell_type": "code",
   "execution_count": 208,
   "metadata": {},
   "outputs": [
    {
     "data": {
      "text/plain": [
       "array([[ 1],\n",
       "       [ 0],\n",
       "       [-1]])"
      ]
     },
     "execution_count": 208,
     "metadata": {},
     "output_type": "execute_result"
    }
   ],
   "source": [
    "arr_3x1 = np.array([1, 0, -1]).reshape((3,1))\n",
    "arr_3x1"
   ]
  },
  {
   "cell_type": "code",
   "execution_count": 209,
   "metadata": {},
   "outputs": [
    {
     "data": {
      "text/plain": [
       "array([[2, 3],\n",
       "       [4, 5],\n",
       "       [6, 7]])"
      ]
     },
     "execution_count": 209,
     "metadata": {},
     "output_type": "execute_result"
    }
   ],
   "source": [
    "arr_3x3 + arr_3x1"
   ]
  },
  {
   "cell_type": "markdown",
   "metadata": {},
   "source": [
    "Linhas"
   ]
  },
  {
   "cell_type": "code",
   "execution_count": 210,
   "metadata": {},
   "outputs": [
    {
     "data": {
      "text/plain": [
       "((2, 5), (5,))"
      ]
     },
     "execution_count": 210,
     "metadata": {},
     "output_type": "execute_result"
    }
   ],
   "source": [
    "arr10 = np.arange(10).reshape((2, 5))\n",
    "arr5 = np.array([0, 1, 2, 3, 4])\n",
    "arr10.shape, arr5.shape"
   ]
  },
  {
   "cell_type": "code",
   "execution_count": 211,
   "metadata": {},
   "outputs": [
    {
     "data": {
      "text/plain": [
       "array([[ 0,  2,  4,  6,  8],\n",
       "       [ 5,  7,  9, 11, 13]])"
      ]
     },
     "execution_count": 211,
     "metadata": {},
     "output_type": "execute_result"
    }
   ],
   "source": [
    "arr10 + arr5"
   ]
  },
  {
   "cell_type": "markdown",
   "metadata": {},
   "source": [
    "Colunas"
   ]
  },
  {
   "cell_type": "code",
   "execution_count": 212,
   "metadata": {},
   "outputs": [
    {
     "data": {
      "text/plain": [
       "((2, 5), (2, 1))"
      ]
     },
     "execution_count": 212,
     "metadata": {},
     "output_type": "execute_result"
    }
   ],
   "source": [
    "arr10 = np.arange(10).reshape((2, 5))\n",
    "arr2 = np.array([0, 1]).reshape((2, 1))\n",
    "arr10.shape, arr2.shape"
   ]
  },
  {
   "cell_type": "code",
   "execution_count": 213,
   "metadata": {},
   "outputs": [
    {
     "data": {
      "text/plain": [
       "array([[ 0,  1,  2,  3,  4],\n",
       "       [ 6,  7,  8,  9, 10]])"
      ]
     },
     "execution_count": 213,
     "metadata": {},
     "output_type": "execute_result"
    }
   ],
   "source": [
    "arr10 + arr2"
   ]
  },
  {
   "cell_type": "markdown",
   "metadata": {},
   "source": [
    "### Outras operações\n",
    "\n",
    "A aplicação da mesma lógica estende-se à multiplicação, subtração e divisão! Ao multiplicar por uma coluna, cada elemento dessa coluna é multiplicado pelos elementos correspondentes em ambas as colunas do array maior. Da mesma forma, ao subtrair uma linha, cada elemento dessa linha é subtraído dos elementos correspondentes em ambas as linhas do array maior."
   ]
  },
  {
   "cell_type": "code",
   "execution_count": 217,
   "metadata": {},
   "outputs": [
    {
     "data": {
      "text/plain": [
       "((2, 5), (2, 1))"
      ]
     },
     "execution_count": 217,
     "metadata": {},
     "output_type": "execute_result"
    }
   ],
   "source": [
    "arr10 = np.arange(10).reshape((2, 5))\n",
    "arr2 = np.array([2, 1]).reshape((2, 1))\n",
    "arr10.shape, arr2.shape"
   ]
  },
  {
   "cell_type": "code",
   "execution_count": 218,
   "metadata": {},
   "outputs": [
    {
     "data": {
      "text/plain": [
       "array([[0. , 0.5, 1. , 1.5, 2. ],\n",
       "       [5. , 6. , 7. , 8. , 9. ]])"
      ]
     },
     "execution_count": 218,
     "metadata": {},
     "output_type": "execute_result"
    }
   ],
   "source": [
    "arr10 / arr2"
   ]
  },
  {
   "cell_type": "code",
   "execution_count": 219,
   "metadata": {},
   "outputs": [
    {
     "data": {
      "text/plain": [
       "array([[0, 2, 4, 6, 8],\n",
       "       [5, 6, 7, 8, 9]])"
      ]
     },
     "execution_count": 219,
     "metadata": {},
     "output_type": "execute_result"
    }
   ],
   "source": [
    "arr10 * arr2"
   ]
  },
  {
   "cell_type": "markdown",
   "metadata": {},
   "source": [
    "### Salvando arquivos em NumPy\n",
    "\n",
    "Dados numpy podem ser salvos em diferentes formatos:\n",
    "- .npy (NumPy Binary)\n",
    "- .txt (Txt/CSV)\n",
    "- .h5 (HDF5 - Hierarchical Data Format)\n",
    "- .json (JSON)\n",
    "- .csv (Comma-Separated Values)\n",
    "- .parquet (Apache Parquet)\n",
    "\n",
    "\n",
    "Por quê usar arquivos .npy\n",
    "\n",
    "\n",
    "1 - Eficiencia de Armazenamento: O formato binário utilizado é altamente eficiente em termos de armazenamento, sendo especialmente útil para grandes conjuntos de dados reduzinho os requisitos de espaço e melhorando a velocidade de operações de leitura e escrita.\n",
    "2 - Presenvaçã de Informações: Ao salvar um array como .npy, o formato inclui informações cruciais sobre o tipo de dados e a forma do array. Isso garante que, ao carrega-lo posteriormente, a estrutura original seja recriada com precisão, evitando perda de informações.\n",
    "3 - Carregamento Rápido: O carregamento de dados a partir de um arquivo .npy é geralmente mais rápido do que em formatos de texto. Isso se deve à eficiente serialização e deserialização dos dados, resultando em tempos de carregamento mais curtos.\n",
    "4 - Compatibilidade com NumPy: O formato .npy é específico do NumPy, proporcionando compatibilidade sólida com outras ferramentas e bibliotecas baseadas em NumPy. Isso estabelece uma maneira padronizada e confiável de armazenar e compartilhar arrays de diferentes projetos e colaboradores.\n"
   ]
  },
  {
   "cell_type": "code",
   "execution_count": null,
   "metadata": {},
   "outputs": [],
   "source": [
    "# Carregando\n",
    "\n",
    "arr = np.load('arr10.npy')"
   ]
  },
  {
   "cell_type": "code",
   "execution_count": null,
   "metadata": {},
   "outputs": [],
   "source": [
    "# Salvando\n",
    "\n",
    "arr10 = np.arange(10).reshape((2, 5))\n",
    "arr10"
   ]
  },
  {
   "cell_type": "code",
   "execution_count": null,
   "metadata": {},
   "outputs": [],
   "source": [
    "np.save('arr10.npy', arr10)"
   ]
  }
 ],
 "metadata": {
  "kernelspec": {
   "display_name": "Python 3",
   "language": "python",
   "name": "python3"
  },
  "language_info": {
   "codemirror_mode": {
    "name": "ipython",
    "version": 3
   },
   "file_extension": ".py",
   "mimetype": "text/x-python",
   "name": "python",
   "nbconvert_exporter": "python",
   "pygments_lexer": "ipython3",
   "version": "3.9.6"
  }
 },
 "nbformat": 4,
 "nbformat_minor": 2
}
