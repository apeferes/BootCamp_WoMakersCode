{
 "cells": [
  {
   "cell_type": "code",
   "execution_count": null,
   "metadata": {},
   "outputs": [],
   "source": [
    "import sqlite3"
   ]
  },
  {
   "cell_type": "code",
   "execution_count": null,
   "metadata": {},
   "outputs": [],
   "source": [
    "conexao = sqlite3.connect('exercicioSQL.db')\n",
    "cursor = conexao.cursor()\n",
    "\n",
    "conexao.commit()\n",
    "conexao.close"
   ]
  },
  {
   "cell_type": "markdown",
   "metadata": {},
   "source": [
    "## Exercício Banco de Dados"
   ]
  },
  {
   "cell_type": "markdown",
   "metadata": {},
   "source": [
    "### 1. Crie uma tabela chamada \"alunos\" com os seguintes campos: id(inteiro), nome(texto), idade(inteiro) e curso(texto)."
   ]
  },
  {
   "cell_type": "code",
   "execution_count": null,
   "metadata": {},
   "outputs": [],
   "source": [
    "conexao = sqlite3.connect('exercicioSQL.db')\n",
    "cursor = conexao.cursor()\n",
    "\n",
    "cursor.execute('CREATE TABLE alunos(id INT, nome VARCHAR(100), idade INT, curso VARCHAR(100));')\n",
    "\n",
    "conexao.commit()\n",
    "conexao.close"
   ]
  },
  {
   "cell_type": "markdown",
   "metadata": {},
   "source": [
    "### 2. Insira pelo menos 5 registros de alunos na tabela que você criou no exercício anterior."
   ]
  },
  {
   "cell_type": "code",
   "execution_count": null,
   "metadata": {},
   "outputs": [],
   "source": [
    "conexao = sqlite3.connect('exercicioSQL.db')\n",
    "cursor = conexao.cursor()\n",
    "\n",
    "cursor.execute('INSERT INTO alunos(id, nome, idade, curso) VALUES(1, \"Ana Paula\", 34, \"Analise de Dados\")')\n",
    "cursor.execute('INSERT INTO alunos(id, nome, idade, curso) VALUES(2, \"Camila\", 29, \"Analise de Dados\")')\n",
    "cursor.execute('INSERT INTO alunos(id, nome, idade, curso) VALUES(3, \"Silvia\", 38, \"Ciencias de Dados\")')\n",
    "cursor.execute('INSERT INTO alunos(id, nome, idade, curso) VALUES(4, \"Bruna\", 20, \"Estatística\")')\n",
    "cursor.execute('INSERT INTO alunos(id, nome, idade, curso) VALUES(5, \"Jaqueline\", 35, \"Matemática\")')\n",
    "\n",
    "conexao.commit()\n",
    "conexao.close"
   ]
  },
  {
   "cell_type": "code",
   "execution_count": null,
   "metadata": {},
   "outputs": [],
   "source": [
    "conexao = sqlite3.connect('exercicioSQL.db')\n",
    "cursor = conexao.cursor()\n",
    "\n",
    "cursor.execute('INSERT INTO alunos(id, nome, idade, curso) VALUES(6, \"Carla\", 34, \"Engenharia\")')\n",
    "cursor.execute('INSERT INTO alunos(id, nome, idade, curso) VALUES(7, \"Amanda\", 29, \"Engenharia\")')\n",
    "cursor.execute('INSERT INTO alunos(id, nome, idade, curso) VALUES(8, \"Roberta\", 38, \"Engenharia\")')\n",
    "\n",
    "conexao.commit()\n",
    "conexao.close"
   ]
  },
  {
   "cell_type": "markdown",
   "metadata": {},
   "source": [
    "### 3. Consultas Básicas\n",
    "\n",
    "Escreva consultas SQL para realizar as seguintes tarefas:\n",
    "\n",
    "a) Selecionar todos os registros da tabela \"alunos\".\n",
    "\n",
    "b) Selecionar o nome e a idade dos alunos com mais de 20 anos.\n",
    "\n",
    "c) Selecionar os alunos do curso de \"Engenharia\" em ordem alfabética.\n",
    "\n",
    "d) Contar o número total de alunos na tabela\n"
   ]
  },
  {
   "cell_type": "code",
   "execution_count": null,
   "metadata": {},
   "outputs": [],
   "source": [
    "# a) Selecionar todos os registros da tabela \"alunos\".\n",
    "\n",
    "conexao = sqlite3.connect('exercicioSQL.db')\n",
    "cursor = conexao.cursor()\n",
    "\n",
    "dados = cursor.execute('SELECT * FROM alunos')\n",
    "\n",
    "for alunos in dados:\n",
    "    print(alunos)\n",
    "\n",
    "conexao.commit()\n",
    "conexao.close"
   ]
  },
  {
   "cell_type": "code",
   "execution_count": null,
   "metadata": {},
   "outputs": [],
   "source": [
    "# b) Selecionar o nome e a idade dos alunos com mais de 20 anos.\n",
    "\n",
    "conexao = sqlite3.connect('exercicioSQL.db')\n",
    "cursor = conexao.cursor()\n",
    "\n",
    "dados = cursor.execute('SELECT * FROM alunos WHERE idade > 20')\n",
    "\n",
    "for alunos in dados:\n",
    "    print(alunos)\n",
    "\n",
    "conexao.commit()\n",
    "conexao.close"
   ]
  },
  {
   "cell_type": "code",
   "execution_count": null,
   "metadata": {},
   "outputs": [],
   "source": [
    "# c) Selecionar os alunos do curso de \"Engenharia\" em ordem alfabética.\n",
    "\n",
    "conexao = sqlite3.connect('exercicioSQL.db')\n",
    "cursor = conexao.cursor()\n",
    "\n",
    "dados = cursor.execute('SELECT * FROM alunos WHERE curso = \"Engenharia\" ORDER BY nome')\n",
    "\n",
    "for alunos in dados:\n",
    "    print(alunos)\n",
    "\n",
    "conexao.commit()\n",
    "conexao.close"
   ]
  },
  {
   "cell_type": "code",
   "execution_count": null,
   "metadata": {},
   "outputs": [],
   "source": [
    "# d) Contar o número total de alunos na tabela\n",
    "\n",
    "conexao = sqlite3.connect('exercicioSQL.db')\n",
    "cursor = conexao.cursor()\n",
    "\n",
    "cursor.execute('SELECT COUNT(*) FROM alunos')\n",
    "\n",
    "dados = cursor.fetchone()[0]\n",
    "print(dados)\n",
    "\n",
    "conexao.commit()\n",
    "conexao.close"
   ]
  },
  {
   "cell_type": "markdown",
   "metadata": {},
   "source": [
    "### 4. Atualização e Remoção\n",
    "\n",
    "a) Atualize a idade de um aluno específico na tabela.\n",
    "\n",
    "b) Remova um aluno pelo seu ID.\n"
   ]
  },
  {
   "cell_type": "code",
   "execution_count": null,
   "metadata": {},
   "outputs": [],
   "source": [
    "# a) Atualize a idade de um aluno específico na tabela.\n",
    "\n",
    "conexao = sqlite3.connect('exercicioSQL.db')\n",
    "cursor = conexao.cursor()\n",
    "\n",
    "cursor.execute('UPDATE alunos SET idade = 36 WHERE id = 5')\n",
    "\n",
    "conexao.commit()\n",
    "conexao.close"
   ]
  },
  {
   "cell_type": "code",
   "execution_count": null,
   "metadata": {},
   "outputs": [],
   "source": [
    "# b) Remova um aluno pelo seu ID.\n",
    "\n",
    "conexao = sqlite3.connect('exercicioSQL.db')\n",
    "cursor = conexao.cursor()\n",
    "\n",
    "cursor.execute('DELETE FROM alunos WHERE id=7')\n",
    "\n",
    "conexao.commit()\n",
    "conexao.close"
   ]
  },
  {
   "cell_type": "code",
   "execution_count": null,
   "metadata": {},
   "outputs": [],
   "source": [
    "conexao = sqlite3.connect('exercicioSQL.db')\n",
    "cursor = conexao.cursor()\n",
    "\n",
    "dados = cursor.execute('SELECT * FROM alunoS')\n",
    "\n",
    "for alunos in dados:\n",
    "    print(alunos)\n",
    "\n",
    "conexao.commit()\n",
    "conexao.close"
   ]
  },
  {
   "cell_type": "markdown",
   "metadata": {},
   "source": [
    "### 5. Criar uma Tabela e Inserir Dados\n",
    "\n",
    "Crie uma tabela chamada \"clientes\" com os campos: id (chave primária), nome (texto), idade (inteiro) e saldo (float). Insira alguns registros de clientes na tabela.\n"
   ]
  },
  {
   "cell_type": "code",
   "execution_count": null,
   "metadata": {},
   "outputs": [],
   "source": [
    "conexao = sqlite3.connect('exercicioSQL.db')\n",
    "cursor = conexao.cursor()\n",
    "\n",
    "cursor.execute('CREATE TABLE clientes(id INT, nome VARCHAR(100), idade INT, saldo FLOAT);')\n",
    "\n",
    "conexao.commit()\n",
    "conexao.close"
   ]
  },
  {
   "cell_type": "code",
   "execution_count": null,
   "metadata": {},
   "outputs": [],
   "source": [
    "conexao = sqlite3.connect('exercicioSQL.db')\n",
    "cursor = conexao.cursor()\n",
    "\n",
    "cursor.execute('INSERT INTO clientes(id, nome, idade, saldo) VALUES(1, \"Debora\", 34, 234.87)')\n",
    "cursor.execute('INSERT INTO clientes(id, nome, idade, saldo) VALUES(2, \"Melody\", 29, 543.86)')\n",
    "cursor.execute('INSERT INTO clientes(id, nome, idade, saldo) VALUES(3, \"Sandy\", 38, 376.54)')\n",
    "cursor.execute('INSERT INTO clientes(id, nome, idade, saldo) VALUES(4, \"Louise\", 48, 4376.54)')\n",
    "\n",
    "conexao.commit()\n",
    "conexao.close"
   ]
  },
  {
   "cell_type": "code",
   "execution_count": null,
   "metadata": {},
   "outputs": [],
   "source": [
    "conexao = sqlite3.connect('exercicioSQL.db')\n",
    "cursor = conexao.cursor()\n",
    "\n",
    "dados = cursor.execute('SELECT * FROM clientes')\n",
    "\n",
    "for cliente in dados:\n",
    "    print(cliente)\n",
    "\n",
    "conexao.commit()\n",
    "conexao.close"
   ]
  },
  {
   "cell_type": "markdown",
   "metadata": {},
   "source": [
    "### 6. Consultas e Funções Agregadas\n",
    "\n",
    "Escreva consultas SQL para realizar as seguintes tarefas:\n",
    "\n",
    "a) Selecione o nome e a idade dos clientes com idade superior a 30 anos.\n",
    "\n",
    "b) Calcule o saldo médio dos clientes.\n",
    "\n",
    "c) Encontre o cliente com o saldo máximo.\n",
    "\n",
    "d) Conte quantos clientes têm saldo acima de 1000."
   ]
  },
  {
   "cell_type": "code",
   "execution_count": null,
   "metadata": {},
   "outputs": [],
   "source": [
    "# a) Selecione o nome e a idade dos clientes com idade superior a 30 anos.\n",
    "\n",
    "conexao = sqlite3.connect('exercicioSQL.db')\n",
    "cursor = conexao.cursor()\n",
    "\n",
    "dados = cursor.execute('SELECT nome, idade FROM clientes WHERE idade > 30')\n",
    "\n",
    "for cliente in dados:\n",
    "    print(cliente)\n",
    "\n",
    "conexao.commit()\n",
    "conexao.close"
   ]
  },
  {
   "cell_type": "code",
   "execution_count": null,
   "metadata": {},
   "outputs": [],
   "source": [
    "# b) Calcule o saldo médio dos clientes.\n",
    "\n",
    "conexao = sqlite3.connect('exercicioSQL.db')\n",
    "cursor = conexao.cursor()\n",
    "\n",
    "dados = cursor.execute('SELECT AVG(saldo) FROM clientes')\n",
    "\n",
    "for cliente in dados:\n",
    "    print(cliente)\n",
    "\n",
    "conexao.commit()\n",
    "conexao.close"
   ]
  },
  {
   "cell_type": "code",
   "execution_count": null,
   "metadata": {},
   "outputs": [],
   "source": [
    "# c) Encontre o cliente com o saldo máximo.\n",
    "\n",
    "conexao = sqlite3.connect('exercicioSQL.db')\n",
    "cursor = conexao.cursor()\n",
    "\n",
    "dados = cursor.execute('SELECT * FROM clientes ORDER BY saldo DESC LIMIT 1')\n",
    "\n",
    "for cliente in dados:\n",
    "    print(cliente)\n",
    "\n",
    "conexao.commit()\n",
    "conexao.close"
   ]
  },
  {
   "cell_type": "code",
   "execution_count": null,
   "metadata": {},
   "outputs": [],
   "source": [
    "# d) Conte quantos clientes têm saldo acima de 1000.\n",
    "\n",
    "conexao = sqlite3.connect('exercicioSQL.db')\n",
    "cursor = conexao.cursor()\n",
    "\n",
    "dados = cursor.execute('SELECT COUNT(*) FROM clientes WHERE saldo > 1000')\n",
    "\n",
    "for cliente in dados:\n",
    "    print(cliente)\n",
    "\n",
    "conexao.commit()\n",
    "conexao.close"
   ]
  },
  {
   "cell_type": "markdown",
   "metadata": {},
   "source": [
    "### 7. Atualização e Remoção com Condições\n",
    "\n",
    "a) Atualize o saldo de um cliente específico.\n",
    "\n",
    "b) Remova um cliente pelo seu ID."
   ]
  },
  {
   "cell_type": "code",
   "execution_count": null,
   "metadata": {},
   "outputs": [],
   "source": [
    "# a) Atualize o saldo de um cliente específico.\n",
    "\n",
    "conexao = sqlite3.connect('exercicioSQL.db')\n",
    "cursor = conexao.cursor()\n",
    "\n",
    "dados = cursor.execute('UPDATE clientes SET saldo = 1002 WHERE id = 3')\n",
    "\n",
    "conexao.commit()\n",
    "conexao.close"
   ]
  },
  {
   "cell_type": "code",
   "execution_count": null,
   "metadata": {},
   "outputs": [],
   "source": [
    "# b) Remova um cliente pelo seu ID.\n",
    "\n",
    "conexao = sqlite3.connect('exercicioSQL.db')\n",
    "cursor = conexao.cursor()\n",
    "\n",
    "dados = cursor.execute('DELETE FROM clientes WHERE id = 1')\n",
    "\n",
    "conexao.commit()\n",
    "conexao.close"
   ]
  },
  {
   "cell_type": "code",
   "execution_count": null,
   "metadata": {},
   "outputs": [],
   "source": [
    "conexao = sqlite3.connect('exercicioSQL.db')\n",
    "cursor = conexao.cursor()\n",
    "\n",
    "dados = cursor.execute('SELECT * FROM clientes')\n",
    "\n",
    "for cliente in dados:\n",
    "    print(cliente)\n",
    "\n",
    "conexao.commit()\n",
    "conexao.close"
   ]
  },
  {
   "cell_type": "markdown",
   "metadata": {},
   "source": [
    "### 8. Junção de Tabelas\n",
    "\n",
    "Crie uma segunda tabela chamada \"compras\" com os campos: id (chave primária), cliente_id (chave estrangeira referenciando o id da tabela \"clientes\"), produto (texto) e valor (real). Insira algumas compras associadas a clientes existentes na tabela \"clientes\". Escreva uma consulta para exibir o nome do cliente, o produto e o valor de cada compra."
   ]
  },
  {
   "cell_type": "code",
   "execution_count": null,
   "metadata": {},
   "outputs": [],
   "source": [
    "conexao = sqlite3.connect('exercicioSQL.db')\n",
    "cursor = conexao.cursor()\n",
    "\n",
    "cursor.execute('CREATE TABLE compras(id INT, cliente_id INT, produto VARCHAR(100), valor REAL);')\n",
    "\n",
    "conexao.commit()\n",
    "conexao.close"
   ]
  },
  {
   "cell_type": "code",
   "execution_count": null,
   "metadata": {},
   "outputs": [],
   "source": [
    "conexao = sqlite3.connect('exercicioSQL.db')\n",
    "cursor = conexao.cursor()\n",
    "\n",
    "cursor.execute('INSERT INTO compras(id, cliente_id, produto, valor) VALUES(1, 2, \"Azeite\", 14.00)')\n",
    "cursor.execute('INSERT INTO compras(id, cliente_id, produto, valor) VALUES(2, 2, \"Açucar\", 10.00)')\n",
    "cursor.execute('INSERT INTO compras(id, cliente_id, produto, valor) VALUES(3, 3, \"Iogurte\", 2.00)')\n",
    "cursor.execute('INSERT INTO compras(id, cliente_id, produto, valor) VALUES(4, 4, \"Amendoas\", 20.00)')\n",
    "cursor.execute('INSERT INTO compras(id, cliente_id, produto, valor) VALUES(5, 3, \"Maça\", 15.00)')\n",
    "cursor.execute('INSERT INTO compras(id, cliente_id, produto, valor) VALUES(6, 3, \"Abacaxi\", 6.00)')\n",
    "cursor.execute('INSERT INTO compras(id, cliente_id, produto, valor) VALUES(7, 2, \"Feijão\", 12.00)')\n",
    "cursor.execute('INSERT INTO compras(id, cliente_id, produto, valor) VALUES(8, 4, \"Leite\", 8.00)')\n",
    "cursor.execute('INSERT INTO compras(id, cliente_id, produto, valor) VALUES(9, 4, \"Queijo\", 25.00)')\n",
    "\n",
    "conexao.commit()\n",
    "conexao.close"
   ]
  },
  {
   "cell_type": "code",
   "execution_count": null,
   "metadata": {},
   "outputs": [],
   "source": [
    "conexao = sqlite3.connect('exercicioSQL.db')\n",
    "cursor = conexao.cursor()\n",
    "\n",
    "dados = cursor.execute('SELECT clientes.nome, compras.produto, compras.valor FROM clientes INNER JOIN compras ON clientes.id = compras.cliente_id')\n",
    "\n",
    "for cliente in dados:\n",
    "    print(cliente)\n",
    "\n",
    "conexao.commit()\n",
    "conexao.close"
   ]
  }
 ],
 "metadata": {
  "kernelspec": {
   "display_name": "Python 3",
   "language": "python",
   "name": "python3"
  },
  "language_info": {
   "codemirror_mode": {
    "name": "ipython",
    "version": 3
   },
   "file_extension": ".py",
   "mimetype": "text/x-python",
   "name": "python",
   "nbconvert_exporter": "python",
   "pygments_lexer": "ipython3",
   "version": "3.9.6"
  }
 },
 "nbformat": 4,
 "nbformat_minor": 2
}
