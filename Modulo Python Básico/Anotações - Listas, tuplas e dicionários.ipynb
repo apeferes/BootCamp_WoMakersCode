{
 "cells": [
  {
   "cell_type": "markdown",
   "metadata": {},
   "source": [
    "## Listas\n",
    "- Lista = []\n",
    "- Os valores podem ser alterados"
   ]
  },
  {
   "cell_type": "code",
   "execution_count": null,
   "metadata": {},
   "outputs": [],
   "source": [
    "lista_frutas = [] # declaração de lista\n",
    "\n",
    "fruta = input('Digite sua fruta: ')\n",
    "lista_frutas.append(fruta)\n",
    "\n",
    "lista_frutas.append('Maçã')\n",
    "lista_frutas.append('Uva')\n",
    "lista_frutas.append('Banana')\n",
    "\n",
    "print(lista_frutas)"
   ]
  },
  {
   "cell_type": "markdown",
   "metadata": {},
   "source": [
    "## Tuplas\n",
    "- Tupla - ()\n",
    "- Os valores não podem ser alterados"
   ]
  },
  {
   "cell_type": "code",
   "execution_count": null,
   "metadata": {},
   "outputs": [],
   "source": [
    "tupla = ('Maçã', 'Banana', 'Uva', 'Morango')\n",
    "\n",
    "print(tupla)"
   ]
  },
  {
   "cell_type": "markdown",
   "metadata": {},
   "source": [
    "## Dicionários\n",
    "- Dicionário = {}"
   ]
  },
  {
   "cell_type": "code",
   "execution_count": null,
   "metadata": {},
   "outputs": [],
   "source": [
    "# dicionario = {'Chave':'Valor'}\n",
    "\n",
    "dicionario = {}\n",
    "dicionario['maca'] = 'É uma fruta'\n",
    "dicionario['carro'] = 'É um veículo'\n",
    "dicionario['gato'] = 'É um animal'\n",
    "\n",
    "print(dicionario)"
   ]
  }
 ],
 "metadata": {
  "kernelspec": {
   "display_name": "Python 3",
   "language": "python",
   "name": "python3"
  },
  "language_info": {
   "codemirror_mode": {
    "name": "ipython",
    "version": 3
   },
   "file_extension": ".py",
   "mimetype": "text/x-python",
   "name": "python",
   "nbconvert_exporter": "python",
   "pygments_lexer": "ipython3",
   "version": "3.9.6"
  }
 },
 "nbformat": 4,
 "nbformat_minor": 2
}
