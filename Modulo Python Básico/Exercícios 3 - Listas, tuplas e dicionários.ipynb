{
 "cells": [
  {
   "cell_type": "markdown",
   "metadata": {},
   "source": [
    "1 - Utilizando listas faça um programa que faça 5 perguntas para uma pessoa sobre um crime.\n",
    "\n",
    "As perguntas são:\n",
    "- Telefonou para a vítima?\n",
    "- Esteve no local do crime?\n",
    "- Mora perto da vítima?\n",
    "- Devia para a vítima?\n",
    "- Já trabalhou com a vítima?\n",
    "\n",
    "O programa deve no final emitir uma classificação sobre a participação da pessoa no crime.\n",
    "\n",
    "Se a pessoa responder positivamente a 2 questões ela deve ser classificada como \"Suspeita\", entre 3 a 4 como \"Cúmplice\" e 5 como \"Assassino\".\n",
    "\n",
    "Caso contrário, ela será classificado como \"Inocente\"."
   ]
  },
  {
   "cell_type": "code",
   "execution_count": null,
   "metadata": {},
   "outputs": [],
   "source": [
    "lista = []\n",
    "\n",
    "print('Responda \"S\" para sim, e \"N\" para não:')\n",
    "\n",
    "p1 = str(input('Telefonou para a vítma?')).upper()\n",
    "p2 = str(input('Esteve no local do crime?').upper())\n",
    "p3 = str(input('Mora perto da vítima?').upper())\n",
    "p4 = str(input('Devia para a vítima?').upper())\n",
    "p5 = str(input('Já trabalhou com a vítima?')).upper()\n",
    "\n",
    "lista.append(p1)\n",
    "lista.append(p2)\n",
    "lista.append(p3)\n",
    "lista.append(p4)\n",
    "lista.append(p5)\n",
    "\n",
    "culpa = 0\n",
    "for c in lista:\n",
    "    if c == 'S':\n",
    "        culpa += 1\n",
    "\n",
    "if culpa < 2:\n",
    "    print('Inocente')\n",
    "elif culpa == 2:\n",
    "    print('Suspeita')\n",
    "elif culpa < 5:\n",
    "    print('Cúmplice')\n",
    "else:\n",
    "    print('Culpado')"
   ]
  },
  {
   "cell_type": "markdown",
   "metadata": {},
   "source": [
    "2 - Faça um programa que peça as quatro notas de 5 alunos, calcule e armazene numa lista a média de cada aluno, imprima o número de alunos com média maior ou igual a 7.0."
   ]
  },
  {
   "cell_type": "code",
   "execution_count": null,
   "metadata": {},
   "outputs": [],
   "source": [
    "lista = []\n",
    "\n",
    "'''\n",
    "import random\n",
    "for c in range(5):\n",
    "    nota1 = random.randint(1, 10)\n",
    "    nota2 = random.randint(1, 10)\n",
    "    nota3 = random.randint(1, 10)\n",
    "    nota4 = random.randint(1, 10)\n",
    "    media = random.randint(1, 10)\n",
    "    lista.append(media)\n",
    "    print(f'Aluno {c+1} com média {media}')\n",
    "'''\n",
    "\n",
    "for c in range(5):\n",
    "    nota1 = float(input(f'Digite a primeira nota do aluno {c+1}: '))\n",
    "    nota2 = float(input(f'Digite a segunda nota do aluno {c+1}: '))\n",
    "    nota3 = float(input(f'Digite a terceira nota do aluno {c+1}: '))\n",
    "    nota4 = float(input(f'Digite a quarta nota do aluno {c+1}: '))\n",
    "    media = (nota1 + nota2 + nota3 + nota4) / 4\n",
    "    lista.append(media)\n",
    "    print(f'Aluno {c+1} com média {media}')\n",
    "\n",
    "alunos_media_7 = 0\n",
    "\n",
    "for nota in lista:\n",
    "    if nota > 6:\n",
    "        alunos_media_7 = alunos_media_7 + 1\n",
    "\n",
    "print(f'{alunos_media_7} alunos tiveram a média maior ou igual a 7')"
   ]
  },
  {
   "cell_type": "markdown",
   "metadata": {},
   "source": [
    "3 - Crie um dicionário representando um carrinho de compras. Adicione produtos (chaves) e quantidades (valores) ao carrinho.\n",
    "\n",
    "Calcule o total do carrinho de compra."
   ]
  },
  {
   "cell_type": "code",
   "execution_count": 76,
   "metadata": {},
   "outputs": [
    {
     "name": "stdout",
     "output_type": "stream",
     "text": [
      "O Total do carrinho de compras foi de 10 produtos\n"
     ]
    }
   ],
   "source": [
    "carrinho = {}\n",
    "\n",
    "carrinho['acucar'] = 8\n",
    "carrinho['papel higienico'] = 2\n",
    "\n",
    "total = 0\n",
    "for produto, quantidade in carrinho.items():\n",
    "    total += quantidade\n",
    "\n",
    "print(f'O Total do carrinho de compras foi de {total} produtos')"
   ]
  },
  {
   "cell_type": "markdown",
   "metadata": {},
   "source": [
    "4 - Crie um dicionário representando contatos (nome, telefone). Permita ao usuário procurar por um contato pelo nome."
   ]
  },
  {
   "cell_type": "code",
   "execution_count": 85,
   "metadata": {},
   "outputs": [
    {
     "name": "stdout",
     "output_type": "stream",
     "text": [
      "Telefone de João: 88888-0000\n"
     ]
    }
   ],
   "source": [
    "contatos = {\n",
    "    'Ana': '99999-0000',\n",
    "    'Paula': '99991-0000',\n",
    "    'João': '88888-0000'\n",
    "}\n",
    "\n",
    "nome = str(input('Digite o nome do contato: '))\n",
    "\n",
    "if nome in contatos:\n",
    "    print(f\"Telefone de {nome}: {contatos[nome]}\")\n",
    "else:\n",
    "    print(f\"Contato {nome} não encontrado.\")\n"
   ]
  },
  {
   "cell_type": "markdown",
   "metadata": {},
   "source": [
    "5 - Crie duas tuplas. Concatene-as para formar uma nova tupla."
   ]
  },
  {
   "cell_type": "code",
   "execution_count": 86,
   "metadata": {},
   "outputs": [
    {
     "name": "stdout",
     "output_type": "stream",
     "text": [
      "(1, 2, 3, 6, 5, 4)\n"
     ]
    }
   ],
   "source": [
    "tupla1 = (1, 2, 3)\n",
    "tupla2 = (6, 5, 4)\n",
    "\n",
    "tupla = tupla1 + tupla2\n",
    "\n",
    "print(tupla)"
   ]
  },
  {
   "cell_type": "markdown",
   "metadata": {},
   "source": [
    "6 - Faça um programa que permita ao usuário digitar o seu nome e em seguida mostre o nome do usuário de trás pra frente utilizando somente letras maiúsculas.\n",
    "\n",
    "Dica: lembre-se que ao informar o nome do usuário pode digitar letras maiúsculas ou minúsculas."
   ]
  },
  {
   "cell_type": "code",
   "execution_count": 89,
   "metadata": {},
   "outputs": [
    {
     "name": "stdout",
     "output_type": "stream",
     "text": [
      "SEREF ALUAP ANA\n"
     ]
    }
   ],
   "source": [
    "nome = str(input('Digite o seu nome: ')).upper()\n",
    "\n",
    "nome_invertido = nome[::-1]\n",
    "\n",
    "print(nome_invertido)"
   ]
  }
 ],
 "metadata": {
  "kernelspec": {
   "display_name": "Python 3",
   "language": "python",
   "name": "python3"
  },
  "language_info": {
   "codemirror_mode": {
    "name": "ipython",
    "version": 3
   },
   "file_extension": ".py",
   "mimetype": "text/x-python",
   "name": "python",
   "nbconvert_exporter": "python",
   "pygments_lexer": "ipython3",
   "version": "3.9.6"
  }
 },
 "nbformat": 4,
 "nbformat_minor": 2
}
