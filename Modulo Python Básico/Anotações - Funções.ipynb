{
 "cells": [
  {
   "cell_type": "markdown",
   "metadata": {},
   "source": [
    "## Funções"
   ]
  },
  {
   "cell_type": "code",
   "execution_count": null,
   "metadata": {},
   "outputs": [],
   "source": [
    "def soma(): #definição da função soma\n",
    "    calculo = 10 + 2\n",
    "    print(f'O resultado da soma é {calculo}')\n",
    "\n",
    "def subtracao():\n",
    "    sub = 10-2\n",
    "    print(f'O resultado da subtração é {sub}')\n",
    "\n",
    "def multiplicacao():\n",
    "    mult = 10*2\n",
    "    print(f'O resultado da multiplicação é {mult}')\n",
    "\n",
    "soma() # chamada da função\n",
    "subtracao()\n",
    "multiplicacao()"
   ]
  },
  {
   "cell_type": "code",
   "execution_count": null,
   "metadata": {},
   "outputs": [],
   "source": [
    "def subtracao():\n",
    "    sub = 10-2\n",
    "    print(f'O resultado da subtração é {sub}')\n",
    "    multiplicacao() # chamada de função dentro de uma função\n",
    "\n",
    "def multiplicacao():\n",
    "    mult = 10*2\n",
    "    print(f'O resultado da multiplicação é {mult}')\n",
    "\n",
    "subtracao()"
   ]
  },
  {
   "cell_type": "markdown",
   "metadata": {},
   "source": [
    "## Parâmetros"
   ]
  },
  {
   "cell_type": "code",
   "execution_count": null,
   "metadata": {},
   "outputs": [],
   "source": [
    "def soma():\n",
    "    num1 = int(input('Digite o primeiro numero:'))\n",
    "    num2 = int(input('Digite o segundo número:'))\n",
    "    calculo = num1 + num2\n",
    "    print(f'O resultado da soma é {calculo}')\n",
    "\n",
    "soma()"
   ]
  },
  {
   "cell_type": "code",
   "execution_count": null,
   "metadata": {},
   "outputs": [],
   "source": [
    "def subtracao(num1, num2):\n",
    "    sub = num1 - num2\n",
    "    print(f'O resultado da subtração é {sub}')\n",
    "\n",
    "num1 = int(input('Digite o primeiro numero:'))\n",
    "num2 = int(input('Digite o segundo número:'))\n",
    "\n",
    "subtracao(num1, num2)"
   ]
  },
  {
   "cell_type": "markdown",
   "metadata": {},
   "source": [
    "## Manupulação de Arquivos"
   ]
  },
  {
   "cell_type": "markdown",
   "metadata": {},
   "source": [
    "Arquivo para escrita"
   ]
  },
  {
   "cell_type": "code",
   "execution_count": null,
   "metadata": {},
   "outputs": [],
   "source": [
    "def multiplicacao():\n",
    "    mult = 10*2\n",
    "    file = 'arquivo.txt'\n",
    "    # Abertura para escrever\n",
    "    arquivo_escrito = open(file, \"w\") # abertura para escrita\n",
    "    arquivo_escrito.write(\"Texto a ser escrito\")\n",
    "\n",
    "multiplicacao()"
   ]
  },
  {
   "cell_type": "markdown",
   "metadata": {},
   "source": [
    "Arquivo para Leitura"
   ]
  },
  {
   "cell_type": "code",
   "execution_count": 19,
   "metadata": {},
   "outputs": [
    {
     "name": "stdout",
     "output_type": "stream",
     "text": [
      "O resultado da multiplicacao é 20\n"
     ]
    }
   ],
   "source": [
    "def multiplicacao():\n",
    "    mult = 10*2\n",
    "    file = 'arquivo.txt'\n",
    "    # Abertura para escrever\n",
    "    arquivo_escrita = open(file, \"w\") # abertura para escrita\n",
    "    arquivo_escrita.write(f'O resultado da multiplicacao é {mult}')\n",
    "    # Fechando arquivo\n",
    "    arquivo_escrita.close()\n",
    "    # Abertura de arquivo para ler\n",
    "    arquivo_leitura = open(file, \"r\") # abertura somente para leitura\n",
    "    leitura = arquivo_leitura.read()\n",
    "    arquivo_leitura.close()\n",
    "    print(leitura)\n",
    "\n",
    "multiplicacao()"
   ]
  },
  {
   "cell_type": "markdown",
   "metadata": {},
   "source": [
    "Leitura de arquivo binário"
   ]
  },
  {
   "cell_type": "code",
   "execution_count": null,
   "metadata": {},
   "outputs": [],
   "source": [
    "def multiplicacao():\n",
    "    mult = 10*2\n",
    "    file = 'arquivo.txt'\n",
    "    # Abertura de arquivo binário\n",
    "    arquivo_binario = open(file, \"wb\") # abertura de arquivos binários\n",
    "\n",
    "\n",
    "multiplicacao()"
   ]
  },
  {
   "cell_type": "markdown",
   "metadata": {},
   "source": [
    "## Tratamento de excessões"
   ]
  },
  {
   "cell_type": "code",
   "execution_count": 29,
   "metadata": {},
   "outputs": [
    {
     "name": "stdout",
     "output_type": "stream",
     "text": [
      "5.0\n",
      "Sem excessões\n",
      "Erro: Impossível dividir um valor por zero\n",
      "Erro: O tipo do dado informato está incorreto.\n",
      "Detalhes: unsupported operand type(s) for /: 'int' and 'str'\n"
     ]
    }
   ],
   "source": [
    "def divisao(a,b):\n",
    "    try:\n",
    "        resultado = a/b\n",
    "        print(resultado)\n",
    "    except ZeroDivisionError:\n",
    "        print('Erro: Impossível dividir um valor por zero')\n",
    "    except TypeError as e:\n",
    "        print(f'Erro: O tipo do dado informato está incorreto.\\nDetalhes: {e}')\n",
    "    else:\n",
    "        print('Sem excessões')\n",
    "\n",
    "divisao(10,2)\n",
    "divisao(10,0)\n",
    "divisao(10,'woomakerscode')"
   ]
  }
 ],
 "metadata": {
  "kernelspec": {
   "display_name": "Python 3",
   "language": "python",
   "name": "python3"
  },
  "language_info": {
   "codemirror_mode": {
    "name": "ipython",
    "version": 3
   },
   "file_extension": ".py",
   "mimetype": "text/x-python",
   "name": "python",
   "nbconvert_exporter": "python",
   "pygments_lexer": "ipython3",
   "version": "3.9.6"
  }
 },
 "nbformat": 4,
 "nbformat_minor": 2
}
