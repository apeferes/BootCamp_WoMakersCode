{
 "cells": [
  {
   "cell_type": "markdown",
   "metadata": {},
   "source": [
    "1 - Faça um programa, com uma função que necessite de três argumentos, e que forneça a soma desses três argumentos."
   ]
  },
  {
   "cell_type": "code",
   "execution_count": null,
   "metadata": {},
   "outputs": [],
   "source": [
    "def soma(a,b,c):\n",
    "    sum = a + b + c\n",
    "    print(sum)\n",
    "\n",
    "soma(5,10,15)"
   ]
  },
  {
   "cell_type": "markdown",
   "metadata": {},
   "source": [
    "2 - Reverso do número. Faça uma função que retorne o reverso de um número inteiro informado. Por exemplo: 127 -> 721."
   ]
  },
  {
   "cell_type": "code",
   "execution_count": null,
   "metadata": {},
   "outputs": [],
   "source": [
    "def reverter(a):\n",
    "    numero_invertido = int(str(a)[::-1])\n",
    "    print(numero_invertido)\n",
    "\n",
    "reverter(127)"
   ]
  },
  {
   "cell_type": "markdown",
   "metadata": {},
   "source": [
    "3 - Escreva um script que pergunta ao usuário se ele deseja converter uma temperatura de grau Celsius para Fahrenheit ou vice-versa. Para cada opção, crie uma função."
   ]
  },
  {
   "cell_type": "code",
   "execution_count": null,
   "metadata": {},
   "outputs": [],
   "source": [
    "def temperatura(a,b):\n",
    "    if tipo == 'C':\n",
    "        conversao = (a * 1.8) + 32\n",
    "        print(f'A conversão de Celsius para Fahrenheit é {conversao:.2f}')\n",
    "    elif tipo == 'F':\n",
    "        conversao = (a - 32) / 1.8\n",
    "        print(f'A conversão de Fahrenheit para Celsius é {conversao:.2f}')\n",
    "    else:\n",
    "        print('Digite os valores corretamente')\n",
    "\n",
    "temp = int(input('Quantos graus está aí?'))\n",
    "tipo = str(input('Digite \"C\" para Celsius ou \"F\" para Fahrenheit: ')).upper()\n",
    "\n",
    "temperatura(temp,tipo)"
   ]
  },
  {
   "cell_type": "markdown",
   "metadata": {},
   "source": [
    "4 - Crie um programa que leia quanto dinheiro uma pessoa tem na carteira, e calcule quanto poderia comprar de cada moeda estrangeira. Considere a tabela de conversão abaixo:\n",
    "- Dólar Americano: R$ 4,91\n",
    "- Peso argentino: R$ 0,02\n",
    "- Dólar Australiano: R$ 3,18\n",
    "- Dólar Canadense: R$ 3,64\n",
    "- Franco Suiço: R$ 0,42\n",
    "- Euro: R$ 5,36\n",
    "- Libra Esterlina: R$ 6,21"
   ]
  },
  {
   "cell_type": "code",
   "execution_count": null,
   "metadata": {},
   "outputs": [],
   "source": [
    "def carteira(d):\n",
    "    dolamericano = d / 4.91\n",
    "    pesoargentino = d / 0.02\n",
    "    dolaustraliano = d / 3.18\n",
    "    dolcanadense =  d / 3.64\n",
    "    francosuico = d / 0.42\n",
    "    euro = d / 5.36\n",
    "    libraesterlina = d / 6.21\n",
    "    \n",
    "    print(f'Você tem {d:.2f} Reais, o que convertendo é:\\n{dolamericano:.2f} Dólares Americanos\\n{dolaustraliano:.2f} Dólares Australianos\\n{dolcanadense:.2f} Dólares Canadenses\\n{francosuico:.2f} Franco Suíços\\n{euro:.2f} Euros\\n{libraesterlina:.2f} Líbras Esterlinas')\n",
    "\n",
    "dinheiro = float(input('Quantos reais você tem na sua carteira?'))\n",
    "\n",
    "carteira(dinheiro)"
   ]
  },
  {
   "cell_type": "markdown",
   "metadata": {},
   "source": [
    "5 - Crie uma função chamada contar_vogais que recebe uma string como parâmetro. Implemente a lógica para contar o número de vogais na string e retorne o total de vogais. Solicite ao usuário para inserir uma frase e utilize a função para contar as vogais."
   ]
  },
  {
   "cell_type": "code",
   "execution_count": null,
   "metadata": {},
   "outputs": [],
   "source": [
    "def contar_vogais(f):\n",
    "    vogais = 'AEIOU'\n",
    "    total = 0\n",
    "\n",
    "    for c in f:\n",
    "        if c in vogais:\n",
    "            total += 1\n",
    "    print(total)\n",
    "\n",
    "frase = str(input('Digite uma frase que irei contar as vogais: ')).upper()\n",
    "\n",
    "contar_vogais(frase)"
   ]
  },
  {
   "cell_type": "markdown",
   "metadata": {},
   "source": [
    "6 - Vamos construir um jogo de forca. O programa escolherá aleatoriamente uma palavra secreta de uma lista definida. A palavra secreta será representada por espaços em branco, um para cada letra da palavra. O jogador terá um número limitado de 6 tentativas. Em cada tentativa, o jogador pode fornecer uma letra. Se a letra estiver presente na palavra secreta, ela será revelada nas posições correspondentes. Se a letra não estiver na palavra, uma mensagem de erro deverá ser informada. Após um número máximo de erros, o jogador perde. O jogo continua até que o jogador adivinhe a palavra ou exceda o número máximo de tentativas.\n",
    "\n",
    "Dica: Você precisará importar uma biblioteca para resolver esse exercício"
   ]
  },
  {
   "cell_type": "code",
   "execution_count": null,
   "metadata": {},
   "outputs": [],
   "source": [
    "# DESENVOLVER O MEU PROGRAMA AQUI"
   ]
  },
  {
   "cell_type": "code",
   "execution_count": null,
   "metadata": {},
   "outputs": [],
   "source": [
    "# PROGRAMA DESENVOLVIDO PELO CHAT GPT PARA ME AUXILIAR NO DESENVOLVIMENTO DO MEU PRÓPRIO PROGRAMA\n",
    "\n",
    "import random\n",
    "import csv\n",
    "\n",
    "# Função para carregar as palavras do arquivo CSV\n",
    "def carregar_palavras(arquivo):\n",
    "    with open(arquivo, 'r') as arquivo_csv:\n",
    "        leitor_csv = csv.reader(arquivo_csv)\n",
    "        return [palavra[0] for palavra in leitor_csv]\n",
    "\n",
    "# Função para selecionar uma palavra aleatória da lista\n",
    "def escolher_palavra(palavras):\n",
    "    return random.choice(palavras)\n",
    "\n",
    "# Função para exibir a palavra secreta com letras escondidas e letras reveladas\n",
    "def exibir_palavra_secreta(palavra, letras_reveladas):\n",
    "    palavra_mostrada = ''\n",
    "    for letra in palavra:\n",
    "        if letra in letras_reveladas:\n",
    "            palavra_mostrada += letra + ' '\n",
    "        else:\n",
    "            palavra_mostrada += '_ '\n",
    "    return palavra_mostrada.strip()\n",
    "\n",
    "# Função para verificar se uma letra está na palavra secreta\n",
    "def verificar_letra(letra, palavra):\n",
    "    return letra in palavra\n",
    "\n",
    "# Lógica principal do jogo\n",
    "def jogar_forca():\n",
    "    # Carrega as palavras do arquivo CSV\n",
    "    palavras = carregar_palavras('arquivoexercicios4.csv')\n",
    "    # Escolhe uma palavra aleatória da lista\n",
    "    palavra_secreta = escolher_palavra(palavras)\n",
    "    # Inicializa a lista de letras reveladas\n",
    "    letras_reveladas = []\n",
    "    # Contador de erros\n",
    "    erros = 0\n",
    "    # Número máximo de tentativas\n",
    "    max_tentativas = 6\n",
    "\n",
    "    # Loop principal do jogo\n",
    "    while True:\n",
    "        # Exibe a palavra secreta com letras escondidas e letras reveladas\n",
    "        print('\\nPalavra:', exibir_palavra_secreta(palavra_secreta, letras_reveladas))\n",
    "\n",
    "        # Verifica se o jogador ganhou\n",
    "        if '_' not in exibir_palavra_secreta(palavra_secreta, letras_reveladas):\n",
    "            print('\\nParabéns! Você adivinhou a palavra secreta:', palavra_secreta)\n",
    "            break\n",
    "\n",
    "        # Verifica se o jogador perdeu\n",
    "        if erros >= max_tentativas:\n",
    "            print('\\nVocê perdeu! A palavra secreta era:', palavra_secreta)\n",
    "            break\n",
    "\n",
    "        # Solicita ao jogador uma letra\n",
    "        letra = input('\\nDigite uma letra: ').lower()\n",
    "\n",
    "        # Verifica se a letra já foi tentada\n",
    "        if letra in letras_reveladas:\n",
    "            print('\\nVocê já tentou essa letra. Tente outra.')\n",
    "\n",
    "        # Verifica se a letra está na palavra secreta\n",
    "        elif verificar_letra(letra, palavra_secreta):\n",
    "            print('\\nLetra correta!')\n",
    "            letras_reveladas.append(letra)\n",
    "        else:\n",
    "            print('\\nLetra incorreta. Tente novamente.')\n",
    "            erros += 1\n",
    "\n",
    "# Inicia o jogo da forca\n",
    "jogar_forca()\n"
   ]
  }
 ],
 "metadata": {
  "kernelspec": {
   "display_name": "Python 3",
   "language": "python",
   "name": "python3"
  },
  "language_info": {
   "codemirror_mode": {
    "name": "ipython",
    "version": 3
   },
   "file_extension": ".py",
   "mimetype": "text/x-python",
   "name": "python",
   "nbconvert_exporter": "python",
   "pygments_lexer": "ipython3",
   "version": "3.9.6"
  }
 },
 "nbformat": 4,
 "nbformat_minor": 2
}
