{
 "cells": [
  {
   "cell_type": "markdown",
   "metadata": {},
   "source": [
    "1 - Crie uma classe que modele o objeto \"carro\".\n",
    "\n",
    "Um carro tem os seguintes atributos:\n",
    "- Ligado\n",
    "- Cor\n",
    "- Modelo\n",
    "- Velocidade\n",
    "\n",
    "Um carro tem os seguintes comportamentos:\n",
    "- Liga\n",
    "- Desliga\n",
    "- Acelera\n",
    "- Desacelera"
   ]
  },
  {
   "cell_type": "code",
   "execution_count": null,
   "metadata": {},
   "outputs": [],
   "source": [
    "class Carro():\n",
    "    def __init__(self):\n",
    "        self.ligado = False\n",
    "        self.cor = 'Preto'\n",
    "        self.modelo = 'Sedan'\n",
    "        self.velocidade = 0\n",
    "    \n",
    "    def ligar(self):\n",
    "        self.ligado = True\n",
    "\n",
    "    def desligar(self):\n",
    "        self.ligado = False\n",
    "        self.velocidade = 0\n",
    "    \n",
    "    def acelerar(self):\n",
    "        self.velocidade += 10\n",
    "\n",
    "    def desacelerar(self):\n",
    "        self.velocidade -= 10"
   ]
  },
  {
   "cell_type": "markdown",
   "metadata": {},
   "source": [
    "2 -  Crie uma instância da classe carro"
   ]
  },
  {
   "cell_type": "code",
   "execution_count": null,
   "metadata": {},
   "outputs": [],
   "source": [
    "carro_porshe = Carro()\n",
    "carro_porshe.cor = 'Vermelho'\n",
    "carro_porshe.modelo = 'Esportivo'\n",
    "\n",
    "print(carro_porshe.cor, carro_porshe.modelo)"
   ]
  },
  {
   "cell_type": "markdown",
   "metadata": {},
   "source": [
    "3 - Faça o carro \"andar\" utilizando os métodos de sua classe"
   ]
  },
  {
   "cell_type": "code",
   "execution_count": null,
   "metadata": {},
   "outputs": [],
   "source": [
    "carro_porshe.acelerar()\n",
    "\n",
    "print(carro_porshe.velocidade)"
   ]
  },
  {
   "cell_type": "markdown",
   "metadata": {},
   "source": [
    "4 - Faça o carro \"parar\" utilizando os métodos da sua classe"
   ]
  },
  {
   "cell_type": "code",
   "execution_count": null,
   "metadata": {},
   "outputs": [],
   "source": [
    "carro_porshe.desligar()\n",
    "\n",
    "print(carro_porshe.ligado, carro_porshe.velocidade)"
   ]
  }
 ],
 "metadata": {
  "kernelspec": {
   "display_name": "Python 3",
   "language": "python",
   "name": "python3"
  },
  "language_info": {
   "codemirror_mode": {
    "name": "ipython",
    "version": 3
   },
   "file_extension": ".py",
   "mimetype": "text/x-python",
   "name": "python",
   "nbconvert_exporter": "python",
   "pygments_lexer": "ipython3",
   "version": "3.9.6"
  }
 },
 "nbformat": 4,
 "nbformat_minor": 2
}
