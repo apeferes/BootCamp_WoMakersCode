{
 "cells": [
  {
   "cell_type": "markdown",
   "metadata": {},
   "source": [
    "1 - Faça um programa que peça dois números, realize as principais operações soma, subtração, multiplicação, divisão"
   ]
  },
  {
   "cell_type": "code",
   "execution_count": null,
   "metadata": {},
   "outputs": [],
   "source": [
    "num1 = float(input('Digite o primeiro número:'))\n",
    "num2 = float(input('Digite o segundo número: '))\n",
    "soma = num1 + num2\n",
    "subtracao = num1 - num2\n",
    "multiplicacao = num1 * num2\n",
    "divisao = num1 / num2\n",
    "print(f'Os números digitados foram {num1:.2f} e {num2:.2f}')\n",
    "print(f'A soma é {soma:.2f}, a subtração é {subtracao:.2f} a multiplicação é {multiplicacao:.2f} e a divisão é {divisao:.2f}')"
   ]
  },
  {
   "cell_type": "markdown",
   "metadata": {},
   "source": [
    "2 - Peça ao usuário para informar o ano de nascimento. Em seguida, calcule e imprima a idade atual"
   ]
  },
  {
   "cell_type": "code",
   "execution_count": null,
   "metadata": {},
   "outputs": [],
   "source": [
    "from datetime import date\n",
    "nascimento = int(input('Digite o ano do seu nascimento: '))\n",
    "idade = date.today().year - nascimento\n",
    "print(f'Sua idade é {idade}')"
   ]
  },
  {
   "cell_type": "markdown",
   "metadata": {},
   "source": [
    "3 - Faça um programa que peça a quantidade de quilômetros, transforme em metros, centímetros e milímetros"
   ]
  },
  {
   "cell_type": "code",
   "execution_count": null,
   "metadata": {},
   "outputs": [],
   "source": [
    "km = int(input('Digite a quantidade de quilometros'))\n",
    "metros = km * 1000\n",
    "centimetros = metros * 100\n",
    "milimetros = centimetros * 10\n",
    "print(f'{km} quilometros é {metros} metros, {centimetros} centímetros e {milimetros} milímetros')"
   ]
  },
  {
   "cell_type": "markdown",
   "metadata": {},
   "source": [
    "4 - Receba do usuário a quantidade de litros de combustível consumidos e a distância percorrida. Calcule e imprima o consumo médio em km/l"
   ]
  },
  {
   "cell_type": "code",
   "execution_count": null,
   "metadata": {},
   "outputs": [],
   "source": [
    "litros = int(input('Digite quantos litros de combustível consumido: '))\n",
    "distancia = int(input('Digite a distância percorrida: '))\n",
    "calculo = distancia / litros\n",
    "print(f'O consumo médio é {calculo:.0f} quilometros por litro')"
   ]
  },
  {
   "cell_type": "markdown",
   "metadata": {},
   "source": [
    "5 - Escreva um programa que calcule o tempo de uma viagem. Faça um comparativo do mesmo percurso de avião, carro e ônibus.\n",
    "Levando em consideração:\n",
    "- avião = 600km/h\n",
    "- carro = 100 km/h\n",
    "- ônibus = 80km/h"
   ]
  },
  {
   "cell_type": "code",
   "execution_count": null,
   "metadata": {},
   "outputs": [],
   "source": [
    "km = 1000\n",
    "aviao = km / 600\n",
    "carro = km / 100\n",
    "onibus = km / 80\n",
    "print(f'Essa viagem de avião duraria {aviao:.2f} horas')\n",
    "print(f'Essa viagem de carro duraria {carro:.2f} horas')\n",
    "print(f'Essa viagem de onibus duraria {onibus:.2f} horas')"
   ]
  },
  {
   "cell_type": "markdown",
   "metadata": {},
   "source": [
    "6 - Solicite ao usuário o peso em km e altura em metros. Calcule e imprima o Índice de Massa Comporal (IMC) usando a fórmula:\n",
    "IMC = peso / (altura x altura)"
   ]
  },
  {
   "cell_type": "code",
   "execution_count": null,
   "metadata": {},
   "outputs": [],
   "source": [
    "peso = float(input('Qual é o seu peso? '))\n",
    "altura = float(input('Qual é a sua altura? '))\n",
    "imc = peso / (altura*altura)\n",
    "print(f'O seu IMC é {imc:.0f}')"
   ]
  },
  {
   "cell_type": "markdown",
   "metadata": {},
   "source": [
    "7 - Faça um programa que pergunte quanto você ganha por hora e o número de horas trabalhadas no mês. Calcule e mostre o total do seu salário no referido mês"
   ]
  },
  {
   "cell_type": "code",
   "execution_count": null,
   "metadata": {},
   "outputs": [],
   "source": [
    "pilas = float(input('Quanto você ganha por hora? '))\n",
    "horas = float(input('Quantas horas você trabalha no mês? '))\n",
    "mes = pilas * horas\n",
    "print(f'Você ganha R${mes:.2f} por mês')"
   ]
  },
  {
   "cell_type": "markdown",
   "metadata": {},
   "source": [
    "8 - Solicite ao usuário o número de horas de exercício físico por semana. Calcule o total de calorias queimadas em um mês, considerando uma média de 5 calorias por minuto de exercício"
   ]
  },
  {
   "cell_type": "code",
   "execution_count": null,
   "metadata": {},
   "outputs": [],
   "source": [
    "horas = float(input('Quantas horas de exercício você faz por semana? '))\n",
    "caloriasmes = ((horas*4) *60) *5\n",
    "print(f'Você queima {caloriasmes:.0f} calorias durante um mês')"
   ]
  },
  {
   "cell_type": "markdown",
   "metadata": {},
   "source": [
    "9 - Faça um programa que utilize 4 variáveis como preferir e no final print uma mensagem amigável utilizando as variáveis criadas.\n",
    "- Exemplos de variáveis: nome, idade, lugar, profissão\n",
    "- Exemplo de retorno: Olá Maria, prazer te conhecer. Sou de São Paulo também e estou migrando de área.\n",
    "\n",
    "Lembrando que para o retorno vamos usar print com as variáveis criadas e este texto é somente um exemplo, utilizem a criatividade."
   ]
  },
  {
   "cell_type": "code",
   "execution_count": null,
   "metadata": {},
   "outputs": [],
   "source": [
    "nome = str(input('Qual é o seu nome? '))\n",
    "ano_que_nasceu = int(input('Em que ano você nasceu? '))\n",
    "onde_nasceu = str(input('E em que cidade você nasceu? '))\n",
    "salario = float(input('Qual é o seu salário atualmente? '))\n",
    "\n",
    "from datetime import date\n",
    "idade = date.today().year - ano_que_nasceu\n",
    "\n",
    "print(f'Olá, {nome}, tudo bem com você? Eu já conheci {onde_nasceu}, e achei um lugar incrível! Saiba que daqui a 10 anos, quando você tiver {idade+10} você pode estar ganhando o dobro do seu salário, que seria R${salario*2:.2f} se você aproveitar ao máximo o Bootcamp de Data Analytics do WooMakersCode!')"
   ]
  }
 ],
 "metadata": {
  "kernelspec": {
   "display_name": "Python 3",
   "language": "python",
   "name": "python3"
  },
  "language_info": {
   "codemirror_mode": {
    "name": "ipython",
    "version": 3
   },
   "file_extension": ".py",
   "mimetype": "text/x-python",
   "name": "python",
   "nbconvert_exporter": "python",
   "pygments_lexer": "ipython3",
   "version": "3.9.6"
  }
 },
 "nbformat": 4,
 "nbformat_minor": 2
}
