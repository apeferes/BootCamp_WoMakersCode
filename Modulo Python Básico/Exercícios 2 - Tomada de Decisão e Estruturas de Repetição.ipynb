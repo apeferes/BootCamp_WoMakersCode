{
 "cells": [
  {
   "cell_type": "markdown",
   "metadata": {},
   "source": [
    "1 - Faça um programa que peça dois números e imprima o maior deles"
   ]
  },
  {
   "cell_type": "code",
   "execution_count": null,
   "metadata": {},
   "outputs": [],
   "source": [
    "num1 = int(input('Digite um número: '))\n",
    "num2 = int(input('Digite mais um número: '))\n",
    "\n",
    "if num1 > num2:\n",
    "    print(f'O maior número é {num1}')\n",
    "else:\n",
    "    print(f'O maior número é {num2}')"
   ]
  },
  {
   "cell_type": "markdown",
   "metadata": {},
   "source": [
    "2 - Faça um programa que pergunte em que turno você estuda. Peça para digitar M-Matutino ou V-Vespertino ou N-Noturno. Imprima a mensagem \"Bom Dia!\", \"Boa Tarde!\" ou \"Boa Noite! ou \"Valor Inválido\", conforme o caso."
   ]
  },
  {
   "cell_type": "code",
   "execution_count": null,
   "metadata": {},
   "outputs": [],
   "source": [
    "turno = str(input('Qual é o turno que você estuda? Digite \"M\" para Matutino, \"V\" para Vespertino ou \"N\" para Noturno')).upper()\n",
    "\n",
    "if turno == \"M\":\n",
    "    print('Bom dia!')\n",
    "elif turno == \"V\":\n",
    "    print('Boa tarde!')\n",
    "elif turno == \"N\":\n",
    "    print('Boa noite!')\n",
    "else:\n",
    "    print(\"Valor Inválido\")"
   ]
  },
  {
   "cell_type": "markdown",
   "metadata": {},
   "source": [
    "3 - Faça um programa que peça uma nota, entre zero e dez. Mostre uma mensagem caso o valor seja inválido e continue pedindo até que o usuário informe um valor válido."
   ]
  },
  {
   "cell_type": "code",
   "execution_count": null,
   "metadata": {},
   "outputs": [],
   "source": [
    "nota = 11\n",
    "\n",
    "while nota < 0 or nota > 10:\n",
    "    nota = int(input('Digite uma nota de 0 a 10: '))\n",
    "\n",
    "print(f'Você digitou {nota}')"
   ]
  },
  {
   "cell_type": "markdown",
   "metadata": {},
   "source": [
    "4 - Implemente um programa que classifique um aluno com base em sua pontuação em um exame. O programa deverá solicitar uma nota de 0 a 10. Se a pontuação for mais ou igual a 7, o aluno é aprovado; caso contrário, é reprovado."
   ]
  },
  {
   "cell_type": "code",
   "execution_count": null,
   "metadata": {},
   "outputs": [],
   "source": [
    "nota = int(input('Digite a nota do aluno de 0 a 10: '))\n",
    "\n",
    "while nota <0 or nota >10:\n",
    "    nota = int(input('Digite uma nota de 0 a 10: '))\n",
    "\n",
    "if nota >= 7:\n",
    "    print(f'Aluno aprovado com nota {nota}')\n",
    "else:\n",
    "    print(f'Aluno reprovado com nota {nota}')"
   ]
  },
  {
   "cell_type": "markdown",
   "metadata": {},
   "source": [
    "5 - Desenvolva um programa que solicite ao usuário os comprimentos dos três lados de um triângulo e classifique-o como equilátero, isósceles ou escaleno.\n",
    "\n",
    "- Equilátero: todos os lados com o mesmo valor\n",
    "- Isósceles: dois lados com o mesmo valor\n",
    "- Escaleno: todos os lados com medidas distintas"
   ]
  },
  {
   "cell_type": "code",
   "execution_count": null,
   "metadata": {},
   "outputs": [],
   "source": [
    "lado1 = int(input('Digite o comprimento do primeiro lado: '))\n",
    "lado2 = int(input('Digite o comprimento do segundo lado: '))\n",
    "lado3 = int(input('Digite o comprimento do terceiro lado: '))\n",
    "\n",
    "if lado1 == lado2 == lado3:\n",
    "    print('Equiátero')\n",
    "elif lado1 == lado2 or lado2 == lado3 or lado3 == lado1:\n",
    "    print('Isósceles')\n",
    "else:\n",
    "    print('Escaleno')"
   ]
  },
  {
   "cell_type": "markdown",
   "metadata": {},
   "source": [
    "6 - Crie um programa que solicite ao usuário um login e uma senha. O programa deve permitir o acesso apenas se o usuário for \"admin\" e a senha for \"admin123\", caso contrário imprima uma mensagem de erro."
   ]
  },
  {
   "cell_type": "code",
   "execution_count": null,
   "metadata": {},
   "outputs": [],
   "source": [
    "usuario = str(input('Digite seu usuário: '))\n",
    "senha = str(input('Digite sua senha: '))\n",
    "\n",
    "if usuario == \"admin\" and senha == \"admin123\":\n",
    "    print('Acesso permitido')\n",
    "else:\n",
    "    print('Acesso negado')"
   ]
  },
  {
   "cell_type": "markdown",
   "metadata": {},
   "source": [
    "7 - Desenvolva um programa que solicite a idade do usuário e identifique se ele é uma criança, um adolescente, adulto ou idoso."
   ]
  },
  {
   "cell_type": "code",
   "execution_count": null,
   "metadata": {},
   "outputs": [],
   "source": [
    "idade = int(input('Qual é a sua idade? '))\n",
    "\n",
    "if idade < 16:\n",
    "    print('Você é uma criança')\n",
    "elif idade < 20:\n",
    "    print('Você é um adolescente')\n",
    "elif idade < 60:\n",
    "    print('Você é um adulto')\n",
    "else:\n",
    "    print('Você é um idoso')"
   ]
  },
  {
   "cell_type": "markdown",
   "metadata": {},
   "source": [
    "8 - Criar um programa em Python que solicite três números ao usuário, utilize estruturas condicionais para determinar o maior entre eles e apresente o resultado."
   ]
  },
  {
   "cell_type": "code",
   "execution_count": null,
   "metadata": {},
   "outputs": [],
   "source": [
    "num1 = int(input('Digite um número: '))\n",
    "num2 = int(input('Digite outro um número: '))\n",
    "num3 = int(input('Digite mais um número: '))\n",
    "\n",
    "max = 0\n",
    "\n",
    "if num1 > num2:\n",
    "    max = num1\n",
    "else:\n",
    "    max = num2\n",
    "\n",
    "if num3 > max:\n",
    "    max = num3\n",
    "\n",
    "print(f'O maior número é {max}')"
   ]
  },
  {
   "cell_type": "markdown",
   "metadata": {},
   "source": [
    "9 - O programa deve calcular e apresentar a quantidade de números pares e ímpares inseridos. O processo de leitura deve ser encerrado quando o usuário informar o valor zero. Certifique-se de incluir validações para garantir que apenas números positivos sejam considerados na contagem e cálculos."
   ]
  },
  {
   "cell_type": "code",
   "execution_count": null,
   "metadata": {},
   "outputs": [],
   "source": [
    "pares = -1\n",
    "impares = 0\n",
    "\n",
    "num = 1\n",
    "while num != 0:\n",
    "    num = int(input('Digite um número inteiro (digite 0 para parar)'))\n",
    "    if num % 2 == 0:\n",
    "        pares += 1\n",
    "    else:\n",
    "        impares += 1\n",
    "\n",
    "print(f'A quantidade de números pares digitados foi de {pares}')\n",
    "print(f'A quantidade de números ímpares é {impares}')"
   ]
  },
  {
   "cell_type": "markdown",
   "metadata": {},
   "source": [
    "10 - Faça um programa que lê três números inteiros e os mostra em ordem crescente."
   ]
  },
  {
   "cell_type": "code",
   "execution_count": null,
   "metadata": {},
   "outputs": [],
   "source": [
    "num1 = int(input('Digite 1/3 número: '))\n",
    "\n",
    "n1 = num1\n",
    "\n",
    "num2 = int(input('Digite 2/3 número: '))\n",
    "\n",
    "if num2 > n1:\n",
    "    n2 = n1\n",
    "    n1 = num2\n",
    "else:\n",
    "    n2 = num2\n",
    "\n",
    "num3 = int(input('Digite 3/3 número: '))\n",
    "\n",
    "if num3 > n1:\n",
    "    n3 = n2\n",
    "    n2 = n1\n",
    "    n1 = num3\n",
    "elif num3 > n2:\n",
    "    n3 = n2\n",
    "    n2 = num3\n",
    "else:\n",
    "    n3 = num3\n",
    "\n",
    "print(n1,n2,n3)"
   ]
  },
  {
   "cell_type": "markdown",
   "metadata": {},
   "source": [
    "11 - Escreva um programa que calcule o salário líquido. Lembrando de declarar o salário bruto e o percentual de desconto de Imposto de Renda.\n",
    "\n",
    "- Renda até R$ 1.903,98: isento de imposto de renda;\n",
    "- Renda entre R$ 1.903,99 e R$2.826,65: alíquota de 7,5%;\n",
    "- Renda entre R$ 2.826,66 e R$3.751,05: alíquota de 15%;\n",
    "- Renda entre R$ 3.751,06 e R$4.664,68: alíquota de 22%;\n",
    "- Renda acima R$ 4.664,68: alíquota de 27,5%"
   ]
  },
  {
   "cell_type": "code",
   "execution_count": null,
   "metadata": {},
   "outputs": [],
   "source": [
    "salario = float(input('Qual é o seu salário bruto? (com pontos) '))\n",
    "\n",
    "if salario <= 1903.98:\n",
    "    print(f'Seu salário líquido é de R${salario:.2f} com 0% de desconto de imposto de renda')\n",
    "elif salario <= 2826.65:\n",
    "    salarioliquido = salario * (1 - 0.075)\n",
    "    print(f'Seu salário líquido é de R${salario:.2f} e seu salário bruto é de R${salarioliquido:.2f} com 0,75% de desconto de imposto de renda')\n",
    "elif salario <= 3751.05:\n",
    "    salarioliquido = salario * (1 - 0.15)\n",
    "    print(f'Seu salário líquido é de R${salario:.2f} e seu salário bruto é de R${salarioliquido:.2f} com 15% de desconto de imposto de renda')\n",
    "elif salario <= 4664.68:\n",
    "    salarioliquido = salario * (1 - 0.225)\n",
    "    print(f'Seu salário líquido é de R${salario:.2f} e seu salário bruto é de R${salarioliquido:.2f} com 22,5% de desconto de imposto de renda')\n",
    "else:\n",
    "    salarioliquido = salario * (1 - 0.275)\n",
    "    print(f'Seu salário líquido é de R${salario:.2f} e seu salário bruto é de R${salarioliquido:.2f} com 27,5% de desconto de imposto de renda')"
   ]
  }
 ],
 "metadata": {
  "kernelspec": {
   "display_name": "Python 3",
   "language": "python",
   "name": "python3"
  },
  "language_info": {
   "codemirror_mode": {
    "name": "ipython",
    "version": 3
   },
   "file_extension": ".py",
   "mimetype": "text/x-python",
   "name": "python",
   "nbconvert_exporter": "python",
   "pygments_lexer": "ipython3",
   "version": "3.9.6"
  }
 },
 "nbformat": 4,
 "nbformat_minor": 2
}
